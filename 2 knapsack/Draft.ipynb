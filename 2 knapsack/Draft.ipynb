{
 "cells": [
  {
   "cell_type": "code",
   "execution_count": 1,
   "metadata": {},
   "outputs": [],
   "source": [
    "import numpy as np\n",
    "import os\n",
    "from numba import jit"
   ]
  },
  {
   "cell_type": "code",
   "execution_count": 2,
   "metadata": {},
   "outputs": [
    {
     "data": {
      "application/javascript": [
       "\n",
       "            setTimeout(function() {\n",
       "                var nbb_cell_id = 2;\n",
       "                var nbb_unformatted_code = \"%load_ext nb_black\";\n",
       "                var nbb_formatted_code = \"%load_ext nb_black\";\n",
       "                var nbb_cells = Jupyter.notebook.get_cells();\n",
       "                for (var i = 0; i < nbb_cells.length; ++i) {\n",
       "                    if (nbb_cells[i].input_prompt_number == nbb_cell_id) {\n",
       "                        if (nbb_cells[i].get_text() == nbb_unformatted_code) {\n",
       "                             nbb_cells[i].set_text(nbb_formatted_code);\n",
       "                        }\n",
       "                        break;\n",
       "                    }\n",
       "                }\n",
       "            }, 500);\n",
       "            "
      ],
      "text/plain": [
       "<IPython.core.display.Javascript object>"
      ]
     },
     "metadata": {},
     "output_type": "display_data"
    }
   ],
   "source": [
    "%load_ext nb_black"
   ]
  },
  {
   "cell_type": "code",
   "execution_count": 3,
   "metadata": {},
   "outputs": [
    {
     "data": {
      "application/javascript": [
       "\n",
       "            setTimeout(function() {\n",
       "                var nbb_cell_id = 3;\n",
       "                var nbb_unformatted_code = \"path = './data'\\nfiles = os.listdir(path)\";\n",
       "                var nbb_formatted_code = \"path = \\\"./data\\\"\\nfiles = os.listdir(path)\";\n",
       "                var nbb_cells = Jupyter.notebook.get_cells();\n",
       "                for (var i = 0; i < nbb_cells.length; ++i) {\n",
       "                    if (nbb_cells[i].input_prompt_number == nbb_cell_id) {\n",
       "                        if (nbb_cells[i].get_text() == nbb_unformatted_code) {\n",
       "                             nbb_cells[i].set_text(nbb_formatted_code);\n",
       "                        }\n",
       "                        break;\n",
       "                    }\n",
       "                }\n",
       "            }, 500);\n",
       "            "
      ],
      "text/plain": [
       "<IPython.core.display.Javascript object>"
      ]
     },
     "metadata": {},
     "output_type": "display_data"
    }
   ],
   "source": [
    "path = './data'\n",
    "files = os.listdir(path)\n"
   ]
  },
  {
   "cell_type": "code",
   "execution_count": 4,
   "metadata": {},
   "outputs": [
    {
     "name": "stdout",
     "output_type": "stream",
     "text": [
      "0 ks_10000_0\n",
      "1 ks_1000_0\n",
      "2 ks_100_0\n",
      "3 ks_100_1\n",
      "4 ks_100_2\n",
      "5 ks_106_0\n",
      "6 ks_19_0\n",
      "7 ks_200_0\n",
      "8 ks_200_1\n",
      "9 ks_300_0\n",
      "10 ks_30_0\n",
      "11 ks_400_0\n",
      "12 ks_40_0\n",
      "13 ks_45_0\n",
      "14 ks_4_0\n",
      "15 ks_500_0\n",
      "16 ks_50_0\n",
      "17 ks_50_1\n",
      "18 ks_60_0\n",
      "19 ks_82_0\n",
      "20 ks_lecture_dp_1\n",
      "21 ks_lecture_dp_2\n"
     ]
    },
    {
     "data": {
      "application/javascript": [
       "\n",
       "            setTimeout(function() {\n",
       "                var nbb_cell_id = 4;\n",
       "                var nbb_unformatted_code = \"for i, f in enumerate(files):\\n    print(i, f)\";\n",
       "                var nbb_formatted_code = \"for i, f in enumerate(files):\\n    print(i, f)\";\n",
       "                var nbb_cells = Jupyter.notebook.get_cells();\n",
       "                for (var i = 0; i < nbb_cells.length; ++i) {\n",
       "                    if (nbb_cells[i].input_prompt_number == nbb_cell_id) {\n",
       "                        if (nbb_cells[i].get_text() == nbb_unformatted_code) {\n",
       "                             nbb_cells[i].set_text(nbb_formatted_code);\n",
       "                        }\n",
       "                        break;\n",
       "                    }\n",
       "                }\n",
       "            }, 500);\n",
       "            "
      ],
      "text/plain": [
       "<IPython.core.display.Javascript object>"
      ]
     },
     "metadata": {},
     "output_type": "display_data"
    }
   ],
   "source": [
    "for i, f in enumerate(files):\n",
    "    print(i, f)"
   ]
  },
  {
   "cell_type": "code",
   "execution_count": 5,
   "metadata": {},
   "outputs": [
    {
     "data": {
      "application/javascript": [
       "\n",
       "            setTimeout(function() {\n",
       "                var nbb_cell_id = 5;\n",
       "                var nbb_unformatted_code = \"def parse_data(data):\\n    lines = data.split(\\\"\\\\n\\\")\\n    n, cap = lines[0].split()\\n    data = [line.split() for line in lines if len(line) > 0]\\n    n, cap = data.pop(0)\\n    return np.int(n), np.float(cap), np.array(data, dtype=float)\";\n",
       "                var nbb_formatted_code = \"def parse_data(data):\\n    lines = data.split(\\\"\\\\n\\\")\\n    n, cap = lines[0].split()\\n    data = [line.split() for line in lines if len(line) > 0]\\n    n, cap = data.pop(0)\\n    return np.int(n), np.float(cap), np.array(data, dtype=float)\";\n",
       "                var nbb_cells = Jupyter.notebook.get_cells();\n",
       "                for (var i = 0; i < nbb_cells.length; ++i) {\n",
       "                    if (nbb_cells[i].input_prompt_number == nbb_cell_id) {\n",
       "                        if (nbb_cells[i].get_text() == nbb_unformatted_code) {\n",
       "                             nbb_cells[i].set_text(nbb_formatted_code);\n",
       "                        }\n",
       "                        break;\n",
       "                    }\n",
       "                }\n",
       "            }, 500);\n",
       "            "
      ],
      "text/plain": [
       "<IPython.core.display.Javascript object>"
      ]
     },
     "metadata": {},
     "output_type": "display_data"
    }
   ],
   "source": [
    "def parse_data(data):\n",
    "    lines = data.split(\"\\n\")\n",
    "    n, cap = lines[0].split()\n",
    "    data = [line.split() for line in lines if len(line) > 0]\n",
    "    n, cap = data.pop(0)\n",
    "    return np.int(n), np.float(cap), np.array(data, dtype=float)"
   ]
  },
  {
   "cell_type": "code",
   "execution_count": 6,
   "metadata": {},
   "outputs": [
    {
     "data": {
      "application/javascript": [
       "\n",
       "            setTimeout(function() {\n",
       "                var nbb_cell_id = 6;\n",
       "                var nbb_unformatted_code = \"file = files[14]\\nwith open(os.path.join(path, file)) as fp:\\n    data = fp.read()\\n\\nn, K, data = parse_data(data)\\nvalues = data[:, 0]\\nweights = data[:, 1]\";\n",
       "                var nbb_formatted_code = \"file = files[14]\\nwith open(os.path.join(path, file)) as fp:\\n    data = fp.read()\\n\\nn, K, data = parse_data(data)\\nvalues = data[:, 0]\\nweights = data[:, 1]\";\n",
       "                var nbb_cells = Jupyter.notebook.get_cells();\n",
       "                for (var i = 0; i < nbb_cells.length; ++i) {\n",
       "                    if (nbb_cells[i].input_prompt_number == nbb_cell_id) {\n",
       "                        if (nbb_cells[i].get_text() == nbb_unformatted_code) {\n",
       "                             nbb_cells[i].set_text(nbb_formatted_code);\n",
       "                        }\n",
       "                        break;\n",
       "                    }\n",
       "                }\n",
       "            }, 500);\n",
       "            "
      ],
      "text/plain": [
       "<IPython.core.display.Javascript object>"
      ]
     },
     "metadata": {},
     "output_type": "display_data"
    }
   ],
   "source": [
    "file = files[14]\n",
    "with open(os.path.join(path, file)) as fp:\n",
    "    data = fp.read()\n",
    "\n",
    "n, K, data = parse_data(data)\n",
    "values = data[:, 0]\n",
    "weights = data[:, 1]"
   ]
  },
  {
   "cell_type": "code",
   "execution_count": null,
   "metadata": {},
   "outputs": [],
   "source": []
  },
  {
   "cell_type": "code",
   "execution_count": 7,
   "metadata": {},
   "outputs": [
    {
     "data": {
      "application/javascript": [
       "\n",
       "            setTimeout(function() {\n",
       "                var nbb_cell_id = 7;\n",
       "                var nbb_unformatted_code = \"def check_results(selection, weights, values, cap):\\n    assert (\\n        selection * weights\\n    ).sum() <= cap, f\\\"Too heavy!: The capacity is {cap} but the total weight is {(selection * weights).sum()}.\\\"\\n\\n\\ndef test_method(func, file):\\n    with open(os.path.join(path, file)) as fp:\\n        data = fp.read()\\n    n, K, data = parse_data(data)\\n    values = data[:, 0]\\n    weights = data[:, 1]\\n    print(f\\\"Total number: {n} \\\\nCapacity: {K}\\\")\\n    selection, weight, count, spare = func(values, weights, K)\\n    final_value = np.dot(selection, values)\\n    print(\\n        f\\\"Final Weight: {weight} \\\\nFinal Value: {final_value}\\\\nNumber of Items: {count}\\\\nSpare capacity: {spare}\\\"\\n    )\";\n",
       "                var nbb_formatted_code = \"def check_results(selection, weights, values, cap):\\n    assert (\\n        selection * weights\\n    ).sum() <= cap, f\\\"Too heavy!: The capacity is {cap} but the total weight is {(selection * weights).sum()}.\\\"\\n\\n\\ndef test_method(func, file):\\n    with open(os.path.join(path, file)) as fp:\\n        data = fp.read()\\n    n, K, data = parse_data(data)\\n    values = data[:, 0]\\n    weights = data[:, 1]\\n    print(f\\\"Total number: {n} \\\\nCapacity: {K}\\\")\\n    selection, weight, count, spare = func(values, weights, K)\\n    final_value = np.dot(selection, values)\\n    print(\\n        f\\\"Final Weight: {weight} \\\\nFinal Value: {final_value}\\\\nNumber of Items: {count}\\\\nSpare capacity: {spare}\\\"\\n    )\";\n",
       "                var nbb_cells = Jupyter.notebook.get_cells();\n",
       "                for (var i = 0; i < nbb_cells.length; ++i) {\n",
       "                    if (nbb_cells[i].input_prompt_number == nbb_cell_id) {\n",
       "                        if (nbb_cells[i].get_text() == nbb_unformatted_code) {\n",
       "                             nbb_cells[i].set_text(nbb_formatted_code);\n",
       "                        }\n",
       "                        break;\n",
       "                    }\n",
       "                }\n",
       "            }, 500);\n",
       "            "
      ],
      "text/plain": [
       "<IPython.core.display.Javascript object>"
      ]
     },
     "metadata": {},
     "output_type": "display_data"
    }
   ],
   "source": [
    "def check_results(selection, weights, values, cap):\n",
    "    assert (\n",
    "        selection * weights\n",
    "    ).sum() <= cap, f\"Too heavy!: The capacity is {cap} but the total weight is {(selection * weights).sum()}.\"\n",
    "\n",
    "\n",
    "def test_method(func, file):\n",
    "    with open(os.path.join(path, file)) as fp:\n",
    "        data = fp.read()\n",
    "    n, K, data = parse_data(data)\n",
    "    values = data[:, 0]\n",
    "    weights = data[:, 1]\n",
    "    print(f\"Total number: {n} \\nCapacity: {K}\")\n",
    "    selection, weight, count, spare = func(values, weights, K)\n",
    "    final_value = np.dot(selection, values)\n",
    "    print(\n",
    "        f\"Final Weight: {weight} \\nFinal Value: {final_value}\\nNumber of Items: {count}\\nSpare capacity: {spare}\"\n",
    "    )"
   ]
  },
  {
   "cell_type": "code",
   "execution_count": 8,
   "metadata": {},
   "outputs": [
    {
     "data": {
      "application/javascript": [
       "\n",
       "            setTimeout(function() {\n",
       "                var nbb_cell_id = 8;\n",
       "                var nbb_unformatted_code = \"def greedy_dens(values, weights, capacity):\\n    n = len(values)\\n    densities = values / weights\\n    idx = np.argsort(densities)\\n    ks_weight = 0\\n    selection = np.zeros(n)\\n    for i in reversed(idx):\\n        selection[i] = 1\\n        if np.sum(selection * weights) > capacity:\\n            selection[i] = 0\\n            break\\n    final_weight = np.sum(selection * weights)\\n    spare = capacity - final_weight\\n    return (\\n        selection.astype(int),\\n        np.sum(selection * weights).astype(int),\\n        np.sum(selection).astype(int),\\n        spare,\\n    )\\n\\n\\ndef greedy_dens2(values, weights, capacity):\\n    n = len(values)\\n    densities = values / weights\\n    idx = np.argsort(densities)\\n    ks_weight = 0\\n    selection = np.zeros(n)\\n    for i in reversed(idx):\\n        selection[i] = 1\\n        if np.sum(selection * weights) > capacity:\\n            selection[i] = 0\\n            continue\\n    final_weight = np.sum(selection * weights)\\n    spare = capacity - final_weight\\n    return (\\n        selection.astype(int),\\n        np.sum(selection * weights).astype(int),\\n        np.sum(selection).astype(int),\\n        spare,\\n    )\\n\\n\\n@jit\\ndef DynPj(values, weights, capacity):\\n    rows, cols = int(capacity) + 1, len(values) + 1\\n    mat = np.zeros((rows, cols))\\n    for row in range(rows):\\n        for col in range(1, cols):\\n\\n            i = col - 1\\n            wi = int(weights[i])\\n            vi = int(values[i])\\n            if row < wi:\\n                mat[row, col] = mat[row, col - 1]\\n            else:\\n                mat[row, col] = max(mat[row, col - 1], vi + mat[row - wi, col - 1])\\n    selection = np.zeros(len(values), dtype=int)\\n    row = rows - 1\\n    for c in range(len(values), 0, -1):\\n        if mat[row, c] != mat[row, c - 1]:\\n            selection[c - 1] = 1\\n            row = row - int(weights[c - 1])\\n\\n    #     return mat[-1, -1], selection\\n    final_weight = np.sum(selection * weights)\\n    final_value = np.sum(selection * values)\\n    #     if abs(final_value - mat[-1, -1]) > 1e-3:\\n    #         print(f\\\"***Warning: {np.sum(selection * values)} =/= {mat[-1,-1]}\\\")\\n    spare = capacity - final_weight\\n    return (\\n        selection.astype(int),\\n        np.sum(selection * weights).astype(int),\\n        np.sum(selection).astype(int),\\n        spare,\\n    )\\n\\n\\ndef DynP(values, weights, capacity):\\n    rows, cols = int(capacity) + 1, len(values) + 1\\n    mat = np.zeros((rows, cols))\\n    for row in range(rows):\\n        for col in range(1, cols):\\n\\n            i = col - 1\\n            wi = int(weights[i])\\n            vi = int(values[i])\\n            if row < wi:\\n                mat[row, col] = mat[row, col - 1]\\n            else:\\n                mat[row, col] = max(mat[row, col - 1], vi + mat[row - wi, col - 1])\\n    selection = np.zeros(len(values), dtype=int)\\n    row = rows - 1\\n    for c in range(len(values), 0, -1):\\n        if mat[row, c] != mat[row, c - 1]:\\n            selection[c - 1] = 1\\n            row = row - int(weights[c - 1])\\n\\n    #     return mat[-1, -1], selection\\n    final_weight = np.sum(selection * weights)\\n    final_value = np.sum(selection * values)\\n    #     if abs(final_value - mat[-1, -1]) > 1e-3:\\n    #         print(f\\\"***Warning: {np.sum(selection * values)} =/= {mat[-1,-1]}\\\")\\n    spare = capacity - final_weight\\n    return (\\n        selection.astype(int),\\n        np.sum(selection * weights).astype(int),\\n        np.sum(selection).astype(int),\\n        spare,\\n    )\\n\\n\\nfrom ortools.algorithms import pywrapknapsack_solver\\n\\n\\ndef ortoolopt(weights, values, cap):\\n    weights = [list(weights)]\\n    values = list(values)\\n    solver = pywrapknapsack_solver.KnapsackSolver(\\n        pywrapknapsack_solver.KnapsackSolver.KNAPSACK_MULTIDIMENSION_BRANCH_AND_BOUND_SOLVER,\\n        \\\"KnapsackExample\\\",\\n    )\\n    solver.Init(values, weights, [cap])\\n    computed_value = solver.Solve()\\n    packed_items = []\\n    packed_weights = []\\n    total_weight = 0\\n#     print(\\\"Total value =\\\", computed_value)\\n    for i in range(len(values)):\\n        if solver.BestSolutionContains(i):\\n            packed_items.append(i)\\n            packed_weights.append(weights[0][i])\\n            total_weight += weights[0][i]\\n    #     print(\\\"Total weight:\\\", total_weight)\\n    #     print(\\\"Packed items:\\\", packed_items)\\n    #     print(\\\"Packed_weights:\\\", packed_weights)\\n    selection = np.zeros(len(values))\\n    selection[packed_items] = 1\\n    return (\\n        selection.astype(int),\\n        total_weight,\\n        len(values),\\n        cap - total_weight,\\n    )\\n\\ndef LinearRelaxation(values, weights, capacity):\\n    n = len(values)\\n    densities = values / weights\\n    idx = np.argsort(densities)\\n    ks_weight = 0\\n    selection = np.zeros(n)\\n    for i in reversed(idx):\\n        selection[i] = 1\\n        if np.sum(selection * weights) > capacity:\\n            selection[i] = 0\\n            final_weight = (selection * weights).sum()\\n            spare = capacity - final_weight\\n            xi = spare / weights[i]\\n            final_value = (selection * values).sum() + xi * values[i]\\n            return final_value\";\n",
       "                var nbb_formatted_code = \"def greedy_dens(values, weights, capacity):\\n    n = len(values)\\n    densities = values / weights\\n    idx = np.argsort(densities)\\n    ks_weight = 0\\n    selection = np.zeros(n)\\n    for i in reversed(idx):\\n        selection[i] = 1\\n        if np.sum(selection * weights) > capacity:\\n            selection[i] = 0\\n            break\\n    final_weight = np.sum(selection * weights)\\n    spare = capacity - final_weight\\n    return (\\n        selection.astype(int),\\n        np.sum(selection * weights).astype(int),\\n        np.sum(selection).astype(int),\\n        spare,\\n    )\\n\\n\\ndef greedy_dens2(values, weights, capacity):\\n    n = len(values)\\n    densities = values / weights\\n    idx = np.argsort(densities)\\n    ks_weight = 0\\n    selection = np.zeros(n)\\n    for i in reversed(idx):\\n        selection[i] = 1\\n        if np.sum(selection * weights) > capacity:\\n            selection[i] = 0\\n            continue\\n    final_weight = np.sum(selection * weights)\\n    spare = capacity - final_weight\\n    return (\\n        selection.astype(int),\\n        np.sum(selection * weights).astype(int),\\n        np.sum(selection).astype(int),\\n        spare,\\n    )\\n\\n\\n@jit\\ndef DynPj(values, weights, capacity):\\n    rows, cols = int(capacity) + 1, len(values) + 1\\n    mat = np.zeros((rows, cols))\\n    for row in range(rows):\\n        for col in range(1, cols):\\n\\n            i = col - 1\\n            wi = int(weights[i])\\n            vi = int(values[i])\\n            if row < wi:\\n                mat[row, col] = mat[row, col - 1]\\n            else:\\n                mat[row, col] = max(mat[row, col - 1], vi + mat[row - wi, col - 1])\\n    selection = np.zeros(len(values), dtype=int)\\n    row = rows - 1\\n    for c in range(len(values), 0, -1):\\n        if mat[row, c] != mat[row, c - 1]:\\n            selection[c - 1] = 1\\n            row = row - int(weights[c - 1])\\n\\n    #     return mat[-1, -1], selection\\n    final_weight = np.sum(selection * weights)\\n    final_value = np.sum(selection * values)\\n    #     if abs(final_value - mat[-1, -1]) > 1e-3:\\n    #         print(f\\\"***Warning: {np.sum(selection * values)} =/= {mat[-1,-1]}\\\")\\n    spare = capacity - final_weight\\n    return (\\n        selection.astype(int),\\n        np.sum(selection * weights).astype(int),\\n        np.sum(selection).astype(int),\\n        spare,\\n    )\\n\\n\\ndef DynP(values, weights, capacity):\\n    rows, cols = int(capacity) + 1, len(values) + 1\\n    mat = np.zeros((rows, cols))\\n    for row in range(rows):\\n        for col in range(1, cols):\\n\\n            i = col - 1\\n            wi = int(weights[i])\\n            vi = int(values[i])\\n            if row < wi:\\n                mat[row, col] = mat[row, col - 1]\\n            else:\\n                mat[row, col] = max(mat[row, col - 1], vi + mat[row - wi, col - 1])\\n    selection = np.zeros(len(values), dtype=int)\\n    row = rows - 1\\n    for c in range(len(values), 0, -1):\\n        if mat[row, c] != mat[row, c - 1]:\\n            selection[c - 1] = 1\\n            row = row - int(weights[c - 1])\\n\\n    #     return mat[-1, -1], selection\\n    final_weight = np.sum(selection * weights)\\n    final_value = np.sum(selection * values)\\n    #     if abs(final_value - mat[-1, -1]) > 1e-3:\\n    #         print(f\\\"***Warning: {np.sum(selection * values)} =/= {mat[-1,-1]}\\\")\\n    spare = capacity - final_weight\\n    return (\\n        selection.astype(int),\\n        np.sum(selection * weights).astype(int),\\n        np.sum(selection).astype(int),\\n        spare,\\n    )\\n\\n\\nfrom ortools.algorithms import pywrapknapsack_solver\\n\\n\\ndef ortoolopt(weights, values, cap):\\n    weights = [list(weights)]\\n    values = list(values)\\n    solver = pywrapknapsack_solver.KnapsackSolver(\\n        pywrapknapsack_solver.KnapsackSolver.KNAPSACK_MULTIDIMENSION_BRANCH_AND_BOUND_SOLVER,\\n        \\\"KnapsackExample\\\",\\n    )\\n    solver.Init(values, weights, [cap])\\n    computed_value = solver.Solve()\\n    packed_items = []\\n    packed_weights = []\\n    total_weight = 0\\n    #     print(\\\"Total value =\\\", computed_value)\\n    for i in range(len(values)):\\n        if solver.BestSolutionContains(i):\\n            packed_items.append(i)\\n            packed_weights.append(weights[0][i])\\n            total_weight += weights[0][i]\\n    #     print(\\\"Total weight:\\\", total_weight)\\n    #     print(\\\"Packed items:\\\", packed_items)\\n    #     print(\\\"Packed_weights:\\\", packed_weights)\\n    selection = np.zeros(len(values))\\n    selection[packed_items] = 1\\n    return (\\n        selection.astype(int),\\n        total_weight,\\n        len(values),\\n        cap - total_weight,\\n    )\\n\\n\\ndef LinearRelaxation(values, weights, capacity):\\n    n = len(values)\\n    densities = values / weights\\n    idx = np.argsort(densities)\\n    ks_weight = 0\\n    selection = np.zeros(n)\\n    for i in reversed(idx):\\n        selection[i] = 1\\n        if np.sum(selection * weights) > capacity:\\n            selection[i] = 0\\n            final_weight = (selection * weights).sum()\\n            spare = capacity - final_weight\\n            xi = spare / weights[i]\\n            final_value = (selection * values).sum() + xi * values[i]\\n            return final_value\";\n",
       "                var nbb_cells = Jupyter.notebook.get_cells();\n",
       "                for (var i = 0; i < nbb_cells.length; ++i) {\n",
       "                    if (nbb_cells[i].input_prompt_number == nbb_cell_id) {\n",
       "                        if (nbb_cells[i].get_text() == nbb_unformatted_code) {\n",
       "                             nbb_cells[i].set_text(nbb_formatted_code);\n",
       "                        }\n",
       "                        break;\n",
       "                    }\n",
       "                }\n",
       "            }, 500);\n",
       "            "
      ],
      "text/plain": [
       "<IPython.core.display.Javascript object>"
      ]
     },
     "metadata": {},
     "output_type": "display_data"
    }
   ],
   "source": [
    "def greedy_dens(values, weights, capacity):\n",
    "    n = len(values)\n",
    "    densities = values / weights\n",
    "    idx = np.argsort(densities)\n",
    "    ks_weight = 0\n",
    "    selection = np.zeros(n)\n",
    "    for i in reversed(idx):\n",
    "        selection[i] = 1\n",
    "        if np.sum(selection * weights) > capacity:\n",
    "            selection[i] = 0\n",
    "            break\n",
    "    final_weight = np.sum(selection * weights)\n",
    "    spare = capacity - final_weight\n",
    "    return (\n",
    "        selection.astype(int),\n",
    "        np.sum(selection * weights).astype(int),\n",
    "        np.sum(selection).astype(int),\n",
    "        spare,\n",
    "    )\n",
    "\n",
    "\n",
    "def greedy_dens2(values, weights, capacity):\n",
    "    n = len(values)\n",
    "    densities = values / weights\n",
    "    idx = np.argsort(densities)\n",
    "    ks_weight = 0\n",
    "    selection = np.zeros(n)\n",
    "    for i in reversed(idx):\n",
    "        selection[i] = 1\n",
    "        if np.sum(selection * weights) > capacity:\n",
    "            selection[i] = 0\n",
    "            continue\n",
    "    final_weight = np.sum(selection * weights)\n",
    "    spare = capacity - final_weight\n",
    "    return (\n",
    "        selection.astype(int),\n",
    "        np.sum(selection * weights).astype(int),\n",
    "        np.sum(selection).astype(int),\n",
    "        spare,\n",
    "    )\n",
    "\n",
    "\n",
    "@jit\n",
    "def DynPj(values, weights, capacity):\n",
    "    rows, cols = int(capacity) + 1, len(values) + 1\n",
    "    mat = np.zeros((rows, cols))\n",
    "    for row in range(rows):\n",
    "        for col in range(1, cols):\n",
    "\n",
    "            i = col - 1\n",
    "            wi = int(weights[i])\n",
    "            vi = int(values[i])\n",
    "            if row < wi:\n",
    "                mat[row, col] = mat[row, col - 1]\n",
    "            else:\n",
    "                mat[row, col] = max(mat[row, col - 1], vi + mat[row - wi, col - 1])\n",
    "    selection = np.zeros(len(values), dtype=int)\n",
    "    row = rows - 1\n",
    "    for c in range(len(values), 0, -1):\n",
    "        if mat[row, c] != mat[row, c - 1]:\n",
    "            selection[c - 1] = 1\n",
    "            row = row - int(weights[c - 1])\n",
    "\n",
    "    #     return mat[-1, -1], selection\n",
    "    final_weight = np.sum(selection * weights)\n",
    "    final_value = np.sum(selection * values)\n",
    "    #     if abs(final_value - mat[-1, -1]) > 1e-3:\n",
    "    #         print(f\"***Warning: {np.sum(selection * values)} =/= {mat[-1,-1]}\")\n",
    "    spare = capacity - final_weight\n",
    "    return (\n",
    "        selection.astype(int),\n",
    "        np.sum(selection * weights).astype(int),\n",
    "        np.sum(selection).astype(int),\n",
    "        spare,\n",
    "    )\n",
    "\n",
    "\n",
    "def DynP(values, weights, capacity):\n",
    "    rows, cols = int(capacity) + 1, len(values) + 1\n",
    "    mat = np.zeros((rows, cols))\n",
    "    for row in range(rows):\n",
    "        for col in range(1, cols):\n",
    "\n",
    "            i = col - 1\n",
    "            wi = int(weights[i])\n",
    "            vi = int(values[i])\n",
    "            if row < wi:\n",
    "                mat[row, col] = mat[row, col - 1]\n",
    "            else:\n",
    "                mat[row, col] = max(mat[row, col - 1], vi + mat[row - wi, col - 1])\n",
    "    selection = np.zeros(len(values), dtype=int)\n",
    "    row = rows - 1\n",
    "    for c in range(len(values), 0, -1):\n",
    "        if mat[row, c] != mat[row, c - 1]:\n",
    "            selection[c - 1] = 1\n",
    "            row = row - int(weights[c - 1])\n",
    "\n",
    "    #     return mat[-1, -1], selection\n",
    "    final_weight = np.sum(selection * weights)\n",
    "    final_value = np.sum(selection * values)\n",
    "    #     if abs(final_value - mat[-1, -1]) > 1e-3:\n",
    "    #         print(f\"***Warning: {np.sum(selection * values)} =/= {mat[-1,-1]}\")\n",
    "    spare = capacity - final_weight\n",
    "    return (\n",
    "        selection.astype(int),\n",
    "        np.sum(selection * weights).astype(int),\n",
    "        np.sum(selection).astype(int),\n",
    "        spare,\n",
    "    )\n",
    "\n",
    "\n",
    "from ortools.algorithms import pywrapknapsack_solver\n",
    "\n",
    "\n",
    "def ortoolopt(weights, values, cap):\n",
    "    weights = [list(weights)]\n",
    "    values = list(values)\n",
    "    solver = pywrapknapsack_solver.KnapsackSolver(\n",
    "        pywrapknapsack_solver.KnapsackSolver.KNAPSACK_MULTIDIMENSION_BRANCH_AND_BOUND_SOLVER,\n",
    "        \"KnapsackExample\",\n",
    "    )\n",
    "    solver.Init(values, weights, [cap])\n",
    "    computed_value = solver.Solve()\n",
    "    packed_items = []\n",
    "    packed_weights = []\n",
    "    total_weight = 0\n",
    "#     print(\"Total value =\", computed_value)\n",
    "    for i in range(len(values)):\n",
    "        if solver.BestSolutionContains(i):\n",
    "            packed_items.append(i)\n",
    "            packed_weights.append(weights[0][i])\n",
    "            total_weight += weights[0][i]\n",
    "    #     print(\"Total weight:\", total_weight)\n",
    "    #     print(\"Packed items:\", packed_items)\n",
    "    #     print(\"Packed_weights:\", packed_weights)\n",
    "    selection = np.zeros(len(values))\n",
    "    selection[packed_items] = 1\n",
    "    return (\n",
    "        selection.astype(int),\n",
    "        total_weight,\n",
    "        len(values),\n",
    "        cap - total_weight,\n",
    "    )\n",
    "\n",
    "def LinearRelaxation(values, weights, capacity):\n",
    "    n = len(values)\n",
    "    densities = values / weights\n",
    "    idx = np.argsort(densities)\n",
    "    ks_weight = 0\n",
    "    selection = np.zeros(n)\n",
    "    for i in reversed(idx):\n",
    "        selection[i] = 1\n",
    "        if np.sum(selection * weights) > capacity:\n",
    "            selection[i] = 0\n",
    "            final_weight = (selection * weights).sum()\n",
    "            spare = capacity - final_weight\n",
    "            xi = spare / weights[i]\n",
    "            final_value = (selection * values).sum() + xi * values[i]\n",
    "            return final_value\n"
   ]
  },
  {
   "cell_type": "code",
   "execution_count": 14,
   "metadata": {},
   "outputs": [
    {
     "name": "stdout",
     "output_type": "stream",
     "text": [
      "999999.0\n",
      "[0 0 0 ... 0 0 0]\n",
      "999999.0 1000000.0\n"
     ]
    },
    {
     "data": {
      "application/javascript": [
       "\n",
       "            setTimeout(function() {\n",
       "                var nbb_cell_id = 14;\n",
       "                var nbb_unformatted_code = \"file = files[0]\\nwith open(os.path.join(path, file)) as fp:\\n    data = fp.read()\\n\\nn, K, data = parse_data(data)\\nvalues = data[:, 0]\\nweights = data[:, 1]\\nselection, weight, count, spare = ortoolopt(values, weights, K)\\nprint(np.dot(selection, values))\\nprint(selection)\\nprint(weight, K)\";\n",
       "                var nbb_formatted_code = \"file = files[0]\\nwith open(os.path.join(path, file)) as fp:\\n    data = fp.read()\\n\\nn, K, data = parse_data(data)\\nvalues = data[:, 0]\\nweights = data[:, 1]\\nselection, weight, count, spare = ortoolopt(values, weights, K)\\nprint(np.dot(selection, values))\\nprint(selection)\\nprint(weight, K)\";\n",
       "                var nbb_cells = Jupyter.notebook.get_cells();\n",
       "                for (var i = 0; i < nbb_cells.length; ++i) {\n",
       "                    if (nbb_cells[i].input_prompt_number == nbb_cell_id) {\n",
       "                        if (nbb_cells[i].get_text() == nbb_unformatted_code) {\n",
       "                             nbb_cells[i].set_text(nbb_formatted_code);\n",
       "                        }\n",
       "                        break;\n",
       "                    }\n",
       "                }\n",
       "            }, 500);\n",
       "            "
      ],
      "text/plain": [
       "<IPython.core.display.Javascript object>"
      ]
     },
     "metadata": {},
     "output_type": "display_data"
    }
   ],
   "source": [
    "file = files[0]\n",
    "with open(os.path.join(path, file)) as fp:\n",
    "    data = fp.read()\n",
    "\n",
    "n, K, data = parse_data(data)\n",
    "values = data[:, 0]\n",
    "weights = data[:, 1]\n",
    "selection, weight, count, spare = ortoolopt(values, weights, K)\n",
    "print(np.dot(selection, values))\n",
    "print(selection)\n",
    "print(weight, K)"
   ]
  },
  {
   "cell_type": "code",
   "execution_count": 13,
   "metadata": {},
   "outputs": [
    {
     "ename": "MemoryError",
     "evalue": "Unable to allocate 74.5 GiB for an array with shape (1000001, 10001) and data type float64",
     "output_type": "error",
     "traceback": [
      "\u001b[1;31m---------------------------------------------------------------------------\u001b[0m",
      "\u001b[1;31mMemoryError\u001b[0m                               Traceback (most recent call last)",
      "\u001b[1;32m<ipython-input-13-df5aa5227e79>\u001b[0m in \u001b[0;36m<module>\u001b[1;34m\u001b[0m\n\u001b[0;32m      6\u001b[0m \u001b[0mvalues\u001b[0m \u001b[1;33m=\u001b[0m \u001b[0mdata\u001b[0m\u001b[1;33m[\u001b[0m\u001b[1;33m:\u001b[0m\u001b[1;33m,\u001b[0m \u001b[1;36m0\u001b[0m\u001b[1;33m]\u001b[0m\u001b[1;33m\u001b[0m\u001b[1;33m\u001b[0m\u001b[0m\n\u001b[0;32m      7\u001b[0m \u001b[0mweights\u001b[0m \u001b[1;33m=\u001b[0m \u001b[0mdata\u001b[0m\u001b[1;33m[\u001b[0m\u001b[1;33m:\u001b[0m\u001b[1;33m,\u001b[0m \u001b[1;36m1\u001b[0m\u001b[1;33m]\u001b[0m\u001b[1;33m\u001b[0m\u001b[1;33m\u001b[0m\u001b[0m\n\u001b[1;32m----> 8\u001b[1;33m \u001b[0mselection\u001b[0m\u001b[1;33m,\u001b[0m \u001b[0mweight\u001b[0m\u001b[1;33m,\u001b[0m \u001b[0mcount\u001b[0m\u001b[1;33m,\u001b[0m \u001b[0mspare\u001b[0m \u001b[1;33m=\u001b[0m \u001b[0mDynPj\u001b[0m\u001b[1;33m(\u001b[0m\u001b[0mvalues\u001b[0m\u001b[1;33m,\u001b[0m \u001b[0mweights\u001b[0m\u001b[1;33m,\u001b[0m \u001b[0mK\u001b[0m\u001b[1;33m)\u001b[0m\u001b[1;33m\u001b[0m\u001b[1;33m\u001b[0m\u001b[0m\n\u001b[0m\u001b[0;32m      9\u001b[0m \u001b[0mprint\u001b[0m\u001b[1;33m(\u001b[0m\u001b[0mnp\u001b[0m\u001b[1;33m.\u001b[0m\u001b[0mdot\u001b[0m\u001b[1;33m(\u001b[0m\u001b[0mselection\u001b[0m\u001b[1;33m,\u001b[0m \u001b[0mvalues\u001b[0m\u001b[1;33m)\u001b[0m\u001b[1;33m)\u001b[0m\u001b[1;33m\u001b[0m\u001b[1;33m\u001b[0m\u001b[0m\n\u001b[0;32m     10\u001b[0m \u001b[0mprint\u001b[0m\u001b[1;33m(\u001b[0m\u001b[0mselection\u001b[0m\u001b[1;33m)\u001b[0m\u001b[1;33m\u001b[0m\u001b[1;33m\u001b[0m\u001b[0m\n",
      "\u001b[1;31mMemoryError\u001b[0m: Unable to allocate 74.5 GiB for an array with shape (1000001, 10001) and data type float64"
     ]
    },
    {
     "data": {
      "application/javascript": [
       "\n",
       "            setTimeout(function() {\n",
       "                var nbb_cell_id = 13;\n",
       "                var nbb_unformatted_code = \"file = files[0]\\nwith open(os.path.join(path, file)) as fp:\\n    data = fp.read()\\n\\nn, K, data = parse_data(data)\\nvalues = data[:, 0]\\nweights = data[:, 1]\\nselection, weight, count, spare = DynPj(values, weights, K)\\nprint(np.dot(selection, values))\\nprint(selection)\";\n",
       "                var nbb_formatted_code = \"file = files[0]\\nwith open(os.path.join(path, file)) as fp:\\n    data = fp.read()\\n\\nn, K, data = parse_data(data)\\nvalues = data[:, 0]\\nweights = data[:, 1]\\nselection, weight, count, spare = DynPj(values, weights, K)\\nprint(np.dot(selection, values))\\nprint(selection)\";\n",
       "                var nbb_cells = Jupyter.notebook.get_cells();\n",
       "                for (var i = 0; i < nbb_cells.length; ++i) {\n",
       "                    if (nbb_cells[i].input_prompt_number == nbb_cell_id) {\n",
       "                        if (nbb_cells[i].get_text() == nbb_unformatted_code) {\n",
       "                             nbb_cells[i].set_text(nbb_formatted_code);\n",
       "                        }\n",
       "                        break;\n",
       "                    }\n",
       "                }\n",
       "            }, 500);\n",
       "            "
      ],
      "text/plain": [
       "<IPython.core.display.Javascript object>"
      ]
     },
     "metadata": {},
     "output_type": "display_data"
    }
   ],
   "source": [
    "file = files[0]\n",
    "with open(os.path.join(path, file)) as fp:\n",
    "    data = fp.read()\n",
    "\n",
    "n, K, data = parse_data(data)\n",
    "values = data[:, 0]\n",
    "weights = data[:, 1]\n",
    "selection, weight, count, spare = DynPj(values, weights, K)\n",
    "print(np.dot(selection, values))\n",
    "print(selection)"
   ]
  },
  {
   "cell_type": "code",
   "execution_count": 43,
   "metadata": {},
   "outputs": [
    {
     "name": "stdout",
     "output_type": "stream",
     "text": [
      "0 ks_10000_0\n",
      "1 ks_1000_0\n",
      "2 ks_100_0\n",
      "3 ks_100_1\n",
      "4 ks_100_2\n",
      "5 ks_106_0\n",
      "6 ks_19_0\n",
      "7 ks_200_0\n",
      "8 ks_200_1\n",
      "9 ks_300_0\n",
      "10 ks_30_0\n",
      "11 ks_400_0\n",
      "12 ks_40_0\n",
      "13 ks_45_0\n",
      "14 ks_4_0\n",
      "15 ks_500_0\n",
      "16 ks_50_0\n",
      "17 ks_50_1\n",
      "18 ks_60_0\n",
      "19 ks_82_0\n",
      "20 ks_lecture_dp_1\n",
      "21 ks_lecture_dp_2\n"
     ]
    },
    {
     "data": {
      "application/javascript": [
       "\n",
       "            setTimeout(function() {\n",
       "                var nbb_cell_id = 43;\n",
       "                var nbb_unformatted_code = \"for i, f in enumerate(files):\\n    print(i, f)\";\n",
       "                var nbb_formatted_code = \"for i, f in enumerate(files):\\n    print(i, f)\";\n",
       "                var nbb_cells = Jupyter.notebook.get_cells();\n",
       "                for (var i = 0; i < nbb_cells.length; ++i) {\n",
       "                    if (nbb_cells[i].input_prompt_number == nbb_cell_id) {\n",
       "                        if (nbb_cells[i].get_text() == nbb_unformatted_code) {\n",
       "                             nbb_cells[i].set_text(nbb_formatted_code);\n",
       "                        }\n",
       "                        break;\n",
       "                    }\n",
       "                }\n",
       "            }, 500);\n",
       "            "
      ],
      "text/plain": [
       "<IPython.core.display.Javascript object>"
      ]
     },
     "metadata": {},
     "output_type": "display_data"
    }
   ],
   "source": [
    "for i, f in enumerate(files):\n",
    "    print(i, f)"
   ]
  },
  {
   "cell_type": "code",
   "execution_count": null,
   "metadata": {},
   "outputs": [],
   "source": [
    "%%time \n",
    "test_method(ortoolopt,files[5])"
   ]
  },
  {
   "cell_type": "code",
   "execution_count": 42,
   "metadata": {},
   "outputs": [
    {
     "name": "stdout",
     "output_type": "stream",
     "text": [
      "Total number: 200 \n",
      "Capacity: 100000.0\n"
     ]
    },
    {
     "name": "stderr",
     "output_type": "stream",
     "text": [
      "<ipython-input-39-3b78f3bb29e3>:43: NumbaWarning: \u001b[1m\n",
      "Compilation is falling back to object mode WITH looplifting enabled because Function \"DynPj\" failed type inference due to: \u001b[1m\u001b[1m\u001b[1mNo implementation of function Function(<built-in function zeros>) found for signature:\n",
      " \n",
      " >>> zeros(int64, dtype=Function(<class 'int'>))\n",
      " \n",
      "There are 2 candidate implementations:\n",
      "\u001b[1m      - Of which 2 did not match due to:\n",
      "      Overload of function 'zeros': File: numba\\core\\typing\\npydecl.py: Line 526.\n",
      "        With argument(s): '(int64, dtype=Function(<class 'int'>))':\u001b[0m\n",
      "\u001b[1m       No match.\u001b[0m\n",
      "\u001b[0m\n",
      "\u001b[0m\u001b[1mDuring: resolving callee type: Function(<built-in function zeros>)\u001b[0m\n",
      "\u001b[0m\u001b[1mDuring: typing of call at <ipython-input-39-3b78f3bb29e3> (57)\n",
      "\u001b[0m\n",
      "\u001b[1m\n",
      "File \"<ipython-input-39-3b78f3bb29e3>\", line 57:\u001b[0m\n",
      "\u001b[1mdef DynPj(values, weights, capacity):\n",
      "    <source elided>\n",
      "                mat[row, col] = max(mat[row, col - 1], vi + mat[row - wi, col - 1])\n",
      "\u001b[1m    selection = np.zeros(len(values), dtype=int)\n",
      "\u001b[0m    \u001b[1m^\u001b[0m\u001b[0m\n",
      "\u001b[0m\n",
      "  @jit\n",
      "<ipython-input-39-3b78f3bb29e3>:43: NumbaWarning: \u001b[1m\n",
      "Compilation is falling back to object mode WITHOUT looplifting enabled because Function \"DynPj\" failed type inference due to: \u001b[1m\u001b[1mcannot determine Numba type of <class 'numba.core.dispatcher.LiftedLoop'>\u001b[0m\n",
      "\u001b[1m\n",
      "File \"<ipython-input-39-3b78f3bb29e3>\", line 47:\u001b[0m\n",
      "\u001b[1mdef DynPj(values, weights, capacity):\n",
      "    <source elided>\n",
      "    mat = np.zeros((rows, cols))\n",
      "\u001b[1m    for row in range(rows):\n",
      "\u001b[0m    \u001b[1m^\u001b[0m\u001b[0m\n",
      "\u001b[0m\u001b[0m\n",
      "  @jit\n",
      "C:\\Users\\pooya\\anaconda3\\lib\\site-packages\\numba\\core\\object_mode_passes.py:177: NumbaWarning: \u001b[1mFunction \"DynPj\" was compiled in object mode without forceobj=True, but has lifted loops.\n",
      "\u001b[1m\n",
      "File \"<ipython-input-39-3b78f3bb29e3>\", line 45:\u001b[0m\n",
      "\u001b[1mdef DynPj(values, weights, capacity):\n",
      "\u001b[1m    rows, cols = int(capacity) + 1, len(values) + 1\n",
      "\u001b[0m    \u001b[1m^\u001b[0m\u001b[0m\n",
      "\u001b[0m\n",
      "  warnings.warn(errors.NumbaWarning(warn_msg,\n",
      "C:\\Users\\pooya\\anaconda3\\lib\\site-packages\\numba\\core\\object_mode_passes.py:187: NumbaDeprecationWarning: \u001b[1m\n",
      "Fall-back from the nopython compilation path to the object mode compilation path has been detected, this is deprecated behaviour.\n",
      "\n",
      "For more information visit http://numba.pydata.org/numba-doc/latest/reference/deprecation.html#deprecation-of-object-mode-fall-back-behaviour-when-using-jit\n",
      "\u001b[1m\n",
      "File \"<ipython-input-39-3b78f3bb29e3>\", line 45:\u001b[0m\n",
      "\u001b[1mdef DynPj(values, weights, capacity):\n",
      "\u001b[1m    rows, cols = int(capacity) + 1, len(values) + 1\n",
      "\u001b[0m    \u001b[1m^\u001b[0m\u001b[0m\n",
      "\u001b[0m\n",
      "  warnings.warn(errors.NumbaDeprecationWarning(msg,\n",
      "<ipython-input-39-3b78f3bb29e3>:43: NumbaWarning: \u001b[1m\n",
      "Compilation is falling back to object mode WITHOUT looplifting enabled because Function \"DynPj\" failed type inference due to: \u001b[1m\u001b[1m\u001b[1mNo implementation of function Function(<built-in function zeros>) found for signature:\n",
      " \n",
      " >>> zeros(int64, dtype=Function(<class 'int'>))\n",
      " \n",
      "There are 2 candidate implementations:\n",
      "\u001b[1m      - Of which 2 did not match due to:\n",
      "      Overload of function 'zeros': File: numba\\core\\typing\\npydecl.py: Line 526.\n",
      "        With argument(s): '(int64, dtype=Function(<class 'int'>))':\u001b[0m\n",
      "\u001b[1m       No match.\u001b[0m\n",
      "\u001b[0m\n",
      "\u001b[0m\u001b[1mDuring: resolving callee type: Function(<built-in function zeros>)\u001b[0m\n",
      "\u001b[0m\u001b[1mDuring: typing of call at <ipython-input-39-3b78f3bb29e3> (57)\n",
      "\u001b[0m\n",
      "\u001b[1m\n",
      "File \"<ipython-input-39-3b78f3bb29e3>\", line 57:\u001b[0m\n",
      "\u001b[1mdef DynPj(values, weights, capacity):\n",
      "    <source elided>\n",
      "                mat[row, col] = max(mat[row, col - 1], vi + mat[row - wi, col - 1])\n",
      "\u001b[1m    selection = np.zeros(len(values), dtype=int)\n",
      "\u001b[0m    \u001b[1m^\u001b[0m\u001b[0m\n",
      "\u001b[0m\n",
      "  @jit\n",
      "C:\\Users\\pooya\\anaconda3\\lib\\site-packages\\numba\\core\\object_mode_passes.py:177: NumbaWarning: \u001b[1mFunction \"DynPj\" was compiled in object mode without forceobj=True.\n",
      "\u001b[1m\n",
      "File \"<ipython-input-39-3b78f3bb29e3>\", line 57:\u001b[0m\n",
      "\u001b[1mdef DynPj(values, weights, capacity):\n",
      "    <source elided>\n",
      "                mat[row, col] = max(mat[row, col - 1], vi + mat[row - wi, col - 1])\n",
      "\u001b[1m    selection = np.zeros(len(values), dtype=int)\n",
      "\u001b[0m    \u001b[1m^\u001b[0m\u001b[0m\n",
      "\u001b[0m\n",
      "  warnings.warn(errors.NumbaWarning(warn_msg,\n",
      "C:\\Users\\pooya\\anaconda3\\lib\\site-packages\\numba\\core\\object_mode_passes.py:187: NumbaDeprecationWarning: \u001b[1m\n",
      "Fall-back from the nopython compilation path to the object mode compilation path has been detected, this is deprecated behaviour.\n",
      "\n",
      "For more information visit http://numba.pydata.org/numba-doc/latest/reference/deprecation.html#deprecation-of-object-mode-fall-back-behaviour-when-using-jit\n",
      "\u001b[1m\n",
      "File \"<ipython-input-39-3b78f3bb29e3>\", line 57:\u001b[0m\n",
      "\u001b[1mdef DynPj(values, weights, capacity):\n",
      "    <source elided>\n",
      "                mat[row, col] = max(mat[row, col - 1], vi + mat[row - wi, col - 1])\n",
      "\u001b[1m    selection = np.zeros(len(values), dtype=int)\n",
      "\u001b[0m    \u001b[1m^\u001b[0m\u001b[0m\n",
      "\u001b[0m\n",
      "  warnings.warn(errors.NumbaDeprecationWarning(msg,\n"
     ]
    },
    {
     "name": "stdout",
     "output_type": "stream",
     "text": [
      "Final Weight: 99993 \n",
      "Final Value: 100236.0\n",
      "Number of Items: 4\n",
      "Spare capacity: 7.0\n",
      "Wall time: 1.17 s\n"
     ]
    },
    {
     "data": {
      "application/javascript": [
       "\n",
       "            setTimeout(function() {\n",
       "                var nbb_cell_id = 42;\n",
       "                var nbb_unformatted_code = \"%%time\\ntest_method(DynPj, files[7])\";\n",
       "                var nbb_formatted_code = \"%%time\\ntest_method(DynPj, files[7])\";\n",
       "                var nbb_cells = Jupyter.notebook.get_cells();\n",
       "                for (var i = 0; i < nbb_cells.length; ++i) {\n",
       "                    if (nbb_cells[i].input_prompt_number == nbb_cell_id) {\n",
       "                        if (nbb_cells[i].get_text() == nbb_unformatted_code) {\n",
       "                             nbb_cells[i].set_text(nbb_formatted_code);\n",
       "                        }\n",
       "                        break;\n",
       "                    }\n",
       "                }\n",
       "            }, 500);\n",
       "            "
      ],
      "text/plain": [
       "<IPython.core.display.Javascript object>"
      ]
     },
     "metadata": {},
     "output_type": "display_data"
    }
   ],
   "source": [
    "%%time\n",
    "test_method(DynPj, files[7])"
   ]
  },
  {
   "cell_type": "code",
   "execution_count": 181,
   "metadata": {},
   "outputs": [
    {
     "name": "stdout",
     "output_type": "stream",
     "text": [
      "Total number: 200 \n",
      "Capacity: 100000.0\n",
      "Final Weight: 99993 \n",
      "Final Value: 100236.0\n",
      "Number of Items: 4\n",
      "Spare capacity: 7.0\n",
      "Wall time: 22.3 s\n"
     ]
    },
    {
     "data": {
      "application/javascript": [
       "\n",
       "            setTimeout(function() {\n",
       "                var nbb_cell_id = 181;\n",
       "                var nbb_unformatted_code = \"%%time\\ntest_method(DynP, files[7])\";\n",
       "                var nbb_formatted_code = \"%%time\\ntest_method(DynP, files[7])\";\n",
       "                var nbb_cells = Jupyter.notebook.get_cells();\n",
       "                for (var i = 0; i < nbb_cells.length; ++i) {\n",
       "                    if (nbb_cells[i].input_prompt_number == nbb_cell_id) {\n",
       "                        if (nbb_cells[i].get_text() == nbb_unformatted_code) {\n",
       "                             nbb_cells[i].set_text(nbb_formatted_code);\n",
       "                        }\n",
       "                        break;\n",
       "                    }\n",
       "                }\n",
       "            }, 500);\n",
       "            "
      ],
      "text/plain": [
       "<IPython.core.display.Javascript object>"
      ]
     },
     "metadata": {},
     "output_type": "display_data"
    }
   ],
   "source": [
    "%%time\n",
    "test_method(DynP, files[7])"
   ]
  },
  {
   "cell_type": "code",
   "execution_count": 183,
   "metadata": {},
   "outputs": [
    {
     "name": "stdout",
     "output_type": "stream",
     "text": [
      "Total number: 400 \n",
      "Capacity: 9486367.0\n",
      "Final Weight: 9485926 \n",
      "Final Value: 3966813.0\n",
      "Number of Items: 7\n",
      "Spare capacity: 441.0\n",
      "Wall time: 14 ms\n"
     ]
    },
    {
     "data": {
      "application/javascript": [
       "\n",
       "            setTimeout(function() {\n",
       "                var nbb_cell_id = 183;\n",
       "                var nbb_unformatted_code = \"%%time\\ntest_method(greedy_dens2, files[11])\";\n",
       "                var nbb_formatted_code = \"%%time\\ntest_method(greedy_dens2, files[11])\";\n",
       "                var nbb_cells = Jupyter.notebook.get_cells();\n",
       "                for (var i = 0; i < nbb_cells.length; ++i) {\n",
       "                    if (nbb_cells[i].input_prompt_number == nbb_cell_id) {\n",
       "                        if (nbb_cells[i].get_text() == nbb_unformatted_code) {\n",
       "                             nbb_cells[i].set_text(nbb_formatted_code);\n",
       "                        }\n",
       "                        break;\n",
       "                    }\n",
       "                }\n",
       "            }, 500);\n",
       "            "
      ],
      "text/plain": [
       "<IPython.core.display.Javascript object>"
      ]
     },
     "metadata": {},
     "output_type": "display_data"
    }
   ],
   "source": [
    "%%time\n",
    "test_method(greedy_dens2, files[11])"
   ]
  },
  {
   "cell_type": "code",
   "execution_count": 17,
   "metadata": {},
   "outputs": [
    {
     "data": {
      "application/javascript": [
       "\n",
       "            setTimeout(function() {\n",
       "                var nbb_cell_id = 17;\n",
       "                var nbb_unformatted_code = \"from ortools.algorithms import pywrapknapsack_solver\\n\\ndef ortoolopt(weights,values,cap):\\n    weights = [list(weights)]\\n    values = list(values)\\n    solver = pywrapknapsack_solver.KnapsackSolver(\\n        pywrapknapsack_solver.KnapsackSolver.\\n        KNAPSACK_MULTIDIMENSION_BRANCH_AND_BOUND_SOLVER, 'KnapsackExample')\\n    solver.Init(values, weights, [K])\\n    computed_value = solver.Solve()\\n    packed_items = []\\n    packed_weights = []\\n    total_weight = 0\\n    print('Total value =', computed_value)\\n    for i in range(len(values)):\\n        if solver.BestSolutionContains(i):\\n            packed_items.append(i)\\n            packed_weights.append(weights[0][i])\\n            total_weight += weights[0][i]\\n    print('Total weight:', total_weight)\\n    print('Packed items:', packed_items)\\n    print('Packed_weights:', packed_weights)\";\n",
       "                var nbb_formatted_code = \"from ortools.algorithms import pywrapknapsack_solver\\n\\n\\ndef ortoolopt(weights, values, cap):\\n    weights = [list(weights)]\\n    values = list(values)\\n    solver = pywrapknapsack_solver.KnapsackSolver(\\n        pywrapknapsack_solver.KnapsackSolver.KNAPSACK_MULTIDIMENSION_BRANCH_AND_BOUND_SOLVER,\\n        \\\"KnapsackExample\\\",\\n    )\\n    solver.Init(values, weights, [K])\\n    computed_value = solver.Solve()\\n    packed_items = []\\n    packed_weights = []\\n    total_weight = 0\\n    print(\\\"Total value =\\\", computed_value)\\n    for i in range(len(values)):\\n        if solver.BestSolutionContains(i):\\n            packed_items.append(i)\\n            packed_weights.append(weights[0][i])\\n            total_weight += weights[0][i]\\n    print(\\\"Total weight:\\\", total_weight)\\n    print(\\\"Packed items:\\\", packed_items)\\n    print(\\\"Packed_weights:\\\", packed_weights)\";\n",
       "                var nbb_cells = Jupyter.notebook.get_cells();\n",
       "                for (var i = 0; i < nbb_cells.length; ++i) {\n",
       "                    if (nbb_cells[i].input_prompt_number == nbb_cell_id) {\n",
       "                        if (nbb_cells[i].get_text() == nbb_unformatted_code) {\n",
       "                             nbb_cells[i].set_text(nbb_formatted_code);\n",
       "                        }\n",
       "                        break;\n",
       "                    }\n",
       "                }\n",
       "            }, 500);\n",
       "            "
      ],
      "text/plain": [
       "<IPython.core.display.Javascript object>"
      ]
     },
     "metadata": {},
     "output_type": "display_data"
    }
   ],
   "source": [
    "\n"
   ]
  },
  {
   "cell_type": "code",
   "execution_count": 18,
   "metadata": {},
   "outputs": [
    {
     "name": "stdout",
     "output_type": "stream",
     "text": [
      "Total value = 19\n",
      "Total weight: 11.0\n",
      "Packed items: [2, 3]\n",
      "Packed_weights: [8.0, 3.0]\n"
     ]
    },
    {
     "data": {
      "application/javascript": [
       "\n",
       "            setTimeout(function() {\n",
       "                var nbb_cell_id = 18;\n",
       "                var nbb_unformatted_code = \"ortoolopt(weights,values,K)\";\n",
       "                var nbb_formatted_code = \"ortoolopt(weights, values, K)\";\n",
       "                var nbb_cells = Jupyter.notebook.get_cells();\n",
       "                for (var i = 0; i < nbb_cells.length; ++i) {\n",
       "                    if (nbb_cells[i].input_prompt_number == nbb_cell_id) {\n",
       "                        if (nbb_cells[i].get_text() == nbb_unformatted_code) {\n",
       "                             nbb_cells[i].set_text(nbb_formatted_code);\n",
       "                        }\n",
       "                        break;\n",
       "                    }\n",
       "                }\n",
       "            }, 500);\n",
       "            "
      ],
      "text/plain": [
       "<IPython.core.display.Javascript object>"
      ]
     },
     "metadata": {},
     "output_type": "display_data"
    }
   ],
   "source": [
    "ortoolopt(weights, values, K)"
   ]
  },
  {
   "cell_type": "code",
   "execution_count": 129,
   "metadata": {},
   "outputs": [
    {
     "data": {
      "text/plain": [
       "[4, 3, 2, 1]"
      ]
     },
     "execution_count": 129,
     "metadata": {},
     "output_type": "execute_result"
    },
    {
     "data": {
      "application/javascript": [
       "\n",
       "            setTimeout(function() {\n",
       "                var nbb_cell_id = 129;\n",
       "                var nbb_unformatted_code = \"list(range(len(values), 0, -1))\";\n",
       "                var nbb_formatted_code = \"list(range(len(values), 0, -1))\";\n",
       "                var nbb_cells = Jupyter.notebook.get_cells();\n",
       "                for (var i = 0; i < nbb_cells.length; ++i) {\n",
       "                    if (nbb_cells[i].input_prompt_number == nbb_cell_id) {\n",
       "                        if (nbb_cells[i].get_text() == nbb_unformatted_code) {\n",
       "                             nbb_cells[i].set_text(nbb_formatted_code);\n",
       "                        }\n",
       "                        break;\n",
       "                    }\n",
       "                }\n",
       "            }, 500);\n",
       "            "
      ],
      "text/plain": [
       "<IPython.core.display.Javascript object>"
      ]
     },
     "metadata": {},
     "output_type": "display_data"
    }
   ],
   "source": [
    "list(range(len(values), 0, -1))"
   ]
  },
  {
   "cell_type": "code",
   "execution_count": 168,
   "metadata": {},
   "outputs": [
    {
     "name": "stdout",
     "output_type": "stream",
     "text": [
      "0 ks_10000_0\n",
      "1 ks_1000_0\n",
      "2 ks_100_0\n",
      "3 ks_100_1\n",
      "4 ks_100_2\n",
      "5 ks_106_0\n",
      "6 ks_19_0\n",
      "7 ks_200_0\n",
      "8 ks_200_1\n",
      "9 ks_300_0\n",
      "10 ks_30_0\n",
      "11 ks_400_0\n",
      "12 ks_40_0\n",
      "13 ks_45_0\n",
      "14 ks_4_0\n",
      "15 ks_500_0\n",
      "16 ks_50_0\n",
      "17 ks_50_1\n",
      "18 ks_60_0\n",
      "19 ks_82_0\n",
      "20 ks_lecture_dp_1\n",
      "21 ks_lecture_dp_2\n"
     ]
    },
    {
     "data": {
      "application/javascript": [
       "\n",
       "            setTimeout(function() {\n",
       "                var nbb_cell_id = 168;\n",
       "                var nbb_unformatted_code = \"for i, f in enumerate(files):\\n    print(i, f)\";\n",
       "                var nbb_formatted_code = \"for i, f in enumerate(files):\\n    print(i, f)\";\n",
       "                var nbb_cells = Jupyter.notebook.get_cells();\n",
       "                for (var i = 0; i < nbb_cells.length; ++i) {\n",
       "                    if (nbb_cells[i].input_prompt_number == nbb_cell_id) {\n",
       "                        if (nbb_cells[i].get_text() == nbb_unformatted_code) {\n",
       "                             nbb_cells[i].set_text(nbb_formatted_code);\n",
       "                        }\n",
       "                        break;\n",
       "                    }\n",
       "                }\n",
       "            }, 500);\n",
       "            "
      ],
      "text/plain": [
       "<IPython.core.display.Javascript object>"
      ]
     },
     "metadata": {},
     "output_type": "display_data"
    }
   ],
   "source": [
    "for i, f in enumerate(files):\n",
    "    print(i, f)"
   ]
  },
  {
   "cell_type": "code",
   "execution_count": 172,
   "metadata": {},
   "outputs": [
    {
     "data": {
      "application/javascript": [
       "\n",
       "            setTimeout(function() {\n",
       "                var nbb_cell_id = 172;\n",
       "                var nbb_unformatted_code = \"from numba import jit\";\n",
       "                var nbb_formatted_code = \"from numba import jit\";\n",
       "                var nbb_cells = Jupyter.notebook.get_cells();\n",
       "                for (var i = 0; i < nbb_cells.length; ++i) {\n",
       "                    if (nbb_cells[i].input_prompt_number == nbb_cell_id) {\n",
       "                        if (nbb_cells[i].get_text() == nbb_unformatted_code) {\n",
       "                             nbb_cells[i].set_text(nbb_formatted_code);\n",
       "                        }\n",
       "                        break;\n",
       "                    }\n",
       "                }\n",
       "            }, 500);\n",
       "            "
      ],
      "text/plain": [
       "<IPython.core.display.Javascript object>"
      ]
     },
     "metadata": {},
     "output_type": "display_data"
    }
   ],
   "source": [
    "class Node():\n",
    "    def __init__(self,weight,value,level):\n",
    "        self.w = weight\n",
    "        self.v = value\n",
    "        self.l = level\n",
    "    def children(self):\n",
    "        level = self.l + 1\n",
    "        self.left = Node(weight[self])"
   ]
  },
  {
   "cell_type": "code",
   "execution_count": 205,
   "metadata": {},
   "outputs": [
    {
     "data": {
      "application/javascript": [
       "\n",
       "            setTimeout(function() {\n",
       "                var nbb_cell_id = 205;\n",
       "                var nbb_unformatted_code = \"class Tree:\\n    def __init__(self, weights, values, capacity):\\n        densities = values / weights\\n        idx = np.argsort(densities)\\n        self.weights = weights[idx]\\n        self.values = values[idx]\\n        self.cap = capacity\\n        self.active_level = 0\\n        self.count = len(weights)\\n        self.selection = np.ones(self.count) * -1\\n    @property\\n    def get_lr(self):\\n        weight = self.get_weight()\\n        return LinearRelaxation(self.values[l:], self.weights[l:], self.cap - weight)\\n    @property\\n    def get_value(self):\\n        idx = self.selection > -1\\n        return (self.values[idx] * self.selection[idx]).sum()\\n    @property\\n    def get_weight(self):\\n        idx = self.selection > -1\\n        return (self.weights[idx] * self.selection[idx]).sum()\\n    @property\\n    def get_room(self):\\n        return self.cap - self.get_weight\\n    @property\\n    def is_end(self):\\n        return self.selection[-1] == -1\\n    @property\\n    def get_next_level(self):\\n        return np.argmin(self.selection)\\n\\n    def optimise(self):\\n        etim = self.get_lr()\\n        room = self.cap\";\n",
       "                var nbb_formatted_code = \"class Tree:\\n    def __init__(self, weights, values, capacity):\\n        densities = values / weights\\n        idx = np.argsort(densities)\\n        self.weights = weights[idx]\\n        self.values = values[idx]\\n        self.cap = capacity\\n        self.active_level = 0\\n        self.count = len(weights)\\n        self.selection = np.ones(self.count) * -1\\n\\n    @property\\n    def get_lr(self):\\n        weight = self.get_weight()\\n        return LinearRelaxation(self.values[l:], self.weights[l:], self.cap - weight)\\n\\n    @property\\n    def get_value(self):\\n        idx = self.selection > -1\\n        return (self.values[idx] * self.selection[idx]).sum()\\n\\n    @property\\n    def get_weight(self):\\n        idx = self.selection > -1\\n        return (self.weights[idx] * self.selection[idx]).sum()\\n\\n    @property\\n    def get_room(self):\\n        return self.cap - self.get_weight\\n\\n    @property\\n    def is_end(self):\\n        return self.selection[-1] == -1\\n\\n    @property\\n    def get_next_level(self):\\n        return np.argmin(self.selection)\\n\\n    def optimise(self):\\n        etim = self.get_lr()\\n        room = self.cap\";\n",
       "                var nbb_cells = Jupyter.notebook.get_cells();\n",
       "                for (var i = 0; i < nbb_cells.length; ++i) {\n",
       "                    if (nbb_cells[i].input_prompt_number == nbb_cell_id) {\n",
       "                        if (nbb_cells[i].get_text() == nbb_unformatted_code) {\n",
       "                             nbb_cells[i].set_text(nbb_formatted_code);\n",
       "                        }\n",
       "                        break;\n",
       "                    }\n",
       "                }\n",
       "            }, 500);\n",
       "            "
      ],
      "text/plain": [
       "<IPython.core.display.Javascript object>"
      ]
     },
     "metadata": {},
     "output_type": "display_data"
    }
   ],
   "source": [
    "class Tree:\n",
    "    def __init__(self, weights, values, capacity):\n",
    "        densities = values / weights\n",
    "        idx = np.argsort(densities)\n",
    "        self.weights = weights[idx]\n",
    "        self.values = values[idx]\n",
    "        self.cap = capacity\n",
    "        self.active_level = 0\n",
    "        self.count = len(weights)\n",
    "        self.selection = np.ones(self.count) * -1\n",
    "        self.best_selection = None\n",
    "        self.best_value = 0\n",
    "    @property\n",
    "    def get_lr(self):\n",
    "        weight = self.get_weight()\n",
    "        return LinearRelaxation(self.values[l:], self.weights[l:], self.cap - weight)\n",
    "\n",
    "    @property\n",
    "    def get_value(self):\n",
    "        idx = self.selection > -1\n",
    "        return (self.values[idx] * self.selection[idx]).sum()\n",
    "\n",
    "    @property\n",
    "    def get_weight(self):\n",
    "        idx = self.selection > -1\n",
    "        return (self.weights[idx] * self.selection[idx]).sum()\n",
    "\n",
    "    @property\n",
    "    def get_room(self):\n",
    "        return self.cap - self.get_weight\n",
    "\n",
    "    @property\n",
    "    def is_end(self):\n",
    "        return self.selection[-1] == -1\n",
    "\n",
    "    @property\n",
    "    def get_next_level(self):\n",
    "        return np.argmin(self.selection)\n",
    "\n",
    "    def step(self):\n",
    "        estim = self.get_lr\n",
    "        room = self.cap\n",
    "        value = self.get_value\n",
    "        for s in [1,0]:\n",
    "            i = self.get_next_level\n",
    "            self.selection[i]=s\n",
    "            self."
   ]
  }
 ],
 "metadata": {
  "kernelspec": {
   "display_name": "Python 3",
   "language": "python",
   "name": "python3"
  },
  "language_info": {
   "codemirror_mode": {
    "name": "ipython",
    "version": 3
   },
   "file_extension": ".py",
   "mimetype": "text/x-python",
   "name": "python",
   "nbconvert_exporter": "python",
   "pygments_lexer": "ipython3",
   "version": "3.8.3"
  }
 },
 "nbformat": 4,
 "nbformat_minor": 4
}
