{
 "cells": [
  {
   "cell_type": "markdown",
   "metadata": {},
   "source": [
    "# Setup"
   ]
  },
  {
   "cell_type": "code",
   "execution_count": 1,
   "metadata": {
    "ExecuteTime": {
     "end_time": "2021-07-04T05:17:53.799198Z",
     "start_time": "2021-07-04T05:17:53.763198Z"
    }
   },
   "outputs": [],
   "source": [
    "%load_ext autoreload\n",
    "%autoreload 2"
   ]
  },
  {
   "cell_type": "code",
   "execution_count": 2,
   "metadata": {
    "ExecuteTime": {
     "end_time": "2021-07-04T05:17:54.408937Z",
     "start_time": "2021-07-04T05:17:54.154223Z"
    }
   },
   "outputs": [],
   "source": [
    "import numpy as np\n",
    "import matplotlib.pyplot as plt\n",
    "import os\n",
    "from os.path import join\n",
    "from solver import Point, Facility, Customer, length, load_data\n",
    "from vis import view_problem"
   ]
  },
  {
   "cell_type": "code",
   "execution_count": 3,
   "metadata": {
    "ExecuteTime": {
     "end_time": "2021-07-04T05:17:54.830615Z",
     "start_time": "2021-07-04T05:17:54.779617Z"
    }
   },
   "outputs": [],
   "source": [
    "path = 'data'\n",
    "ls = os.listdir"
   ]
  },
  {
   "cell_type": "code",
   "execution_count": 131,
   "metadata": {
    "ExecuteTime": {
     "end_time": "2021-07-04T06:56:40.659072Z",
     "start_time": "2021-07-04T06:56:40.490071Z"
    }
   },
   "outputs": [
    {
     "name": "stdout",
     "output_type": "stream",
     "text": [
      "fl_1000_2         1500 Customers \t  1000 Facilities\n",
      "fl_1000_3         5000 Customers \t  1000 Facilities\n",
      "fl_100_1          1000 Customers \t   100 Facilities\n",
      "fl_100_10          100 Customers \t   100 Facilities\n",
      "fl_100_11          500 Customers \t   100 Facilities\n",
      "fl_100_12          500 Customers \t   100 Facilities\n",
      "fl_100_13         1000 Customers \t   100 Facilities\n",
      "fl_100_14          800 Customers \t   100 Facilities\n",
      "fl_100_2          1000 Customers \t   100 Facilities\n",
      "fl_100_3          1000 Customers \t   100 Facilities\n",
      "fl_100_4          1000 Customers \t   100 Facilities\n",
      "fl_100_5          1000 Customers \t   100 Facilities\n",
      "fl_100_6           100 Customers \t   100 Facilities\n",
      "fl_100_7           100 Customers \t   100 Facilities\n",
      "fl_100_8           100 Customers \t   100 Facilities\n",
      "fl_100_9           100 Customers \t   100 Facilities\n",
      "fl_16_1             50 Customers \t    16 Facilities\n",
      "fl_16_2             50 Customers \t    16 Facilities\n",
      "fl_2000_2         2000 Customers \t  2000 Facilities\n",
      "fl_2000_3         6000 Customers \t  2000 Facilities\n",
      "fl_200_1           200 Customers \t   200 Facilities\n",
      "fl_200_2           200 Customers \t   200 Facilities\n",
      "fl_200_3           200 Customers \t   200 Facilities\n",
      "fl_200_4           200 Customers \t   200 Facilities\n",
      "fl_200_5           200 Customers \t   200 Facilities\n",
      "fl_200_6           400 Customers \t   200 Facilities\n",
      "fl_200_7           800 Customers \t   200 Facilities\n",
      "fl_200_8          1600 Customers \t   200 Facilities\n",
      "fl_25_1             50 Customers \t    25 Facilities\n",
      "fl_25_2             50 Customers \t    25 Facilities\n",
      "fl_25_3             50 Customers \t    25 Facilities\n",
      "fl_25_4             50 Customers \t    25 Facilities\n",
      "fl_25_5             60 Customers \t    25 Facilities\n",
      "fl_3_1               4 Customers \t     3 Facilities\n",
      "fl_4000_1         8000 Customers \t  4000 Facilities\n",
      "fl_500_6          1000 Customers \t   500 Facilities\n",
      "fl_500_7          3000 Customers \t   500 Facilities\n",
      "fl_50_1             50 Customers \t    50 Facilities\n",
      "fl_50_2             50 Customers \t    50 Facilities\n",
      "fl_50_3             50 Customers \t    50 Facilities\n",
      "fl_50_4             50 Customers \t    50 Facilities\n",
      "fl_50_5            100 Customers \t    50 Facilities\n",
      "fl_50_6            200 Customers \t    50 Facilities\n"
     ]
    }
   ],
   "source": [
    "# print(*ls(path),sep = '  ,  ')\n",
    "for i,file in enumerate(ls(path)):\n",
    "    customers, facilities = load_data(file)\n",
    "    print(f'{file:15} {len(customers):6} Customers \\t{len(facilities):6} Facilities')"
   ]
  },
  {
   "cell_type": "code",
   "execution_count": 137,
   "metadata": {
    "ExecuteTime": {
     "end_time": "2021-07-04T07:12:34.408504Z",
     "start_time": "2021-07-04T07:12:34.266746Z"
    }
   },
   "outputs": [
    {
     "data": {
      "text/plain": [
       "([Customer(index=0, demand=2, location=Point(x=42.025527, y=33.616725)),\n",
       "  Customer(index=1, demand=2, location=Point(x=41.980592, y=34.211489)),\n",
       "  Customer(index=2, demand=4, location=Point(x=57.023391, y=34.309149)),\n",
       "  Customer(index=3, demand=5, location=Point(x=3.657277, y=29.06113)),\n",
       "  Customer(index=4, demand=3, location=Point(x=49.152254, y=36.213567)),\n",
       "  Customer(index=5, demand=1, location=Point(x=33.925347, y=31.222968)),\n",
       "  Customer(index=6, demand=5, location=Point(x=60.883163, y=42.991909)),\n",
       "  Customer(index=7, demand=3, location=Point(x=49.793091, y=38.717563)),\n",
       "  Customer(index=8, demand=4, location=Point(x=56.820527, y=36.707275)),\n",
       "  Customer(index=9, demand=1, location=Point(x=34.301367, y=30.778683)),\n",
       "  Customer(index=10, demand=1, location=Point(x=34.176174, y=31.355789)),\n",
       "  Customer(index=11, demand=1, location=Point(x=34.23757, y=31.277996)),\n",
       "  Customer(index=12, demand=2, location=Point(x=41.402673, y=34.168284)),\n",
       "  Customer(index=13, demand=5, location=Point(x=60.615426, y=23.601213)),\n",
       "  Customer(index=14, demand=5, location=Point(x=61.00315, y=38.633241)),\n",
       "  Customer(index=15, demand=1, location=Point(x=34.343263, y=31.355573)),\n",
       "  Customer(index=16, demand=3, location=Point(x=48.119914, y=38.98298)),\n",
       "  Customer(index=17, demand=5, location=Point(x=62.046845, y=36.059573)),\n",
       "  Customer(index=18, demand=3, location=Point(x=46.911079, y=37.830223)),\n",
       "  Customer(index=19, demand=5, location=Point(x=33.912373, y=62.656065)),\n",
       "  Customer(index=20, demand=3, location=Point(x=48.073082, y=38.211017)),\n",
       "  Customer(index=21, demand=4, location=Point(x=55.953219, y=37.618039)),\n",
       "  Customer(index=22, demand=3, location=Point(x=48.918869, y=34.787575)),\n",
       "  Customer(index=23, demand=4, location=Point(x=53.202259, y=43.524187)),\n",
       "  Customer(index=24, demand=3, location=Point(x=49.033329, y=36.970325)),\n",
       "  Customer(index=25, demand=2, location=Point(x=41.062874, y=33.32033)),\n",
       "  Customer(index=26, demand=1, location=Point(x=34.173417, y=31.226773)),\n",
       "  Customer(index=27, demand=2, location=Point(x=42.15287, y=34.362992)),\n",
       "  Customer(index=28, demand=4, location=Point(x=55.131107, y=38.222732)),\n",
       "  Customer(index=29, demand=4, location=Point(x=54.940262, y=40.875873)),\n",
       "  Customer(index=30, demand=2, location=Point(x=43.484472, y=34.309113)),\n",
       "  Customer(index=31, demand=2, location=Point(x=41.748682, y=33.459349)),\n",
       "  Customer(index=32, demand=1, location=Point(x=34.241495, y=31.077605)),\n",
       "  Customer(index=33, demand=5, location=Point(x=52.878776, y=52.681288)),\n",
       "  Customer(index=34, demand=2, location=Point(x=41.435311, y=33.487483)),\n",
       "  Customer(index=35, demand=1, location=Point(x=34.514021, y=30.835289)),\n",
       "  Customer(index=36, demand=5, location=Point(x=0.0, y=31.039199)),\n",
       "  Customer(index=37, demand=5, location=Point(x=57.712945, y=48.703109)),\n",
       "  Customer(index=38, demand=2, location=Point(x=41.167592, y=33.680718)),\n",
       "  Customer(index=39, demand=4, location=Point(x=53.149832, y=42.835301)),\n",
       "  Customer(index=40, demand=3, location=Point(x=49.868076, y=36.598295)),\n",
       "  Customer(index=41, demand=4, location=Point(x=55.467332, y=35.193145)),\n",
       "  Customer(index=42, demand=1, location=Point(x=33.949599, y=31.262536)),\n",
       "  Customer(index=43, demand=5, location=Point(x=61.830099, y=20.902973)),\n",
       "  Customer(index=44, demand=5, location=Point(x=59.084893, y=49.493737)),\n",
       "  Customer(index=45, demand=5, location=Point(x=0.945484, y=34.469642)),\n",
       "  Customer(index=46, demand=1, location=Point(x=34.005036, y=31.134494)),\n",
       "  Customer(index=47, demand=1, location=Point(x=34.160127, y=31.132694)),\n",
       "  Customer(index=48, demand=2, location=Point(x=42.373285, y=33.823407)),\n",
       "  Customer(index=49, demand=2, location=Point(x=40.479707, y=35.181709)),\n",
       "  Customer(index=50, demand=4, location=Point(x=54.278968, y=43.552007)),\n",
       "  Customer(index=51, demand=4, location=Point(x=56.043119, y=39.505357)),\n",
       "  Customer(index=52, demand=2, location=Point(x=42.154751, y=34.624058)),\n",
       "  Customer(index=53, demand=5, location=Point(x=62.547507, y=41.211561)),\n",
       "  Customer(index=54, demand=2, location=Point(x=41.978959, y=33.679323)),\n",
       "  Customer(index=55, demand=3, location=Point(x=48.201307, y=38.856924)),\n",
       "  Customer(index=56, demand=1, location=Point(x=34.048124, y=31.180401)),\n",
       "  Customer(index=57, demand=3, location=Point(x=48.710701, y=34.683553)),\n",
       "  Customer(index=58, demand=5, location=Point(x=63.531185, y=40.790392)),\n",
       "  Customer(index=59, demand=4, location=Point(x=55.15365, y=42.187162)),\n",
       "  Customer(index=60, demand=3, location=Point(x=48.107874, y=36.922103)),\n",
       "  Customer(index=61, demand=5, location=Point(x=62.4011, y=36.152885)),\n",
       "  Customer(index=62, demand=1, location=Point(x=34.354427, y=31.198383)),\n",
       "  Customer(index=63, demand=5, location=Point(x=13.726043, y=3.846698)),\n",
       "  Customer(index=64, demand=4, location=Point(x=51.682838, y=43.116391)),\n",
       "  Customer(index=65, demand=1, location=Point(x=34.534836, y=31.170158)),\n",
       "  Customer(index=66, demand=1, location=Point(x=34.273917, y=31.25691)),\n",
       "  Customer(index=67, demand=2, location=Point(x=40.639559, y=33.002625)),\n",
       "  Customer(index=68, demand=3, location=Point(x=49.127341, y=35.320614)),\n",
       "  Customer(index=69, demand=4, location=Point(x=54.527695, y=42.45342)),\n",
       "  Customer(index=70, demand=3, location=Point(x=49.109825, y=36.536105)),\n",
       "  Customer(index=71, demand=1, location=Point(x=34.052453, y=31.048145)),\n",
       "  Customer(index=72, demand=3, location=Point(x=48.486163, y=36.162565)),\n",
       "  Customer(index=73, demand=2, location=Point(x=42.556813, y=33.243171)),\n",
       "  Customer(index=74, demand=3, location=Point(x=48.171964, y=36.335943)),\n",
       "  Customer(index=75, demand=5, location=Point(x=63.988475, y=30.261311)),\n",
       "  Customer(index=76, demand=3, location=Point(x=48.763159, y=35.407738)),\n",
       "  Customer(index=77, demand=4, location=Point(x=54.832944, y=40.201947)),\n",
       "  Customer(index=78, demand=4, location=Point(x=57.049559, y=38.949459)),\n",
       "  Customer(index=79, demand=4, location=Point(x=57.027861, y=37.884145)),\n",
       "  Customer(index=80, demand=2, location=Point(x=42.596129, y=33.082574)),\n",
       "  Customer(index=81, demand=3, location=Point(x=49.586921, y=36.695187)),\n",
       "  Customer(index=82, demand=1, location=Point(x=34.030457, y=31.382754)),\n",
       "  Customer(index=83, demand=4, location=Point(x=54.425836, y=39.525592)),\n",
       "  Customer(index=84, demand=3, location=Point(x=49.318077, y=35.800476)),\n",
       "  Customer(index=85, demand=5, location=Point(x=61.88886, y=36.629429)),\n",
       "  Customer(index=86, demand=3, location=Point(x=48.85159, y=36.309116)),\n",
       "  Customer(index=87, demand=3, location=Point(x=48.836376, y=35.038175)),\n",
       "  Customer(index=88, demand=4, location=Point(x=54.469134, y=37.841685)),\n",
       "  Customer(index=89, demand=5, location=Point(x=49.421893, y=59.284436)),\n",
       "  Customer(index=90, demand=3, location=Point(x=45.194271, y=39.218465)),\n",
       "  Customer(index=91, demand=5, location=Point(x=64.358581, y=40.597258)),\n",
       "  Customer(index=92, demand=3, location=Point(x=48.091207, y=36.266685)),\n",
       "  Customer(index=93, demand=5, location=Point(x=61.900378, y=36.60188)),\n",
       "  Customer(index=94, demand=1, location=Point(x=34.177211, y=31.247098)),\n",
       "  Customer(index=95, demand=3, location=Point(x=47.625316, y=39.948724)),\n",
       "  Customer(index=96, demand=3, location=Point(x=47.203178, y=38.990969)),\n",
       "  Customer(index=97, demand=3, location=Point(x=48.297877, y=37.981983)),\n",
       "  Customer(index=98, demand=1, location=Point(x=34.15329, y=30.995868)),\n",
       "  Customer(index=99, demand=2, location=Point(x=41.780404, y=32.713959))],\n",
       " [Facility(index=0, setup_cost=138.0, capacity=305, location=Point(x=29.170436, y=29.170436)),\n",
       "  Facility(index=1, setup_cost=218.0, capacity=305, location=Point(x=31.6965, y=37.329994)),\n",
       "  Facility(index=2, setup_cost=203.0, capacity=305, location=Point(x=29.862898, y=39.494917)),\n",
       "  Facility(index=3, setup_cost=204.0, capacity=305, location=Point(x=32.891962, y=26.91156)),\n",
       "  Facility(index=4, setup_cost=209.0, capacity=305, location=Point(x=40.534183, y=20.211262)),\n",
       "  Facility(index=5, setup_cost=172.0, capacity=305, location=Point(x=30.889207, y=39.933642)),\n",
       "  Facility(index=6, setup_cost=231.0, capacity=305, location=Point(x=40.27601, y=21.447875)),\n",
       "  Facility(index=7, setup_cost=209.0, capacity=305, location=Point(x=35.812886, y=23.140231)),\n",
       "  Facility(index=8, setup_cost=75.0, capacity=305, location=Point(x=28.26808, y=42.483296)),\n",
       "  Facility(index=9, setup_cost=169.0, capacity=305, location=Point(x=29.09612, y=38.423231)),\n",
       "  Facility(index=10, setup_cost=218.0, capacity=305, location=Point(x=30.205617, y=38.202277)),\n",
       "  Facility(index=11, setup_cost=201.0, capacity=305, location=Point(x=31.044164, y=40.253135)),\n",
       "  Facility(index=12, setup_cost=133.0, capacity=305, location=Point(x=33.529244, y=21.661904)),\n",
       "  Facility(index=13, setup_cost=109.0, capacity=305, location=Point(x=30.814106, y=43.365007)),\n",
       "  Facility(index=14, setup_cost=164.0, capacity=305, location=Point(x=35.047065, y=22.915094)),\n",
       "  Facility(index=15, setup_cost=195.0, capacity=305, location=Point(x=29.993324, y=37.071876)),\n",
       "  Facility(index=16, setup_cost=227.0, capacity=305, location=Point(x=32.588261, y=40.293476)),\n",
       "  Facility(index=17, setup_cost=172.0, capacity=305, location=Point(x=35.943854, y=22.228011)),\n",
       "  Facility(index=18, setup_cost=205.0, capacity=305, location=Point(x=30.120741, y=32.821111)),\n",
       "  Facility(index=19, setup_cost=105.0, capacity=305, location=Point(x=28.160385, y=29.690787)),\n",
       "  Facility(index=20, setup_cost=135.0, capacity=305, location=Point(x=29.36392, y=36.672232)),\n",
       "  Facility(index=21, setup_cost=72.0, capacity=305, location=Point(x=32.021303, y=22.463629)),\n",
       "  Facility(index=22, setup_cost=200.0, capacity=305, location=Point(x=31.510013, y=32.145556)),\n",
       "  Facility(index=23, setup_cost=277.0, capacity=305, location=Point(x=31.573069, y=37.174257)),\n",
       "  Facility(index=24, setup_cost=162.0, capacity=305, location=Point(x=31.725934, y=25.124685)),\n",
       "  Facility(index=25, setup_cost=198.0, capacity=305, location=Point(x=42.060875, y=19.685681)),\n",
       "  Facility(index=26, setup_cost=226.0, capacity=305, location=Point(x=31.095226, y=37.343447)),\n",
       "  Facility(index=27, setup_cost=162.0, capacity=305, location=Point(x=30.207972, y=41.144592)),\n",
       "  Facility(index=28, setup_cost=166.0, capacity=305, location=Point(x=28.8395, y=32.826875)),\n",
       "  Facility(index=29, setup_cost=247.0, capacity=305, location=Point(x=31.797462, y=35.32579)),\n",
       "  Facility(index=30, setup_cost=185.0, capacity=305, location=Point(x=31.643464, y=42.951602)),\n",
       "  Facility(index=31, setup_cost=208.0, capacity=305, location=Point(x=30.258792, y=34.486884)),\n",
       "  Facility(index=32, setup_cost=198.0, capacity=305, location=Point(x=32.237211, y=26.004642)),\n",
       "  Facility(index=33, setup_cost=185.0, capacity=305, location=Point(x=36.246725, y=23.413496)),\n",
       "  Facility(index=34, setup_cost=172.0, capacity=305, location=Point(x=30.063104, y=31.156739)),\n",
       "  Facility(index=35, setup_cost=157.0, capacity=305, location=Point(x=38.455886, y=21.071056)),\n",
       "  Facility(index=36, setup_cost=65.0, capacity=305, location=Point(x=31.719419, y=23.661734)),\n",
       "  Facility(index=37, setup_cost=79.0, capacity=305, location=Point(x=27.965089, y=39.124651)),\n",
       "  Facility(index=38, setup_cost=169.0, capacity=305, location=Point(x=29.613682, y=35.212448)),\n",
       "  Facility(index=39, setup_cost=183.0, capacity=305, location=Point(x=30.356875, y=38.161755)),\n",
       "  Facility(index=40, setup_cost=185.0, capacity=305, location=Point(x=29.706389, y=38.876134)),\n",
       "  Facility(index=41, setup_cost=165.0, capacity=305, location=Point(x=34.202762, y=23.797828)),\n",
       "  Facility(index=42, setup_cost=104.0, capacity=305, location=Point(x=28.05186, y=35.709568)),\n",
       "  Facility(index=43, setup_cost=239.0, capacity=305, location=Point(x=35.703069, y=25.09265)),\n",
       "  Facility(index=44, setup_cost=180.0, capacity=305, location=Point(x=34.672534, y=23.485255)),\n",
       "  Facility(index=45, setup_cost=150.0, capacity=305, location=Point(x=27.066162, y=33.057828)),\n",
       "  Facility(index=46, setup_cost=226.0, capacity=305, location=Point(x=32.767275, y=26.962714)),\n",
       "  Facility(index=47, setup_cost=138.0, capacity=305, location=Point(x=32.745089, y=24.21921)),\n",
       "  Facility(index=48, setup_cost=195.0, capacity=305, location=Point(x=29.107377, y=36.71995)),\n",
       "  Facility(index=49, setup_cost=147.0, capacity=305, location=Point(x=29.059438, y=33.154079)),\n",
       "  Facility(index=50, setup_cost=165.0, capacity=305, location=Point(x=33.559476, y=23.376225)),\n",
       "  Facility(index=51, setup_cost=220.0, capacity=305, location=Point(x=29.63302, y=39.830838)),\n",
       "  Facility(index=52, setup_cost=148.0, capacity=305, location=Point(x=36.993552, y=21.681666)),\n",
       "  Facility(index=53, setup_cost=179.0, capacity=305, location=Point(x=30.345846, y=40.299906)),\n",
       "  Facility(index=54, setup_cost=134.0, capacity=305, location=Point(x=29.112615, y=28.653207)),\n",
       "  Facility(index=55, setup_cost=233.0, capacity=305, location=Point(x=32.470898, y=39.275423)),\n",
       "  Facility(index=56, setup_cost=150.0, capacity=305, location=Point(x=35.085986, y=22.573615)),\n",
       "  Facility(index=57, setup_cost=197.0, capacity=305, location=Point(x=29.288737, y=38.788564)),\n",
       "  Facility(index=58, setup_cost=278.0, capacity=305, location=Point(x=30.923617, y=39.951356)),\n",
       "  Facility(index=59, setup_cost=70.0, capacity=305, location=Point(x=31.291086, y=24.356113)),\n",
       "  Facility(index=60, setup_cost=233.0, capacity=305, location=Point(x=37.835086, y=23.961322)),\n",
       "  Facility(index=61, setup_cost=270.0, capacity=305, location=Point(x=34.585802, y=27.609923)),\n",
       "  Facility(index=62, setup_cost=178.0, capacity=305, location=Point(x=29.592451, y=41.687801)),\n",
       "  Facility(index=63, setup_cost=114.0, capacity=305, location=Point(x=31.535525, y=27.330844)),\n",
       "  Facility(index=64, setup_cost=107.0, capacity=305, location=Point(x=31.761308, y=24.6334)),\n",
       "  Facility(index=65, setup_cost=163.0, capacity=305, location=Point(x=40.583685, y=20.342579)),\n",
       "  Facility(index=66, setup_cost=224.0, capacity=305, location=Point(x=39.121331, y=22.457397)),\n",
       "  Facility(index=67, setup_cost=193.0, capacity=305, location=Point(x=30.502517, y=36.236148)),\n",
       "  Facility(index=68, setup_cost=193.0, capacity=305, location=Point(x=28.488373, y=33.325842)),\n",
       "  Facility(index=69, setup_cost=179.0, capacity=305, location=Point(x=29.571336, y=37.438965)),\n",
       "  Facility(index=70, setup_cost=300.0, capacity=305, location=Point(x=35.820047, y=27.639368)),\n",
       "  Facility(index=71, setup_cost=196.0, capacity=305, location=Point(x=38.582693, y=22.859375)),\n",
       "  Facility(index=72, setup_cost=134.0, capacity=305, location=Point(x=28.958987, y=30.90116)),\n",
       "  Facility(index=73, setup_cost=213.0, capacity=305, location=Point(x=37.91663, y=22.624962)),\n",
       "  Facility(index=74, setup_cost=199.0, capacity=305, location=Point(x=30.929347, y=39.726146)),\n",
       "  Facility(index=75, setup_cost=179.0, capacity=305, location=Point(x=31.897636, y=26.687111)),\n",
       "  Facility(index=76, setup_cost=212.0, capacity=305, location=Point(x=37.376275, y=23.37694)),\n",
       "  Facility(index=77, setup_cost=263.0, capacity=305, location=Point(x=32.839545, y=29.658162)),\n",
       "  Facility(index=78, setup_cost=165.0, capacity=305, location=Point(x=31.851138, y=26.94862)),\n",
       "  Facility(index=79, setup_cost=154.0, capacity=305, location=Point(x=35.042792, y=24.32787)),\n",
       "  Facility(index=80, setup_cost=229.0, capacity=305, location=Point(x=37.018051, y=24.257546)),\n",
       "  Facility(index=81, setup_cost=104.0, capacity=305, location=Point(x=37.891991, y=19.351829)),\n",
       "  Facility(index=82, setup_cost=52.0, capacity=305, location=Point(x=34.987946, y=19.673269)),\n",
       "  Facility(index=83, setup_cost=116.0, capacity=305, location=Point(x=38.805595, y=19.290661)),\n",
       "  Facility(index=84, setup_cost=205.0, capacity=305, location=Point(x=37.800768, y=22.36093)),\n",
       "  Facility(index=85, setup_cost=232.0, capacity=305, location=Point(x=36.356903, y=23.909443)),\n",
       "  Facility(index=86, setup_cost=50.0, capacity=305, location=Point(x=34.144271, y=20.932408)),\n",
       "  Facility(index=87, setup_cost=146.0, capacity=305, location=Point(x=29.354247, y=29.281409)),\n",
       "  Facility(index=88, setup_cost=171.0, capacity=305, location=Point(x=29.617319, y=30.486766)),\n",
       "  Facility(index=89, setup_cost=81.0, capacity=305, location=Point(x=25.979226, y=40.172083)),\n",
       "  Facility(index=90, setup_cost=251.0, capacity=305, location=Point(x=31.101871, y=41.438196)),\n",
       "  Facility(index=91, setup_cost=176.0, capacity=305, location=Point(x=30.645996, y=37.737908)),\n",
       "  Facility(index=92, setup_cost=170.0, capacity=305, location=Point(x=36.608114, y=23.589572)),\n",
       "  Facility(index=93, setup_cost=225.0, capacity=305, location=Point(x=33.841643, y=24.981254)),\n",
       "  Facility(index=94, setup_cost=68.0, capacity=305, location=Point(x=34.169203, y=22.047771)),\n",
       "  Facility(index=95, setup_cost=131.0, capacity=305, location=Point(x=27.014683, y=31.977591)),\n",
       "  Facility(index=96, setup_cost=97.0, capacity=305, location=Point(x=29.51242, y=45.437293)),\n",
       "  Facility(index=97, setup_cost=163.0, capacity=305, location=Point(x=32.315634, y=25.91145)),\n",
       "  Facility(index=98, setup_cost=175.0, capacity=305, location=Point(x=30.990329, y=41.390776)),\n",
       "  Facility(index=99, setup_cost=183.0, capacity=305, location=Point(x=31.961634, y=27.433804))])"
      ]
     },
     "execution_count": 137,
     "metadata": {},
     "output_type": "execute_result"
    }
   ],
   "source": [
    "customers, facilities = load_data('fl_100_7')\n",
    "(customers, facilities)"
   ]
  },
  {
   "cell_type": "markdown",
   "metadata": {},
   "source": [
    "# Visualisation\n"
   ]
  },
  {
   "cell_type": "code",
   "execution_count": 15,
   "metadata": {
    "ExecuteTime": {
     "end_time": "2021-07-04T05:19:40.843698Z",
     "start_time": "2021-07-04T05:19:40.793965Z"
    }
   },
   "outputs": [],
   "source": [
    "from vis import view_problem, view_solution"
   ]
  },
  {
   "cell_type": "code",
   "execution_count": 138,
   "metadata": {
    "ExecuteTime": {
     "end_time": "2021-07-04T07:12:36.235006Z",
     "start_time": "2021-07-04T07:12:36.079006Z"
    },
    "scrolled": false
   },
   "outputs": [
    {
     "data": {
      "image/png": "[encoded data removed]",
      "text/plain": [
       "<Figure size 576x576 with 1 Axes>"
      ]
     },
     "metadata": {
      "needs_background": "light"
     },
     "output_type": "display_data"
    }
   ],
   "source": [
    "view_problem(customers,facilities)"
   ]
  },
  {
   "cell_type": "code",
   "execution_count": 139,
   "metadata": {
    "ExecuteTime": {
     "end_time": "2021-07-04T07:13:42.283304Z",
     "start_time": "2021-07-04T07:13:42.222318Z"
    }
   },
   "outputs": [],
   "source": [
    "sol = greedy(customers,facilities)"
   ]
  },
  {
   "cell_type": "code",
   "execution_count": 140,
   "metadata": {
    "ExecuteTime": {
     "end_time": "2021-07-04T07:13:43.548734Z",
     "start_time": "2021-07-04T07:13:43.273623Z"
    }
   },
   "outputs": [
    {
     "data": {
      "image/png": "[encoded data removed]",
      "text/plain": [
       "<Figure size 576x576 with 1 Axes>"
      ]
     },
     "metadata": {
      "needs_background": "light"
     },
     "output_type": "display_data"
    }
   ],
   "source": [
    "view_solution(sol,customers,facilities)"
   ]
  },
  {
   "cell_type": "markdown",
   "metadata": {},
   "source": [
    "# Exploration"
   ]
  },
  {
   "cell_type": "code",
   "execution_count": 47,
   "metadata": {
    "ExecuteTime": {
     "end_time": "2021-07-04T06:06:59.928487Z",
     "start_time": "2021-07-04T06:06:59.888486Z"
    }
   },
   "outputs": [],
   "source": [
    "from calc import validate, total_cost\n",
    "\n",
    "from algorithms import greedy\n",
    "from exceptions import *"
   ]
  },
  {
   "cell_type": "markdown",
   "metadata": {},
   "source": [
    "## Random allocation"
   ]
  },
  {
   "cell_type": "code",
   "execution_count": 48,
   "metadata": {
    "ExecuteTime": {
     "end_time": "2021-07-04T06:07:03.752070Z",
     "start_time": "2021-07-04T06:07:03.717069Z"
    }
   },
   "outputs": [],
   "source": [
    "from pdb import set_trace\n"
   ]
  },
  {
   "cell_type": "code",
   "execution_count": 117,
   "metadata": {
    "ExecuteTime": {
     "end_time": "2021-07-04T06:40:56.228240Z",
     "start_time": "2021-07-04T06:40:56.177065Z"
    }
   },
   "outputs": [],
   "source": [
    "from tqdm.auto import tqdm, trange\n",
    "\n",
    "\n",
    "def random_allocation(customers, facilities):\n",
    "    max_iter = 10000\n",
    "    n_fac = len(facilities)\n",
    "    allocations = -np.ones(len(customers))\n",
    "    remaining_capacity = np.array([f.capacity for f in facilities])\n",
    "    for i, customer in enumerate(customers):\n",
    "        for counter in range(max_iter):\n",
    "            selected_facility = np.random.choice(\n",
    "                range(n_fac),\n",
    "                p=remaining_capacity / remaining_capacity.sum(),\n",
    "            )\n",
    "            if remaining_capacity[selected_facility] >= customer.demand:\n",
    "                remaining_capacity[selected_facility] -= customer.demand\n",
    "                allocations[i] = selected_facility\n",
    "                break\n",
    "        else:\n",
    "            raise IterationError('Maximum number of iterations reached.')\n",
    "    return allocations.astype(int)\n",
    "\n",
    "\n",
    "def local_search(solution, customers, facilities, verbose=False):\n",
    "    allocations = solution.copy()\n",
    "    n_cutomers = len(customers)\n",
    "    n_facilities = len(facilities)\n",
    "    old_cost = total_cost(allocations, customers, facilities)\n",
    "    pbar = trange(n_cutomers)\n",
    "    for i in pbar:\n",
    "        customer = customers[i]\n",
    "        costs = np.zeros(n_facilities)\n",
    "        old_alloc = allocations[i]\n",
    "        for j in range(n_facilities):\n",
    "            allocations[i] = j\n",
    "            costs[j] = total_cost(allocations, customers, facilities)\n",
    "        new_alloc = np.argmin(costs)\n",
    "        allocations[i] = new_alloc\n",
    "        if verbose:\n",
    "            desc = '{:.1f} --> {:.1f} --> {:.1f}'.format(\n",
    "                old_cost,\n",
    "                costs[old_alloc],\n",
    "                costs[new_alloc],\n",
    "            )\n",
    "            pbar.set_description(desc)\n",
    "    return allocations"
   ]
  },
  {
   "cell_type": "code",
   "execution_count": 133,
   "metadata": {
    "ExecuteTime": {
     "end_time": "2021-07-04T06:58:46.145652Z",
     "start_time": "2021-07-04T06:58:46.058652Z"
    }
   },
   "outputs": [
    {
     "data": {
      "text/plain": [
       "109775306.1991202"
      ]
     },
     "execution_count": 133,
     "metadata": {},
     "output_type": "execute_result"
    }
   ],
   "source": [
    "sol = random_allocation(customers,facilities)\n",
    "total_cost(sol,customers,facilities)"
   ]
  },
  {
   "cell_type": "code",
   "execution_count": 134,
   "metadata": {
    "ExecuteTime": {
     "end_time": "2021-07-04T07:02:29.343580Z",
     "start_time": "2021-07-04T06:58:47.450742Z"
    }
   },
   "outputs": [
    {
     "data": {
      "application/vnd.jupyter.widget-view+json": {
       "model_id": "21f135b68b36421791705d8e6f8ac06f",
       "version_major": 2,
       "version_minor": 0
      },
      "text/plain": [
       "HBox(children=(HTML(value=''), FloatProgress(value=0.0, max=1000.0), HTML(value='')))"
      ]
     },
     "metadata": {},
     "output_type": "display_data"
    },
    {
     "name": "stdout",
     "output_type": "stream",
     "text": [
      "\n"
     ]
    }
   ],
   "source": [
    "sol2 = local_search(sol,customers,facilities,True)"
   ]
  },
  {
   "cell_type": "code",
   "execution_count": 135,
   "metadata": {
    "ExecuteTime": {
     "end_time": "2021-07-04T07:02:29.939132Z",
     "start_time": "2021-07-04T07:02:29.768581Z"
    }
   },
   "outputs": [
    {
     "data": {
      "text/plain": [
       "26090682.612702664"
      ]
     },
     "execution_count": 135,
     "metadata": {},
     "output_type": "execute_result"
    }
   ],
   "source": [
    "sol = greedy(customers,facilities)\n",
    "total_cost(sol,customers,facilities)"
   ]
  },
  {
   "cell_type": "code",
   "execution_count": 136,
   "metadata": {
    "ExecuteTime": {
     "end_time": "2021-07-04T07:05:15.189405Z",
     "start_time": "2021-07-04T07:02:30.313380Z"
    }
   },
   "outputs": [
    {
     "data": {
      "application/vnd.jupyter.widget-view+json": {
       "model_id": "00b4e0bd1d9247e0b5c86e48e7743751",
       "version_major": 2,
       "version_minor": 0
      },
      "text/plain": [
       "HBox(children=(HTML(value=''), FloatProgress(value=0.0, max=1000.0), HTML(value='')))"
      ]
     },
     "metadata": {},
     "output_type": "display_data"
    },
    {
     "name": "stdout",
     "output_type": "stream",
     "text": [
      "\n"
     ]
    }
   ],
   "source": [
    "sol2 = local_search(sol,customers,facilities,True)"
   ]
  },
  {
   "cell_type": "code",
   "execution_count": 88,
   "metadata": {
    "ExecuteTime": {
     "end_time": "2021-07-04T06:25:03.409414Z",
     "start_time": "2021-07-04T06:25:03.216414Z"
    }
   },
   "outputs": [
    {
     "data": {
      "image/png": "[encoded data removed]",
      "text/plain": [
       "<Figure size 576x576 with 1 Axes>"
      ]
     },
     "metadata": {
      "needs_background": "light"
     },
     "output_type": "display_data"
    }
   ],
   "source": [
    "view_solution(sol2,customers,facilities)"
   ]
  },
  {
   "cell_type": "code",
   "execution_count": 141,
   "metadata": {
    "ExecuteTime": {
     "end_time": "2021-07-04T08:17:25.536136Z",
     "start_time": "2021-07-04T08:17:25.440136Z"
    }
   },
   "outputs": [
    {
     "ename": "IndexError",
     "evalue": "list index out of range",
     "output_type": "error",
     "traceback": [
      "\u001b[1;31m---------------------------------------------------------------------------\u001b[0m",
      "\u001b[1;31mIndexError\u001b[0m                                Traceback (most recent call last)",
      "\u001b[1;32m<ipython-input-141-d2bb2645f7c8>\u001b[0m in \u001b[0;36m<module>\u001b[1;34m\u001b[0m\n\u001b[1;32m----> 1\u001b[1;33m \u001b[0mvalidate\u001b[0m\u001b[1;33m(\u001b[0m\u001b[0msol2\u001b[0m\u001b[1;33m,\u001b[0m\u001b[0mcustomers\u001b[0m\u001b[1;33m,\u001b[0m\u001b[0mfacilities\u001b[0m\u001b[1;33m)\u001b[0m\u001b[1;33m\u001b[0m\u001b[1;33m\u001b[0m\u001b[0m\n\u001b[0m",
      "\u001b[1;32m~\\Codes\\discrete-optim\\5 facility\\calc.py\u001b[0m in \u001b[0;36mvalidate\u001b[1;34m(allocations, customers, facilities)\u001b[0m\n\u001b[0;32m     32\u001b[0m         \u001b[0mcap\u001b[0m \u001b[1;33m=\u001b[0m \u001b[0mfacility\u001b[0m\u001b[1;33m.\u001b[0m\u001b[0mcapacity\u001b[0m\u001b[1;33m\u001b[0m\u001b[1;33m\u001b[0m\u001b[0m\n\u001b[0;32m     33\u001b[0m         \u001b[1;32mfor\u001b[0m \u001b[0mc\u001b[0m \u001b[1;32min\u001b[0m \u001b[0mallocated_customers\u001b[0m\u001b[1;33m:\u001b[0m\u001b[1;33m\u001b[0m\u001b[1;33m\u001b[0m\u001b[0m\n\u001b[1;32m---> 34\u001b[1;33m             \u001b[0mdemand\u001b[0m \u001b[1;33m+=\u001b[0m \u001b[0mcustomers\u001b[0m\u001b[1;33m[\u001b[0m\u001b[0mc\u001b[0m\u001b[1;33m]\u001b[0m\u001b[1;33m.\u001b[0m\u001b[0mdemand\u001b[0m\u001b[1;33m\u001b[0m\u001b[1;33m\u001b[0m\u001b[0m\n\u001b[0m\u001b[0;32m     35\u001b[0m         \u001b[1;32massert\u001b[0m \u001b[0mdemand\u001b[0m \u001b[1;33m<=\u001b[0m \u001b[0mcap\u001b[0m\u001b[1;33m,\u001b[0m \u001b[1;34mf\"Facility#{i} is overloaded: {demand:.1f}/{cap:.1f}\"\u001b[0m\u001b[1;33m\u001b[0m\u001b[1;33m\u001b[0m\u001b[0m\n\u001b[0;32m     36\u001b[0m \u001b[1;33m\u001b[0m\u001b[0m\n",
      "\u001b[1;31mIndexError\u001b[0m: list index out of range"
     ]
    }
   ],
   "source": [
    "validate(sol2,customers,facilities)"
   ]
  },
  {
   "cell_type": "markdown",
   "metadata": {},
   "source": [
    "## Constraint Programming"
   ]
  },
  {
   "cell_type": "markdown",
   "metadata": {},
   "source": [
    "### Uncapacitated Facilities"
   ]
  },
  {
   "cell_type": "code",
   "execution_count": 143,
   "metadata": {
    "ExecuteTime": {
     "end_time": "2021-07-04T08:19:34.131582Z",
     "start_time": "2021-07-04T08:19:34.091582Z"
    }
   },
   "outputs": [],
   "source": [
    "from ortools.sat.python.cp_model import CpModel, CpSolver"
   ]
  },
  {
   "cell_type": "code",
   "execution_count": null,
   "metadata": {},
   "outputs": [],
   "source": [
    "\n"
   ]
  }
 ],
 "metadata": {
  "jupytext": {
   "formats": "ipynb,py"
  },
  "kernelspec": {
   "display_name": "Python 3",
   "language": "python",
   "name": "python3"
  },
  "language_info": {
   "codemirror_mode": {
    "name": "ipython",
    "version": 3
   },
   "file_extension": ".py",
   "mimetype": "text/x-python",
   "name": "python",
   "nbconvert_exporter": "python",
   "pygments_lexer": "ipython3",
   "version": "3.8.3"
  },
  "toc": {
   "base_numbering": 1,
   "nav_menu": {},
   "number_sections": true,
   "sideBar": true,
   "skip_h1_title": false,
   "title_cell": "Table of Contents",
   "title_sidebar": "Contents",
   "toc_cell": false,
   "toc_position": {},
   "toc_section_display": true,
   "toc_window_display": true
  },
  "varInspector": {
   "cols": {
    "lenName": 16,
    "lenType": 16,
    "lenVar": 40
   },
   "kernels_config": {
    "python": {
     "delete_cmd_postfix": "",
     "delete_cmd_prefix": "del ",
     "library": "var_list.py",
     "varRefreshCmd": "print(var_dic_list())"
    },
    "r": {
     "delete_cmd_postfix": ") ",
     "delete_cmd_prefix": "rm(",
     "library": "var_list.r",
     "varRefreshCmd": "cat(var_dic_list()) "
    }
   },
   "types_to_exclude": [
    "module",
    "function",
    "builtin_function_or_method",
    "instance",
    "_Feature"
   ],
   "window_display": false
  }
 },
 "nbformat": 4,
 "nbformat_minor": 4
}
