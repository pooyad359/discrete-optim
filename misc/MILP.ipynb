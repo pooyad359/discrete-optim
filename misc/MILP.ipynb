{
 "cells": [
  {
   "cell_type": "markdown",
   "metadata": {},
   "source": [
    "# Set up"
   ]
  },
  {
   "cell_type": "code",
   "execution_count": 1,
   "metadata": {
    "ExecuteTime": {
     "end_time": "2021-06-17T14:49:24.060558Z",
     "start_time": "2021-06-17T14:49:23.896060Z"
    }
   },
   "outputs": [
    {
     "data": {
      "application/javascript": [
       "\n",
       "            setTimeout(function() {\n",
       "                var nbb_cell_id = 1;\n",
       "                var nbb_unformatted_code = \"%load_ext nb_black\";\n",
       "                var nbb_formatted_code = \"%load_ext nb_black\";\n",
       "                var nbb_cells = Jupyter.notebook.get_cells();\n",
       "                for (var i = 0; i < nbb_cells.length; ++i) {\n",
       "                    if (nbb_cells[i].input_prompt_number == nbb_cell_id) {\n",
       "                        if (nbb_cells[i].get_text() == nbb_unformatted_code) {\n",
       "                             nbb_cells[i].set_text(nbb_formatted_code);\n",
       "                        }\n",
       "                        break;\n",
       "                    }\n",
       "                }\n",
       "            }, 500);\n",
       "            "
      ],
      "text/plain": [
       "<IPython.core.display.Javascript object>"
      ]
     },
     "metadata": {},
     "output_type": "display_data"
    }
   ],
   "source": [
    "%load_ext nb_black"
   ]
  },
  {
   "cell_type": "code",
   "execution_count": 2,
   "metadata": {
    "ExecuteTime": {
     "end_time": "2021-06-17T14:49:24.152557Z",
     "start_time": "2021-06-17T14:49:24.139558Z"
    }
   },
   "outputs": [
    {
     "data": {
      "application/javascript": [
       "\n",
       "            setTimeout(function() {\n",
       "                var nbb_cell_id = 2;\n",
       "                var nbb_unformatted_code = \"from ortools.linear_solver import pywraplp\\nimport numpy as np\\nimport os\";\n",
       "                var nbb_formatted_code = \"from ortools.linear_solver import pywraplp\\nimport numpy as np\\nimport os\";\n",
       "                var nbb_cells = Jupyter.notebook.get_cells();\n",
       "                for (var i = 0; i < nbb_cells.length; ++i) {\n",
       "                    if (nbb_cells[i].input_prompt_number == nbb_cell_id) {\n",
       "                        if (nbb_cells[i].get_text() == nbb_unformatted_code) {\n",
       "                             nbb_cells[i].set_text(nbb_formatted_code);\n",
       "                        }\n",
       "                        break;\n",
       "                    }\n",
       "                }\n",
       "            }, 500);\n",
       "            "
      ],
      "text/plain": [
       "<IPython.core.display.Javascript object>"
      ]
     },
     "metadata": {},
     "output_type": "display_data"
    }
   ],
   "source": [
    "from ortools.linear_solver import pywraplp\n",
    "import numpy as np\n",
    "import os\n"
   ]
  },
  {
   "cell_type": "code",
   "execution_count": 3,
   "metadata": {
    "ExecuteTime": {
     "end_time": "2021-06-17T14:33:19.501848Z",
     "start_time": "2021-06-17T14:33:19.478103Z"
    }
   },
   "outputs": [
    {
     "data": {
      "application/javascript": [
       "\n",
       "            setTimeout(function() {\n",
       "                var nbb_cell_id = 3;\n",
       "                var nbb_unformatted_code = \"def main():\\n    # Create the mip solver with the SCIP backend.\\n    solver = pywraplp.Solver.CreateSolver('SCIP','SCIP')\\n\\n    infinity = solver.infinity()\\n    # x and y are integer non-negative variables.\\n    x = solver.IntVar(0, infinity, 'x')\\n    y = solver.IntVar(0, infinity, 'y')\\n\\n    print('Number of variables =', solver.NumVariables())\\n\\n    # x + 7 * y <= 17.5.\\n    solver.Add(x + 7 * y <= 17.5)\\n\\n    # x <= 3.5.\\n    solver.Add(x <= 3.5)\\n\\n    print('Number of constraints =', solver.NumConstraints())\\n\\n    # Maximize x + 10 * y.\\n    solver.Maximize(x + 10 * y)\\n\\n    status = solver.Solve()\\n\\n    if status == pywraplp.Solver.OPTIMAL:\\n        print('Solution:')\\n        print('Objective value =', solver.Objective().Value())\\n        print('x =', x.solution_value())\\n        print('y =', y.solution_value())\\n    else:\\n        print('The problem does not have an optimal solution.')\\n\\n    print('\\\\nAdvanced usage:')\\n    print('Problem solved in %f milliseconds' % solver.wall_time())\\n    print('Problem solved in %d iterations' % solver.iterations())\\n    print('Problem solved in %d branch-and-bound nodes' % solver.nodes())\";\n",
       "                var nbb_formatted_code = \"def main():\\n    # Create the mip solver with the SCIP backend.\\n    solver = pywraplp.Solver.CreateSolver(\\\"SCIP\\\", \\\"SCIP\\\")\\n\\n    infinity = solver.infinity()\\n    # x and y are integer non-negative variables.\\n    x = solver.IntVar(0, infinity, \\\"x\\\")\\n    y = solver.IntVar(0, infinity, \\\"y\\\")\\n\\n    print(\\\"Number of variables =\\\", solver.NumVariables())\\n\\n    # x + 7 * y <= 17.5.\\n    solver.Add(x + 7 * y <= 17.5)\\n\\n    # x <= 3.5.\\n    solver.Add(x <= 3.5)\\n\\n    print(\\\"Number of constraints =\\\", solver.NumConstraints())\\n\\n    # Maximize x + 10 * y.\\n    solver.Maximize(x + 10 * y)\\n\\n    status = solver.Solve()\\n\\n    if status == pywraplp.Solver.OPTIMAL:\\n        print(\\\"Solution:\\\")\\n        print(\\\"Objective value =\\\", solver.Objective().Value())\\n        print(\\\"x =\\\", x.solution_value())\\n        print(\\\"y =\\\", y.solution_value())\\n    else:\\n        print(\\\"The problem does not have an optimal solution.\\\")\\n\\n    print(\\\"\\\\nAdvanced usage:\\\")\\n    print(\\\"Problem solved in %f milliseconds\\\" % solver.wall_time())\\n    print(\\\"Problem solved in %d iterations\\\" % solver.iterations())\\n    print(\\\"Problem solved in %d branch-and-bound nodes\\\" % solver.nodes())\";\n",
       "                var nbb_cells = Jupyter.notebook.get_cells();\n",
       "                for (var i = 0; i < nbb_cells.length; ++i) {\n",
       "                    if (nbb_cells[i].input_prompt_number == nbb_cell_id) {\n",
       "                        if (nbb_cells[i].get_text() == nbb_unformatted_code) {\n",
       "                             nbb_cells[i].set_text(nbb_formatted_code);\n",
       "                        }\n",
       "                        break;\n",
       "                    }\n",
       "                }\n",
       "            }, 500);\n",
       "            "
      ],
      "text/plain": [
       "<IPython.core.display.Javascript object>"
      ]
     },
     "metadata": {},
     "output_type": "display_data"
    }
   ],
   "source": [
    "def main():\n",
    "    # Create the mip solver with the SCIP backend.\n",
    "    solver = pywraplp.Solver.CreateSolver('SCIP','SCIP')\n",
    "\n",
    "    infinity = solver.infinity()\n",
    "    # x and y are integer non-negative variables.\n",
    "    x = solver.IntVar(0, infinity, 'x')\n",
    "    y = solver.IntVar(0, infinity, 'y')\n",
    "\n",
    "    print('Number of variables =', solver.NumVariables())\n",
    "\n",
    "    # x + 7 * y <= 17.5.\n",
    "    solver.Add(x + 7 * y <= 17.5)\n",
    "\n",
    "    # x <= 3.5.\n",
    "    solver.Add(x <= 3.5)\n",
    "\n",
    "    print('Number of constraints =', solver.NumConstraints())\n",
    "\n",
    "    # Maximize x + 10 * y.\n",
    "    solver.Maximize(x + 10 * y)\n",
    "\n",
    "    status = solver.Solve()\n",
    "\n",
    "    if status == pywraplp.Solver.OPTIMAL:\n",
    "        print('Solution:')\n",
    "        print('Objective value =', solver.Objective().Value())\n",
    "        print('x =', x.solution_value())\n",
    "        print('y =', y.solution_value())\n",
    "    else:\n",
    "        print('The problem does not have an optimal solution.')\n",
    "\n",
    "    print('\\nAdvanced usage:')\n",
    "    print('Problem solved in %f milliseconds' % solver.wall_time())\n",
    "    print('Problem solved in %d iterations' % solver.iterations())\n",
    "    print('Problem solved in %d branch-and-bound nodes' % solver.nodes())\n",
    "\n",
    "\n"
   ]
  },
  {
   "cell_type": "code",
   "execution_count": 4,
   "metadata": {
    "ExecuteTime": {
     "end_time": "2021-06-17T14:33:21.307810Z",
     "start_time": "2021-06-17T14:33:21.278431Z"
    }
   },
   "outputs": [
    {
     "name": "stdout",
     "output_type": "stream",
     "text": [
      "Number of variables = 2\n",
      "Number of constraints = 2\n",
      "Solution:\n",
      "Objective value = 23.0\n",
      "x = 3.0\n",
      "y = 2.0\n",
      "\n",
      "Advanced usage:\n",
      "Problem solved in 11.000000 milliseconds\n",
      "Problem solved in 0 iterations\n",
      "Problem solved in 1 branch-and-bound nodes\n"
     ]
    },
    {
     "data": {
      "application/javascript": [
       "\n",
       "            setTimeout(function() {\n",
       "                var nbb_cell_id = 4;\n",
       "                var nbb_unformatted_code = \"main()\";\n",
       "                var nbb_formatted_code = \"main()\";\n",
       "                var nbb_cells = Jupyter.notebook.get_cells();\n",
       "                for (var i = 0; i < nbb_cells.length; ++i) {\n",
       "                    if (nbb_cells[i].input_prompt_number == nbb_cell_id) {\n",
       "                        if (nbb_cells[i].get_text() == nbb_unformatted_code) {\n",
       "                             nbb_cells[i].set_text(nbb_formatted_code);\n",
       "                        }\n",
       "                        break;\n",
       "                    }\n",
       "                }\n",
       "            }, 500);\n",
       "            "
      ],
      "text/plain": [
       "<IPython.core.display.Javascript object>"
      ]
     },
     "metadata": {},
     "output_type": "display_data"
    }
   ],
   "source": [
    "main()"
   ]
  },
  {
   "cell_type": "markdown",
   "metadata": {},
   "source": [
    "# Knapsack"
   ]
  },
  {
   "cell_type": "code",
   "execution_count": 24,
   "metadata": {
    "ExecuteTime": {
     "end_time": "2021-06-17T14:14:38.951336Z",
     "start_time": "2021-06-17T14:14:38.938337Z"
    }
   },
   "outputs": [
    {
     "data": {
      "application/javascript": [
       "\n",
       "            setTimeout(function() {\n",
       "                var nbb_cell_id = 24;\n",
       "                var nbb_unformatted_code = \"path = '../2 knapsack/data'\\nfiles = os.listdir(path)\";\n",
       "                var nbb_formatted_code = \"path = \\\"../2 knapsack/data\\\"\\nfiles = os.listdir(path)\";\n",
       "                var nbb_cells = Jupyter.notebook.get_cells();\n",
       "                for (var i = 0; i < nbb_cells.length; ++i) {\n",
       "                    if (nbb_cells[i].input_prompt_number == nbb_cell_id) {\n",
       "                        if (nbb_cells[i].get_text() == nbb_unformatted_code) {\n",
       "                             nbb_cells[i].set_text(nbb_formatted_code);\n",
       "                        }\n",
       "                        break;\n",
       "                    }\n",
       "                }\n",
       "            }, 500);\n",
       "            "
      ],
      "text/plain": [
       "<IPython.core.display.Javascript object>"
      ]
     },
     "metadata": {},
     "output_type": "display_data"
    }
   ],
   "source": [
    "path = '../2 knapsack/data'\n",
    "files = os.listdir(path)\n"
   ]
  },
  {
   "cell_type": "code",
   "execution_count": 25,
   "metadata": {
    "ExecuteTime": {
     "end_time": "2021-06-17T14:14:40.935294Z",
     "start_time": "2021-06-17T14:14:40.918273Z"
    }
   },
   "outputs": [
    {
     "name": "stdout",
     "output_type": "stream",
     "text": [
      "0 ks_10000_0\n",
      "1 ks_1000_0\n",
      "2 ks_100_0\n",
      "3 ks_100_1\n",
      "4 ks_100_2\n",
      "5 ks_106_0\n",
      "6 ks_19_0\n",
      "7 ks_200_0\n",
      "8 ks_200_1\n",
      "9 ks_300_0\n",
      "10 ks_30_0\n",
      "11 ks_400_0\n",
      "12 ks_40_0\n",
      "13 ks_45_0\n",
      "14 ks_4_0\n",
      "15 ks_500_0\n",
      "16 ks_50_0\n",
      "17 ks_50_1\n",
      "18 ks_60_0\n",
      "19 ks_82_0\n",
      "20 ks_lecture_dp_1\n",
      "21 ks_lecture_dp_2\n"
     ]
    },
    {
     "data": {
      "application/javascript": [
       "\n",
       "            setTimeout(function() {\n",
       "                var nbb_cell_id = 25;\n",
       "                var nbb_unformatted_code = \"for i, f in enumerate(files):\\n    print(i, f)\";\n",
       "                var nbb_formatted_code = \"for i, f in enumerate(files):\\n    print(i, f)\";\n",
       "                var nbb_cells = Jupyter.notebook.get_cells();\n",
       "                for (var i = 0; i < nbb_cells.length; ++i) {\n",
       "                    if (nbb_cells[i].input_prompt_number == nbb_cell_id) {\n",
       "                        if (nbb_cells[i].get_text() == nbb_unformatted_code) {\n",
       "                             nbb_cells[i].set_text(nbb_formatted_code);\n",
       "                        }\n",
       "                        break;\n",
       "                    }\n",
       "                }\n",
       "            }, 500);\n",
       "            "
      ],
      "text/plain": [
       "<IPython.core.display.Javascript object>"
      ]
     },
     "metadata": {},
     "output_type": "display_data"
    }
   ],
   "source": [
    "for i, f in enumerate(files):\n",
    "    print(i, f)"
   ]
  },
  {
   "cell_type": "code",
   "execution_count": 26,
   "metadata": {
    "ExecuteTime": {
     "end_time": "2021-06-17T14:14:48.354336Z",
     "start_time": "2021-06-17T14:14:48.334336Z"
    }
   },
   "outputs": [
    {
     "data": {
      "application/javascript": [
       "\n",
       "            setTimeout(function() {\n",
       "                var nbb_cell_id = 26;\n",
       "                var nbb_unformatted_code = \"def parse_data(data):\\n    lines = data.split(\\\"\\\\n\\\")\\n    n, cap = lines[0].split()\\n    data = [line.split() for line in lines if len(line) > 0]\\n    n, cap = data.pop(0)\\n    return np.int(n), np.float(cap), np.array(data, dtype=float)\";\n",
       "                var nbb_formatted_code = \"def parse_data(data):\\n    lines = data.split(\\\"\\\\n\\\")\\n    n, cap = lines[0].split()\\n    data = [line.split() for line in lines if len(line) > 0]\\n    n, cap = data.pop(0)\\n    return np.int(n), np.float(cap), np.array(data, dtype=float)\";\n",
       "                var nbb_cells = Jupyter.notebook.get_cells();\n",
       "                for (var i = 0; i < nbb_cells.length; ++i) {\n",
       "                    if (nbb_cells[i].input_prompt_number == nbb_cell_id) {\n",
       "                        if (nbb_cells[i].get_text() == nbb_unformatted_code) {\n",
       "                             nbb_cells[i].set_text(nbb_formatted_code);\n",
       "                        }\n",
       "                        break;\n",
       "                    }\n",
       "                }\n",
       "            }, 500);\n",
       "            "
      ],
      "text/plain": [
       "<IPython.core.display.Javascript object>"
      ]
     },
     "metadata": {},
     "output_type": "display_data"
    }
   ],
   "source": [
    "def parse_data(data):\n",
    "    lines = data.split(\"\\n\")\n",
    "    n, cap = lines[0].split()\n",
    "    data = [line.split() for line in lines if len(line) > 0]\n",
    "    n, cap = data.pop(0)\n",
    "    return np.int(n), np.float(cap), np.array(data, dtype=float)"
   ]
  },
  {
   "cell_type": "code",
   "execution_count": 40,
   "metadata": {
    "ExecuteTime": {
     "end_time": "2021-06-17T14:29:02.025707Z",
     "start_time": "2021-06-17T14:29:01.938670Z"
    }
   },
   "outputs": [
    {
     "data": {
      "application/javascript": [
       "\n",
       "            setTimeout(function() {\n",
       "                var nbb_cell_id = 40;\n",
       "                var nbb_unformatted_code = \"file = files[0]\\nwith open(os.path.join(path, file)) as fp:\\n    data = fp.read()\\n\\nn, K, data = parse_data(data)\\nvalues = data[:, 0]\\nweights = data[:, 1]\";\n",
       "                var nbb_formatted_code = \"file = files[0]\\nwith open(os.path.join(path, file)) as fp:\\n    data = fp.read()\\n\\nn, K, data = parse_data(data)\\nvalues = data[:, 0]\\nweights = data[:, 1]\";\n",
       "                var nbb_cells = Jupyter.notebook.get_cells();\n",
       "                for (var i = 0; i < nbb_cells.length; ++i) {\n",
       "                    if (nbb_cells[i].input_prompt_number == nbb_cell_id) {\n",
       "                        if (nbb_cells[i].get_text() == nbb_unformatted_code) {\n",
       "                             nbb_cells[i].set_text(nbb_formatted_code);\n",
       "                        }\n",
       "                        break;\n",
       "                    }\n",
       "                }\n",
       "            }, 500);\n",
       "            "
      ],
      "text/plain": [
       "<IPython.core.display.Javascript object>"
      ]
     },
     "metadata": {},
     "output_type": "display_data"
    }
   ],
   "source": [
    "file = files[0]\n",
    "with open(os.path.join(path, file)) as fp:\n",
    "    data = fp.read()\n",
    "\n",
    "n, K, data = parse_data(data)\n",
    "values = data[:, 0]\n",
    "weights = data[:, 1]"
   ]
  },
  {
   "cell_type": "code",
   "execution_count": 38,
   "metadata": {
    "ExecuteTime": {
     "end_time": "2021-06-17T14:28:12.681150Z",
     "start_time": "2021-06-17T14:28:12.654697Z"
    }
   },
   "outputs": [
    {
     "data": {
      "application/javascript": [
       "\n",
       "            setTimeout(function() {\n",
       "                var nbb_cell_id = 38;\n",
       "                var nbb_unformatted_code = \"def ks_mip(weights, values, capacity):\\n    assert len(weights) == len(values), \\\"Weights and Values must be of the same size.\\\"\\n\\n    # Create solver\\n    solver = pywraplp.Solver.CreateSolver(\\\"SCIP\\\", \\\"SCIP\\\")\\n\\n    # Define Variables\\n    n = len(weights)\\n    choices = [solver.BoolVar(f\\\"x_{i}\\\") for i in range(n)]\\n\\n    # Constraints\\n    total_weight = sum([weights[i] * choices[i] for i in range(n)])\\n    solver.Add(total_weight <= capacity)\\n\\n    # Objective\\n    total_value = sum([values[i] * choices[i] for i in range(n)])\\n    solver.Maximize(total_value)\\n\\n    # Solve\\n    status = solver.Solve()\\n\\n    # Solution\\n    if status == pywraplp.Solver.OPTIMAL:\\n        solution = [choices[i].solution_value() for i in range(n)]\\n        total_weight = sum([weights[i] * solution[i] for i in range(n)])\\n        print(\\\"Solution:\\\")\\n        print(f\\\"Objective value = {solver.Objective().Value()}\\\" )\\n        print(f\\\"Weight = {total_weight}/{capacity}\\\" )\\n        print(solution)\\n    #         print('x =', x.solution_value())\\n    #         print('y =', y.solution_value())\\n    else:\\n        print(\\\"The problem does not have an optimal solution.\\\")\\n\\n    print(\\\"\\\\nAdvanced usage:\\\")\\n    print(\\\"Problem solved in %f milliseconds\\\" % solver.wall_time())\\n    print(\\\"Problem solved in %d iterations\\\" % solver.iterations())\\n    print(\\\"Problem solved in %d branch-and-bound nodes\\\" % solver.nodes())\";\n",
       "                var nbb_formatted_code = \"def ks_mip(weights, values, capacity):\\n    assert len(weights) == len(values), \\\"Weights and Values must be of the same size.\\\"\\n\\n    # Create solver\\n    solver = pywraplp.Solver.CreateSolver(\\\"SCIP\\\", \\\"SCIP\\\")\\n\\n    # Define Variables\\n    n = len(weights)\\n    choices = [solver.BoolVar(f\\\"x_{i}\\\") for i in range(n)]\\n\\n    # Constraints\\n    total_weight = sum([weights[i] * choices[i] for i in range(n)])\\n    solver.Add(total_weight <= capacity)\\n\\n    # Objective\\n    total_value = sum([values[i] * choices[i] for i in range(n)])\\n    solver.Maximize(total_value)\\n\\n    # Solve\\n    status = solver.Solve()\\n\\n    # Solution\\n    if status == pywraplp.Solver.OPTIMAL:\\n        solution = [choices[i].solution_value() for i in range(n)]\\n        total_weight = sum([weights[i] * solution[i] for i in range(n)])\\n        print(\\\"Solution:\\\")\\n        print(f\\\"Objective value = {solver.Objective().Value()}\\\")\\n        print(f\\\"Weight = {total_weight}/{capacity}\\\")\\n        print(solution)\\n    #         print('x =', x.solution_value())\\n    #         print('y =', y.solution_value())\\n    else:\\n        print(\\\"The problem does not have an optimal solution.\\\")\\n\\n    print(\\\"\\\\nAdvanced usage:\\\")\\n    print(\\\"Problem solved in %f milliseconds\\\" % solver.wall_time())\\n    print(\\\"Problem solved in %d iterations\\\" % solver.iterations())\\n    print(\\\"Problem solved in %d branch-and-bound nodes\\\" % solver.nodes())\";\n",
       "                var nbb_cells = Jupyter.notebook.get_cells();\n",
       "                for (var i = 0; i < nbb_cells.length; ++i) {\n",
       "                    if (nbb_cells[i].input_prompt_number == nbb_cell_id) {\n",
       "                        if (nbb_cells[i].get_text() == nbb_unformatted_code) {\n",
       "                             nbb_cells[i].set_text(nbb_formatted_code);\n",
       "                        }\n",
       "                        break;\n",
       "                    }\n",
       "                }\n",
       "            }, 500);\n",
       "            "
      ],
      "text/plain": [
       "<IPython.core.display.Javascript object>"
      ]
     },
     "metadata": {},
     "output_type": "display_data"
    }
   ],
   "source": [
    "def ks_mip(weights, values, capacity):\n",
    "    assert len(weights) == len(values), \"Weights and Values must be of the same size.\"\n",
    "\n",
    "    # Create solver\n",
    "    solver = pywraplp.Solver.CreateSolver(\"SCIP\", \"SCIP\")\n",
    "\n",
    "    # Define Variables\n",
    "    n = len(weights)\n",
    "    choices = [solver.BoolVar(f\"x_{i}\") for i in range(n)]\n",
    "\n",
    "    # Constraints\n",
    "    total_weight = sum([weights[i] * choices[i] for i in range(n)])\n",
    "    solver.Add(total_weight <= capacity)\n",
    "\n",
    "    # Objective\n",
    "    total_value = sum([values[i] * choices[i] for i in range(n)])\n",
    "    solver.Maximize(total_value)\n",
    "\n",
    "    # Solve\n",
    "    status = solver.Solve()\n",
    "\n",
    "    # Solution\n",
    "    if status == pywraplp.Solver.OPTIMAL:\n",
    "        solution = [choices[i].solution_value() for i in range(n)]\n",
    "        total_weight = sum([weights[i] * solution[i] for i in range(n)])\n",
    "        print(\"Solution:\")\n",
    "        print(f\"Objective value = {solver.Objective().Value()}\")\n",
    "        print(f\"Weight = {total_weight}/{capacity}\")\n",
    "        print(solution)\n",
    "    #         print('x =', x.solution_value())\n",
    "    #         print('y =', y.solution_value())\n",
    "    else:\n",
    "        print(\"The problem does not have an optimal solution.\")\n",
    "\n",
    "    print(\"\\nAdvanced usage:\")\n",
    "    print(\"Problem solved in %f milliseconds\" % solver.wall_time())\n",
    "    print(\"Problem solved in %d iterations\" % solver.iterations())\n",
    "    print(\"Problem solved in %d branch-and-bound nodes\" % solver.nodes())"
   ]
  },
  {
   "cell_type": "code",
   "execution_count": null,
   "metadata": {
    "ExecuteTime": {
     "start_time": "2021-06-17T14:29:07.506Z"
    }
   },
   "outputs": [],
   "source": [
    "ks_mip(weights, values, capacity=K)"
   ]
  },
  {
   "cell_type": "markdown",
   "metadata": {},
   "source": [
    "# Graph Coloring"
   ]
  },
  {
   "cell_type": "code",
   "execution_count": 3,
   "metadata": {
    "ExecuteTime": {
     "end_time": "2021-06-17T14:49:30.155569Z",
     "start_time": "2021-06-17T14:49:30.141569Z"
    }
   },
   "outputs": [
    {
     "data": {
      "text/plain": [
       "['0. gc_1000_1',\n",
       " '1. gc_1000_3',\n",
       " '2. gc_1000_5',\n",
       " '3. gc_1000_7',\n",
       " '4. gc_1000_9',\n",
       " '5. gc_100_1',\n",
       " '6. gc_100_3',\n",
       " '7. gc_100_5',\n",
       " '8. gc_100_7',\n",
       " '9. gc_100_9',\n",
       " '10. gc_20_1',\n",
       " '11. gc_20_3',\n",
       " '12. gc_20_5',\n",
       " '13. gc_20_7',\n",
       " '14. gc_20_9',\n",
       " '15. gc_250_1',\n",
       " '16. gc_250_3',\n",
       " '17. gc_250_5',\n",
       " '18. gc_250_7',\n",
       " '19. gc_250_9',\n",
       " '20. gc_4_1',\n",
       " '21. gc_500_1',\n",
       " '22. gc_500_3',\n",
       " '23. gc_500_5',\n",
       " '24. gc_500_7',\n",
       " '25. gc_500_9',\n",
       " '26. gc_50_1',\n",
       " '27. gc_50_3',\n",
       " '28. gc_50_5',\n",
       " '29. gc_50_7',\n",
       " '30. gc_50_9',\n",
       " '31. gc_70_1',\n",
       " '32. gc_70_3',\n",
       " '33. gc_70_5',\n",
       " '34. gc_70_7',\n",
       " '35. gc_70_9']"
      ]
     },
     "execution_count": 3,
     "metadata": {},
     "output_type": "execute_result"
    },
    {
     "data": {
      "application/javascript": [
       "\n",
       "            setTimeout(function() {\n",
       "                var nbb_cell_id = 3;\n",
       "                var nbb_unformatted_code = \"path = \\\"../3 coloring/data\\\"\\nfiles = os.listdir(path)\\n[f\\\"{i}. {f}\\\" for i, f in enumerate(files)]\";\n",
       "                var nbb_formatted_code = \"path = \\\"../3 coloring/data\\\"\\nfiles = os.listdir(path)\\n[f\\\"{i}. {f}\\\" for i, f in enumerate(files)]\";\n",
       "                var nbb_cells = Jupyter.notebook.get_cells();\n",
       "                for (var i = 0; i < nbb_cells.length; ++i) {\n",
       "                    if (nbb_cells[i].input_prompt_number == nbb_cell_id) {\n",
       "                        if (nbb_cells[i].get_text() == nbb_unformatted_code) {\n",
       "                             nbb_cells[i].set_text(nbb_formatted_code);\n",
       "                        }\n",
       "                        break;\n",
       "                    }\n",
       "                }\n",
       "            }, 500);\n",
       "            "
      ],
      "text/plain": [
       "<IPython.core.display.Javascript object>"
      ]
     },
     "metadata": {},
     "output_type": "display_data"
    }
   ],
   "source": [
    "path = \"../3 coloring/data\"\n",
    "files = os.listdir(path)\n",
    "[f\"{i}. {f}\" for i, f in enumerate(files)]"
   ]
  },
  {
   "cell_type": "code",
   "execution_count": 15,
   "metadata": {
    "ExecuteTime": {
     "end_time": "2021-06-17T14:51:21.931585Z",
     "start_time": "2021-06-17T14:51:21.922566Z"
    }
   },
   "outputs": [
    {
     "name": "stdout",
     "output_type": "stream",
     "text": [
      "gc_20_1\n",
      "20 23\n",
      "0 16\n",
      "1 2\n",
      "\n"
     ]
    },
    {
     "data": {
      "application/javascript": [
       "\n",
       "            setTimeout(function() {\n",
       "                var nbb_cell_id = 15;\n",
       "                var nbb_unformatted_code = \"idx = 10\\nprint(files[idx])\\nwith open(os.path.join(path, files[idx]), \\\"r\\\") as fp:\\n    input_data = fp.read()\\nprint(input_data[:15])\";\n",
       "                var nbb_formatted_code = \"idx = 10\\nprint(files[idx])\\nwith open(os.path.join(path, files[idx]), \\\"r\\\") as fp:\\n    input_data = fp.read()\\nprint(input_data[:15])\";\n",
       "                var nbb_cells = Jupyter.notebook.get_cells();\n",
       "                for (var i = 0; i < nbb_cells.length; ++i) {\n",
       "                    if (nbb_cells[i].input_prompt_number == nbb_cell_id) {\n",
       "                        if (nbb_cells[i].get_text() == nbb_unformatted_code) {\n",
       "                             nbb_cells[i].set_text(nbb_formatted_code);\n",
       "                        }\n",
       "                        break;\n",
       "                    }\n",
       "                }\n",
       "            }, 500);\n",
       "            "
      ],
      "text/plain": [
       "<IPython.core.display.Javascript object>"
      ]
     },
     "metadata": {},
     "output_type": "display_data"
    }
   ],
   "source": [
    "idx = 10\n",
    "print(files[idx])\n",
    "with open(os.path.join(path, files[idx]), \"r\") as fp:\n",
    "    input_data = fp.read()\n",
    "print(input_data[:15])"
   ]
  },
  {
   "cell_type": "code",
   "execution_count": 16,
   "metadata": {
    "ExecuteTime": {
     "end_time": "2021-06-17T14:51:22.603292Z",
     "start_time": "2021-06-17T14:51:22.578292Z"
    }
   },
   "outputs": [
    {
     "name": "stdout",
     "output_type": "stream",
     "text": [
      "20 23\n"
     ]
    },
    {
     "data": {
      "application/javascript": [
       "\n",
       "            setTimeout(function() {\n",
       "                var nbb_cell_id = 16;\n",
       "                var nbb_unformatted_code = \"lines = input_data.split(\\\"\\\\n\\\")\\n\\nfirst_line = lines[0].split()\\nnode_count = int(first_line[0])\\nedge_count = int(first_line[1])\\n\\nedges = []\\nfor i in range(1, edge_count + 1):\\n    line = lines[i]\\n    parts = line.split()\\n    edges.append((int(parts[0]), int(parts[1])))\\n\\nprint(node_count, edge_count)\";\n",
       "                var nbb_formatted_code = \"lines = input_data.split(\\\"\\\\n\\\")\\n\\nfirst_line = lines[0].split()\\nnode_count = int(first_line[0])\\nedge_count = int(first_line[1])\\n\\nedges = []\\nfor i in range(1, edge_count + 1):\\n    line = lines[i]\\n    parts = line.split()\\n    edges.append((int(parts[0]), int(parts[1])))\\n\\nprint(node_count, edge_count)\";\n",
       "                var nbb_cells = Jupyter.notebook.get_cells();\n",
       "                for (var i = 0; i < nbb_cells.length; ++i) {\n",
       "                    if (nbb_cells[i].input_prompt_number == nbb_cell_id) {\n",
       "                        if (nbb_cells[i].get_text() == nbb_unformatted_code) {\n",
       "                             nbb_cells[i].set_text(nbb_formatted_code);\n",
       "                        }\n",
       "                        break;\n",
       "                    }\n",
       "                }\n",
       "            }, 500);\n",
       "            "
      ],
      "text/plain": [
       "<IPython.core.display.Javascript object>"
      ]
     },
     "metadata": {},
     "output_type": "display_data"
    }
   ],
   "source": [
    "lines = input_data.split(\"\\n\")\n",
    "\n",
    "first_line = lines[0].split()\n",
    "node_count = int(first_line[0])\n",
    "edge_count = int(first_line[1])\n",
    "\n",
    "edges = []\n",
    "for i in range(1, edge_count + 1):\n",
    "    line = lines[i]\n",
    "    parts = line.split()\n",
    "    edges.append((int(parts[0]), int(parts[1])))\n",
    "\n",
    "print(node_count, edge_count)"
   ]
  },
  {
   "cell_type": "code",
   "execution_count": 17,
   "metadata": {
    "ExecuteTime": {
     "end_time": "2021-06-17T14:51:23.811898Z",
     "start_time": "2021-06-17T14:51:23.801896Z"
    }
   },
   "outputs": [
    {
     "name": "stdout",
     "output_type": "stream",
     "text": [
      "17 5\n"
     ]
    },
    {
     "data": {
      "application/javascript": [
       "\n",
       "            setTimeout(function() {\n",
       "                var nbb_cell_id = 17;\n",
       "                var nbb_unformatted_code = \"edge_array = np.array(edges)\\norders = [np.sum(edge_array == i) for i in range(node_count)]\\nhighest_order = int(np.argmax(orders))\\nprint(highest_order, orders[highest_order])\";\n",
       "                var nbb_formatted_code = \"edge_array = np.array(edges)\\norders = [np.sum(edge_array == i) for i in range(node_count)]\\nhighest_order = int(np.argmax(orders))\\nprint(highest_order, orders[highest_order])\";\n",
       "                var nbb_cells = Jupyter.notebook.get_cells();\n",
       "                for (var i = 0; i < nbb_cells.length; ++i) {\n",
       "                    if (nbb_cells[i].input_prompt_number == nbb_cell_id) {\n",
       "                        if (nbb_cells[i].get_text() == nbb_unformatted_code) {\n",
       "                             nbb_cells[i].set_text(nbb_formatted_code);\n",
       "                        }\n",
       "                        break;\n",
       "                    }\n",
       "                }\n",
       "            }, 500);\n",
       "            "
      ],
      "text/plain": [
       "<IPython.core.display.Javascript object>"
      ]
     },
     "metadata": {},
     "output_type": "display_data"
    }
   ],
   "source": [
    "edge_array = np.array(edges)\n",
    "orders = [np.sum(edge_array == i) for i in range(node_count)]\n",
    "highest_order = int(np.argmax(orders))\n",
    "print(highest_order, orders[highest_order])"
   ]
  },
  {
   "cell_type": "code",
   "execution_count": 18,
   "metadata": {
    "ExecuteTime": {
     "end_time": "2021-06-17T14:51:24.408665Z",
     "start_time": "2021-06-17T14:51:24.393675Z"
    }
   },
   "outputs": [
    {
     "data": {
      "application/javascript": [
       "\n",
       "            setTimeout(function() {\n",
       "                var nbb_cell_id = 18;\n",
       "                var nbb_unformatted_code = \"max_color = highest_order + 1\";\n",
       "                var nbb_formatted_code = \"max_color = highest_order + 1\";\n",
       "                var nbb_cells = Jupyter.notebook.get_cells();\n",
       "                for (var i = 0; i < nbb_cells.length; ++i) {\n",
       "                    if (nbb_cells[i].input_prompt_number == nbb_cell_id) {\n",
       "                        if (nbb_cells[i].get_text() == nbb_unformatted_code) {\n",
       "                             nbb_cells[i].set_text(nbb_formatted_code);\n",
       "                        }\n",
       "                        break;\n",
       "                    }\n",
       "                }\n",
       "            }, 500);\n",
       "            "
      ],
      "text/plain": [
       "<IPython.core.display.Javascript object>"
      ]
     },
     "metadata": {},
     "output_type": "display_data"
    }
   ],
   "source": [
    "max_color = highest_order + 1"
   ]
  },
  {
   "cell_type": "code",
   "execution_count": 19,
   "metadata": {
    "ExecuteTime": {
     "end_time": "2021-06-17T14:51:25.069382Z",
     "start_time": "2021-06-17T14:51:25.026475Z"
    }
   },
   "outputs": [
    {
     "data": {
      "application/javascript": [
       "\n",
       "            setTimeout(function() {\n",
       "                var nbb_cell_id = 19;\n",
       "                var nbb_unformatted_code = \"def gc_mip(n_points, edges, max_color):\\n    n_colors = max_color\\n\\n    # Create solver\\n    solver = pywraplp.Solver.CreateSolver(\\\"SCIP\\\", \\\"SCIP\\\")\\n\\n    # Define Variables\\n    colors = [\\n        [solver.BoolVar(f\\\"x_{i}_{c}\\\") for c in range(n_colors)] for i in range(n_points)\\n    ]\\n\\n    # Constraints\\n    # Connected edges\\n    for i, j in edges:\\n        for c in range(n_colors):\\n            solver.Add(colors[i][c] + colors[j][c] <= 1)\\n\\n    # Only one color\\n    for i in range(n_points):\\n        solver.Add(sum(colors[i]) <= 1)\\n        solver.Add(sum(colors[i]) >= 1)\\n\\n    #     total_weight = sum([weights[i] * choices[i] for i in range(n)])\\n    #     solver.Add(total_weight <= capacity)\\n\\n    # Objective\\n    obj = 0\\n    for i in range(n_points):\\n        obj += sum([colors[i][c] * c for c in range(n_colors)])\\n    solver.Minimize(obj)\\n\\n    # Solve\\n    status = solver.Solve()\\n\\n    # Solution\\n    if status == pywraplp.Solver.OPTIMAL:\\n        #         solution = [choices[i].solution_value() for i in range(n)]\\n        solution = [\\n            [colors[i][c].solution_value() for c in range(n_colors)]\\n            for i in range(n_points)\\n        ]\\n        for i in range(n_points):\\n            print(solution[i])\\n        print(\\\"Solution:\\\")\\n        print(f\\\"Objective value = {solver.Objective().Value()}\\\")\\n\\n    #         print(solution)\\n    #         print('x =', x.solution_value())\\n    #         print('y =', y.solution_value())\\n    else:\\n        print(\\\"The problem does not have an optimal solution.\\\")\\n\\n    print(\\\"\\\\nAdvanced usage:\\\")\\n    print(\\\"Problem solved in %f milliseconds\\\" % solver.wall_time())\\n    print(\\\"Problem solved in %d iterations\\\" % solver.iterations())\\n    print(\\\"Problem solved in %d branch-and-bound nodes\\\" % solver.nodes())\";\n",
       "                var nbb_formatted_code = \"def gc_mip(n_points, edges, max_color):\\n    n_colors = max_color\\n\\n    # Create solver\\n    solver = pywraplp.Solver.CreateSolver(\\\"SCIP\\\", \\\"SCIP\\\")\\n\\n    # Define Variables\\n    colors = [\\n        [solver.BoolVar(f\\\"x_{i}_{c}\\\") for c in range(n_colors)] for i in range(n_points)\\n    ]\\n\\n    # Constraints\\n    # Connected edges\\n    for i, j in edges:\\n        for c in range(n_colors):\\n            solver.Add(colors[i][c] + colors[j][c] <= 1)\\n\\n    # Only one color\\n    for i in range(n_points):\\n        solver.Add(sum(colors[i]) <= 1)\\n        solver.Add(sum(colors[i]) >= 1)\\n\\n    #     total_weight = sum([weights[i] * choices[i] for i in range(n)])\\n    #     solver.Add(total_weight <= capacity)\\n\\n    # Objective\\n    obj = 0\\n    for i in range(n_points):\\n        obj += sum([colors[i][c] * c for c in range(n_colors)])\\n    solver.Minimize(obj)\\n\\n    # Solve\\n    status = solver.Solve()\\n\\n    # Solution\\n    if status == pywraplp.Solver.OPTIMAL:\\n        #         solution = [choices[i].solution_value() for i in range(n)]\\n        solution = [\\n            [colors[i][c].solution_value() for c in range(n_colors)]\\n            for i in range(n_points)\\n        ]\\n        for i in range(n_points):\\n            print(solution[i])\\n        print(\\\"Solution:\\\")\\n        print(f\\\"Objective value = {solver.Objective().Value()}\\\")\\n\\n    #         print(solution)\\n    #         print('x =', x.solution_value())\\n    #         print('y =', y.solution_value())\\n    else:\\n        print(\\\"The problem does not have an optimal solution.\\\")\\n\\n    print(\\\"\\\\nAdvanced usage:\\\")\\n    print(\\\"Problem solved in %f milliseconds\\\" % solver.wall_time())\\n    print(\\\"Problem solved in %d iterations\\\" % solver.iterations())\\n    print(\\\"Problem solved in %d branch-and-bound nodes\\\" % solver.nodes())\";\n",
       "                var nbb_cells = Jupyter.notebook.get_cells();\n",
       "                for (var i = 0; i < nbb_cells.length; ++i) {\n",
       "                    if (nbb_cells[i].input_prompt_number == nbb_cell_id) {\n",
       "                        if (nbb_cells[i].get_text() == nbb_unformatted_code) {\n",
       "                             nbb_cells[i].set_text(nbb_formatted_code);\n",
       "                        }\n",
       "                        break;\n",
       "                    }\n",
       "                }\n",
       "            }, 500);\n",
       "            "
      ],
      "text/plain": [
       "<IPython.core.display.Javascript object>"
      ]
     },
     "metadata": {},
     "output_type": "display_data"
    }
   ],
   "source": [
    "def gc_mip(n_points, edges, max_color):\n",
    "    n_colors = max_color\n",
    "\n",
    "    # Create solver\n",
    "    solver = pywraplp.Solver.CreateSolver(\"SCIP\", \"SCIP\")\n",
    "\n",
    "    # Define Variables\n",
    "    colors = [\n",
    "        [solver.BoolVar(f\"x_{i}_{c}\") for c in range(n_colors)] for i in range(n_points)\n",
    "    ]\n",
    "\n",
    "    # Constraints\n",
    "    # Connected edges\n",
    "    for i, j in edges:\n",
    "        for c in range(n_colors):\n",
    "            solver.Add(colors[i][c] + colors[j][c] <= 1)\n",
    "\n",
    "    # Only one color\n",
    "    for i in range(n_points):\n",
    "        solver.Add(sum(colors[i]) <= 1)\n",
    "        solver.Add(sum(colors[i]) >= 1)\n",
    "\n",
    "    #     total_weight = sum([weights[i] * choices[i] for i in range(n)])\n",
    "    #     solver.Add(total_weight <= capacity)\n",
    "\n",
    "    # Objective\n",
    "    obj = 0\n",
    "    for i in range(n_points):\n",
    "        obj += sum([colors[i][c] * c for c in range(n_colors)])\n",
    "    solver.Minimize(obj)\n",
    "\n",
    "    # Solve\n",
    "    status = solver.Solve()\n",
    "\n",
    "    # Solution\n",
    "    if status == pywraplp.Solver.OPTIMAL:\n",
    "        #         solution = [choices[i].solution_value() for i in range(n)]\n",
    "        solution = [\n",
    "            [colors[i][c].solution_value() for c in range(n_colors)]\n",
    "            for i in range(n_points)\n",
    "        ]\n",
    "        for i in range(n_points):\n",
    "            print(solution[i])\n",
    "        print(\"Solution:\")\n",
    "        print(f\"Objective value = {solver.Objective().Value()}\")\n",
    "\n",
    "    #         print(solution)\n",
    "    #         print('x =', x.solution_value())\n",
    "    #         print('y =', y.solution_value())\n",
    "    else:\n",
    "        print(\"The problem does not have an optimal solution.\")\n",
    "\n",
    "    print(\"\\nAdvanced usage:\")\n",
    "    print(\"Problem solved in %f milliseconds\" % solver.wall_time())\n",
    "    print(\"Problem solved in %d iterations\" % solver.iterations())\n",
    "    print(\"Problem solved in %d branch-and-bound nodes\" % solver.nodes())"
   ]
  },
  {
   "cell_type": "code",
   "execution_count": 20,
   "metadata": {
    "ExecuteTime": {
     "end_time": "2021-06-17T14:51:55.001346Z",
     "start_time": "2021-06-17T14:51:25.626248Z"
    }
   },
   "outputs": [
    {
     "name": "stdout",
     "output_type": "stream",
     "text": [
      "[1.0, 0.0, 0.0, 0.0, 0.0, 0.0, 0.0, 0.0, 0.0, 0.0, 0.0, 0.0, 0.0, 0.0, 0.0, 0.0, 0.0, 0.0]\n",
      "[0.0, 0.0, 1.0, 0.0, 0.0, 0.0, 0.0, 0.0, 0.0, 0.0, 0.0, 0.0, 0.0, 0.0, 0.0, 0.0, 0.0, 0.0]\n",
      "[1.0, 0.0, 0.0, 0.0, 0.0, 0.0, 0.0, 0.0, 0.0, 0.0, 0.0, 0.0, 0.0, 0.0, 0.0, 0.0, 0.0, 0.0]\n",
      "[1.0, 0.0, 0.0, 0.0, 0.0, 0.0, 0.0, 0.0, 0.0, 0.0, 0.0, 0.0, 0.0, 0.0, 0.0, 0.0, 0.0, 0.0]\n",
      "[1.0, 0.0, 0.0, 0.0, 0.0, 0.0, 0.0, 0.0, 0.0, 0.0, 0.0, 0.0, 0.0, 0.0, 0.0, 0.0, 0.0, 0.0]\n",
      "[1.0, 0.0, 0.0, 0.0, 0.0, 0.0, 0.0, 0.0, 0.0, 0.0, 0.0, 0.0, 0.0, 0.0, 0.0, 0.0, 0.0, 0.0]\n",
      "[0.0, 1.0, 0.0, 0.0, 0.0, 0.0, 0.0, 0.0, 0.0, 0.0, 0.0, 0.0, 0.0, 0.0, 0.0, 0.0, 0.0, 0.0]\n",
      "[0.0, 1.0, 0.0, 0.0, 0.0, 0.0, 0.0, 0.0, 0.0, 0.0, 0.0, 0.0, 0.0, 0.0, 0.0, 0.0, 0.0, 0.0]\n",
      "[1.0, 0.0, 0.0, 0.0, 0.0, 0.0, 0.0, 0.0, 0.0, 0.0, 0.0, 0.0, 0.0, 0.0, 0.0, 0.0, 0.0, 0.0]\n",
      "[0.0, 1.0, 0.0, 0.0, 0.0, 0.0, 0.0, 0.0, 0.0, 0.0, 0.0, 0.0, 0.0, 0.0, 0.0, 0.0, 0.0, 0.0]\n",
      "[1.0, 0.0, 0.0, 0.0, 0.0, 0.0, 0.0, 0.0, 0.0, 0.0, 0.0, 0.0, 0.0, 0.0, 0.0, 0.0, 0.0, 0.0]\n",
      "[0.0, 1.0, 0.0, 0.0, 0.0, 0.0, 0.0, 0.0, 0.0, 0.0, 0.0, 0.0, 0.0, 0.0, 0.0, 0.0, 0.0, 0.0]\n",
      "[1.0, 0.0, 0.0, 0.0, 0.0, 0.0, 0.0, 0.0, 0.0, 0.0, 0.0, 0.0, 0.0, 0.0, 0.0, 0.0, 0.0, 0.0]\n",
      "[0.0, 1.0, 0.0, 0.0, 0.0, 0.0, 0.0, 0.0, 0.0, 0.0, 0.0, 0.0, 0.0, 0.0, 0.0, 0.0, 0.0, 0.0]\n",
      "[0.0, 1.0, 0.0, 0.0, 0.0, 0.0, 0.0, 0.0, 0.0, 0.0, 0.0, 0.0, 0.0, 0.0, 0.0, 0.0, 0.0, 0.0]\n",
      "[1.0, 0.0, 0.0, 0.0, 0.0, 0.0, 0.0, 0.0, 0.0, 0.0, 0.0, 0.0, 0.0, 0.0, 0.0, 0.0, 0.0, 0.0]\n",
      "[0.0, 1.0, 0.0, 0.0, 0.0, 0.0, 0.0, 0.0, 0.0, 0.0, 0.0, 0.0, 0.0, 0.0, 0.0, 0.0, 0.0, 0.0]\n",
      "[0.0, 0.0, 1.0, 0.0, 0.0, 0.0, 0.0, 0.0, 0.0, 0.0, 0.0, 0.0, 0.0, 0.0, 0.0, 0.0, 0.0, 0.0]\n",
      "[1.0, 0.0, 0.0, 0.0, 0.0, 0.0, 0.0, 0.0, 0.0, 0.0, 0.0, 0.0, 0.0, 0.0, 0.0, 0.0, 0.0, 0.0]\n",
      "[1.0, 0.0, 0.0, 0.0, 0.0, 0.0, 0.0, 0.0, 0.0, 0.0, 0.0, 0.0, 0.0, 0.0, 0.0, 0.0, 0.0, 0.0]\n",
      "Solution:\n",
      "Objective value = 11.0\n",
      "\n",
      "Advanced usage:\n",
      "Problem solved in 29337.000000 milliseconds\n",
      "Problem solved in 0 iterations\n",
      "Problem solved in 20452 branch-and-bound nodes\n"
     ]
    },
    {
     "data": {
      "application/javascript": [
       "\n",
       "            setTimeout(function() {\n",
       "                var nbb_cell_id = 20;\n",
       "                var nbb_unformatted_code = \"gc_mip(node_count, edges, max_color)\";\n",
       "                var nbb_formatted_code = \"gc_mip(node_count, edges, max_color)\";\n",
       "                var nbb_cells = Jupyter.notebook.get_cells();\n",
       "                for (var i = 0; i < nbb_cells.length; ++i) {\n",
       "                    if (nbb_cells[i].input_prompt_number == nbb_cell_id) {\n",
       "                        if (nbb_cells[i].get_text() == nbb_unformatted_code) {\n",
       "                             nbb_cells[i].set_text(nbb_formatted_code);\n",
       "                        }\n",
       "                        break;\n",
       "                    }\n",
       "                }\n",
       "            }, 500);\n",
       "            "
      ],
      "text/plain": [
       "<IPython.core.display.Javascript object>"
      ]
     },
     "metadata": {},
     "output_type": "display_data"
    }
   ],
   "source": [
    "gc_mip(node_count, edges, max_color)"
   ]
  },
  {
   "cell_type": "code",
   "execution_count": 13,
   "metadata": {
    "ExecuteTime": {
     "end_time": "2021-06-17T14:46:03.728183Z",
     "start_time": "2021-06-17T14:46:03.703184Z"
    }
   },
   "outputs": [
    {
     "data": {
      "application/javascript": [
       "\n",
       "            setTimeout(function() {\n",
       "                var nbb_cell_id = 13;\n",
       "                var nbb_unformatted_code = \"solver = pywraplp.Solver.CreateSolver(\\\"SCIP\\\", \\\"SCIP\\\")\";\n",
       "                var nbb_formatted_code = \"solver = pywraplp.Solver.CreateSolver(\\\"SCIP\\\", \\\"SCIP\\\")\";\n",
       "                var nbb_cells = Jupyter.notebook.get_cells();\n",
       "                for (var i = 0; i < nbb_cells.length; ++i) {\n",
       "                    if (nbb_cells[i].input_prompt_number == nbb_cell_id) {\n",
       "                        if (nbb_cells[i].get_text() == nbb_unformatted_code) {\n",
       "                             nbb_cells[i].set_text(nbb_formatted_code);\n",
       "                        }\n",
       "                        break;\n",
       "                    }\n",
       "                }\n",
       "            }, 500);\n",
       "            "
      ],
      "text/plain": [
       "<IPython.core.display.Javascript object>"
      ]
     },
     "metadata": {},
     "output_type": "display_data"
    }
   ],
   "source": [
    "solver = pywraplp.Solver.CreateSolver(\"SCIP\", \"SCIP\")"
   ]
  },
  {
   "cell_type": "code",
   "execution_count": null,
   "metadata": {},
   "outputs": [],
   "source": [
    "solver.Minimize"
   ]
  }
 ],
 "metadata": {
  "jupytext": {
   "formats": "ipynb,py"
  },
  "kernelspec": {
   "display_name": "Python 3",
   "language": "python",
   "name": "python3"
  },
  "language_info": {
   "codemirror_mode": {
    "name": "ipython",
    "version": 3
   },
   "file_extension": ".py",
   "mimetype": "text/x-python",
   "name": "python",
   "nbconvert_exporter": "python",
   "pygments_lexer": "ipython3",
   "version": "3.8.3"
  },
  "toc": {
   "base_numbering": 1,
   "nav_menu": {},
   "number_sections": true,
   "sideBar": true,
   "skip_h1_title": false,
   "title_cell": "Table of Contents",
   "title_sidebar": "Contents",
   "toc_cell": false,
   "toc_position": {},
   "toc_section_display": true,
   "toc_window_display": false
  },
  "varInspector": {
   "cols": {
    "lenName": 16,
    "lenType": 16,
    "lenVar": 40
   },
   "kernels_config": {
    "python": {
     "delete_cmd_postfix": "",
     "delete_cmd_prefix": "del ",
     "library": "var_list.py",
     "varRefreshCmd": "print(var_dic_list())"
    },
    "r": {
     "delete_cmd_postfix": ") ",
     "delete_cmd_prefix": "rm(",
     "library": "var_list.r",
     "varRefreshCmd": "cat(var_dic_list()) "
    }
   },
   "types_to_exclude": [
    "module",
    "function",
    "builtin_function_or_method",
    "instance",
    "_Feature"
   ],
   "window_display": false
  }
 },
 "nbformat": 4,
 "nbformat_minor": 4
}
