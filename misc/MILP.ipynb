{
 "cells": [
  {
   "cell_type": "markdown",
   "metadata": {},
   "source": [
    "# Set up"
   ]
  },
  {
   "cell_type": "code",
   "execution_count": 1,
   "metadata": {
    "ExecuteTime": {
     "end_time": "2021-06-18T15:56:45.473525Z",
     "start_time": "2021-06-18T15:56:45.302718Z"
    }
   },
   "outputs": [
    {
     "data": {
      "application/javascript": [
       "\n",
       "            setTimeout(function() {\n",
       "                var nbb_cell_id = 1;\n",
       "                var nbb_unformatted_code = \"%load_ext nb_black\";\n",
       "                var nbb_formatted_code = \"%load_ext nb_black\";\n",
       "                var nbb_cells = Jupyter.notebook.get_cells();\n",
       "                for (var i = 0; i < nbb_cells.length; ++i) {\n",
       "                    if (nbb_cells[i].input_prompt_number == nbb_cell_id) {\n",
       "                        if (nbb_cells[i].get_text() == nbb_unformatted_code) {\n",
       "                             nbb_cells[i].set_text(nbb_formatted_code);\n",
       "                        }\n",
       "                        break;\n",
       "                    }\n",
       "                }\n",
       "            }, 500);\n",
       "            "
      ],
      "text/plain": [
       "<IPython.core.display.Javascript object>"
      ]
     },
     "metadata": {},
     "output_type": "display_data"
    }
   ],
   "source": [
    "%load_ext nb_black"
   ]
  },
  {
   "cell_type": "code",
   "execution_count": 2,
   "metadata": {
    "ExecuteTime": {
     "end_time": "2021-06-18T15:56:45.693536Z",
     "start_time": "2021-06-18T15:56:45.678536Z"
    }
   },
   "outputs": [
    {
     "data": {
      "application/javascript": [
       "\n",
       "            setTimeout(function() {\n",
       "                var nbb_cell_id = 2;\n",
       "                var nbb_unformatted_code = \"from ortools.linear_solver import pywraplp\\nimport numpy as np\\nimport os\";\n",
       "                var nbb_formatted_code = \"from ortools.linear_solver import pywraplp\\nimport numpy as np\\nimport os\";\n",
       "                var nbb_cells = Jupyter.notebook.get_cells();\n",
       "                for (var i = 0; i < nbb_cells.length; ++i) {\n",
       "                    if (nbb_cells[i].input_prompt_number == nbb_cell_id) {\n",
       "                        if (nbb_cells[i].get_text() == nbb_unformatted_code) {\n",
       "                             nbb_cells[i].set_text(nbb_formatted_code);\n",
       "                        }\n",
       "                        break;\n",
       "                    }\n",
       "                }\n",
       "            }, 500);\n",
       "            "
      ],
      "text/plain": [
       "<IPython.core.display.Javascript object>"
      ]
     },
     "metadata": {},
     "output_type": "display_data"
    }
   ],
   "source": [
    "from ortools.linear_solver import pywraplp\n",
    "import numpy as np\n",
    "import os"
   ]
  },
  {
   "cell_type": "code",
   "execution_count": 5,
   "metadata": {
    "ExecuteTime": {
     "end_time": "2021-06-18T14:53:49.056530Z",
     "start_time": "2021-06-18T14:53:49.021104Z"
    }
   },
   "outputs": [
    {
     "data": {
      "application/javascript": [
       "\n",
       "            setTimeout(function() {\n",
       "                var nbb_cell_id = 5;\n",
       "                var nbb_unformatted_code = \"def main():\\n    # Create the mip solver with the SCIP backend.\\n    solver = pywraplp.Solver.CreateSolver('SCIP','SCIP')\\n\\n    infinity = solver.infinity()\\n    # x and y are integer non-negative variables.\\n    x = solver.IntVar(0, infinity, 'x')\\n    y = solver.IntVar(0, infinity, 'y')\\n\\n    print('Number of variables =', solver.NumVariables())\\n\\n    # x + 7 * y <= 17.5.\\n    solver.Add(x + 7 * y <= 17.5)\\n\\n    # x <= 3.5.\\n    solver.Add(x <= 3.5)\\n\\n    print('Number of constraints =', solver.NumConstraints())\\n\\n    # Maximize x + 10 * y.\\n    solver.Maximize(x + 10 * y)\\n\\n    status = solver.Solve()\\n\\n    if status == pywraplp.Solver.OPTIMAL:\\n        print('Solution:')\\n        print('Objective value =', solver.Objective().Value())\\n        print('x =', x.solution_value())\\n        print('y =', y.solution_value())\\n    else:\\n        print('The problem does not have an optimal solution.')\\n\\n    print('\\\\nAdvanced usage:')\\n    print('Problem solved in %f milliseconds' % solver.wall_time())\\n    print('Problem solved in %d iterations' % solver.iterations())\\n    print('Problem solved in %d branch-and-bound nodes' % solver.nodes())\";\n",
       "                var nbb_formatted_code = \"def main():\\n    # Create the mip solver with the SCIP backend.\\n    solver = pywraplp.Solver.CreateSolver(\\\"SCIP\\\", \\\"SCIP\\\")\\n\\n    infinity = solver.infinity()\\n    # x and y are integer non-negative variables.\\n    x = solver.IntVar(0, infinity, \\\"x\\\")\\n    y = solver.IntVar(0, infinity, \\\"y\\\")\\n\\n    print(\\\"Number of variables =\\\", solver.NumVariables())\\n\\n    # x + 7 * y <= 17.5.\\n    solver.Add(x + 7 * y <= 17.5)\\n\\n    # x <= 3.5.\\n    solver.Add(x <= 3.5)\\n\\n    print(\\\"Number of constraints =\\\", solver.NumConstraints())\\n\\n    # Maximize x + 10 * y.\\n    solver.Maximize(x + 10 * y)\\n\\n    status = solver.Solve()\\n\\n    if status == pywraplp.Solver.OPTIMAL:\\n        print(\\\"Solution:\\\")\\n        print(\\\"Objective value =\\\", solver.Objective().Value())\\n        print(\\\"x =\\\", x.solution_value())\\n        print(\\\"y =\\\", y.solution_value())\\n    else:\\n        print(\\\"The problem does not have an optimal solution.\\\")\\n\\n    print(\\\"\\\\nAdvanced usage:\\\")\\n    print(\\\"Problem solved in %f milliseconds\\\" % solver.wall_time())\\n    print(\\\"Problem solved in %d iterations\\\" % solver.iterations())\\n    print(\\\"Problem solved in %d branch-and-bound nodes\\\" % solver.nodes())\";\n",
       "                var nbb_cells = Jupyter.notebook.get_cells();\n",
       "                for (var i = 0; i < nbb_cells.length; ++i) {\n",
       "                    if (nbb_cells[i].input_prompt_number == nbb_cell_id) {\n",
       "                        if (nbb_cells[i].get_text() == nbb_unformatted_code) {\n",
       "                             nbb_cells[i].set_text(nbb_formatted_code);\n",
       "                        }\n",
       "                        break;\n",
       "                    }\n",
       "                }\n",
       "            }, 500);\n",
       "            "
      ],
      "text/plain": [
       "<IPython.core.display.Javascript object>"
      ]
     },
     "metadata": {},
     "output_type": "display_data"
    }
   ],
   "source": [
    "def main():\n",
    "    # Create the mip solver with the SCIP backend.\n",
    "    solver = pywraplp.Solver.CreateSolver('SCIP','SCIP')\n",
    "\n",
    "    infinity = solver.infinity()\n",
    "    # x and y are integer non-negative variables.\n",
    "    x = solver.IntVar(0, infinity, 'x')\n",
    "    y = solver.IntVar(0, infinity, 'y')\n",
    "\n",
    "    print('Number of variables =', solver.NumVariables())\n",
    "\n",
    "    # x + 7 * y <= 17.5.\n",
    "    solver.Add(x + 7 * y <= 17.5)\n",
    "\n",
    "    # x <= 3.5.\n",
    "    solver.Add(x <= 3.5)\n",
    "\n",
    "    print('Number of constraints =', solver.NumConstraints())\n",
    "\n",
    "    # Maximize x + 10 * y.\n",
    "    solver.Maximize(x + 10 * y)\n",
    "\n",
    "    status = solver.Solve()\n",
    "\n",
    "    if status == pywraplp.Solver.OPTIMAL:\n",
    "        print('Solution:')\n",
    "        print('Objective value =', solver.Objective().Value())\n",
    "        print('x =', x.solution_value())\n",
    "        print('y =', y.solution_value())\n",
    "    else:\n",
    "        print('The problem does not have an optimal solution.')\n",
    "\n",
    "    print('\\nAdvanced usage:')\n",
    "    print('Problem solved in %f milliseconds' % solver.wall_time())\n",
    "    print('Problem solved in %d iterations' % solver.iterations())\n",
    "    print('Problem solved in %d branch-and-bound nodes' % solver.nodes())\n",
    "\n",
    "\n"
   ]
  },
  {
   "cell_type": "code",
   "execution_count": 4,
   "metadata": {
    "ExecuteTime": {
     "end_time": "2021-06-17T14:33:21.307810Z",
     "start_time": "2021-06-17T14:33:21.278431Z"
    }
   },
   "outputs": [
    {
     "name": "stdout",
     "output_type": "stream",
     "text": [
      "Number of variables = 2\n",
      "Number of constraints = 2\n",
      "Solution:\n",
      "Objective value = 23.0\n",
      "x = 3.0\n",
      "y = 2.0\n",
      "\n",
      "Advanced usage:\n",
      "Problem solved in 11.000000 milliseconds\n",
      "Problem solved in 0 iterations\n",
      "Problem solved in 1 branch-and-bound nodes\n"
     ]
    },
    {
     "data": {
      "application/javascript": [
       "\n",
       "            setTimeout(function() {\n",
       "                var nbb_cell_id = 4;\n",
       "                var nbb_unformatted_code = \"main()\";\n",
       "                var nbb_formatted_code = \"main()\";\n",
       "                var nbb_cells = Jupyter.notebook.get_cells();\n",
       "                for (var i = 0; i < nbb_cells.length; ++i) {\n",
       "                    if (nbb_cells[i].input_prompt_number == nbb_cell_id) {\n",
       "                        if (nbb_cells[i].get_text() == nbb_unformatted_code) {\n",
       "                             nbb_cells[i].set_text(nbb_formatted_code);\n",
       "                        }\n",
       "                        break;\n",
       "                    }\n",
       "                }\n",
       "            }, 500);\n",
       "            "
      ],
      "text/plain": [
       "<IPython.core.display.Javascript object>"
      ]
     },
     "metadata": {},
     "output_type": "display_data"
    }
   ],
   "source": [
    "main()"
   ]
  },
  {
   "cell_type": "markdown",
   "metadata": {},
   "source": [
    "# Knapsack"
   ]
  },
  {
   "cell_type": "code",
   "execution_count": 24,
   "metadata": {
    "ExecuteTime": {
     "end_time": "2021-06-17T14:14:38.951336Z",
     "start_time": "2021-06-17T14:14:38.938337Z"
    },
    "lines_to_next_cell": 2
   },
   "outputs": [
    {
     "data": {
      "application/javascript": [
       "\n",
       "            setTimeout(function() {\n",
       "                var nbb_cell_id = 24;\n",
       "                var nbb_unformatted_code = \"path = '../2 knapsack/data'\\nfiles = os.listdir(path)\";\n",
       "                var nbb_formatted_code = \"path = \\\"../2 knapsack/data\\\"\\nfiles = os.listdir(path)\";\n",
       "                var nbb_cells = Jupyter.notebook.get_cells();\n",
       "                for (var i = 0; i < nbb_cells.length; ++i) {\n",
       "                    if (nbb_cells[i].input_prompt_number == nbb_cell_id) {\n",
       "                        if (nbb_cells[i].get_text() == nbb_unformatted_code) {\n",
       "                             nbb_cells[i].set_text(nbb_formatted_code);\n",
       "                        }\n",
       "                        break;\n",
       "                    }\n",
       "                }\n",
       "            }, 500);\n",
       "            "
      ],
      "text/plain": [
       "<IPython.core.display.Javascript object>"
      ]
     },
     "metadata": {},
     "output_type": "display_data"
    }
   ],
   "source": [
    "path = '../2 knapsack/data'\n",
    "files = os.listdir(path)"
   ]
  },
  {
   "cell_type": "code",
   "execution_count": 25,
   "metadata": {
    "ExecuteTime": {
     "end_time": "2021-06-17T14:14:40.935294Z",
     "start_time": "2021-06-17T14:14:40.918273Z"
    }
   },
   "outputs": [
    {
     "name": "stdout",
     "output_type": "stream",
     "text": [
      "0 ks_10000_0\n",
      "1 ks_1000_0\n",
      "2 ks_100_0\n",
      "3 ks_100_1\n",
      "4 ks_100_2\n",
      "5 ks_106_0\n",
      "6 ks_19_0\n",
      "7 ks_200_0\n",
      "8 ks_200_1\n",
      "9 ks_300_0\n",
      "10 ks_30_0\n",
      "11 ks_400_0\n",
      "12 ks_40_0\n",
      "13 ks_45_0\n",
      "14 ks_4_0\n",
      "15 ks_500_0\n",
      "16 ks_50_0\n",
      "17 ks_50_1\n",
      "18 ks_60_0\n",
      "19 ks_82_0\n",
      "20 ks_lecture_dp_1\n",
      "21 ks_lecture_dp_2\n"
     ]
    },
    {
     "data": {
      "application/javascript": [
       "\n",
       "            setTimeout(function() {\n",
       "                var nbb_cell_id = 25;\n",
       "                var nbb_unformatted_code = \"for i, f in enumerate(files):\\n    print(i, f)\";\n",
       "                var nbb_formatted_code = \"for i, f in enumerate(files):\\n    print(i, f)\";\n",
       "                var nbb_cells = Jupyter.notebook.get_cells();\n",
       "                for (var i = 0; i < nbb_cells.length; ++i) {\n",
       "                    if (nbb_cells[i].input_prompt_number == nbb_cell_id) {\n",
       "                        if (nbb_cells[i].get_text() == nbb_unformatted_code) {\n",
       "                             nbb_cells[i].set_text(nbb_formatted_code);\n",
       "                        }\n",
       "                        break;\n",
       "                    }\n",
       "                }\n",
       "            }, 500);\n",
       "            "
      ],
      "text/plain": [
       "<IPython.core.display.Javascript object>"
      ]
     },
     "metadata": {},
     "output_type": "display_data"
    }
   ],
   "source": [
    "for i, f in enumerate(files):\n",
    "    print(i, f)"
   ]
  },
  {
   "cell_type": "code",
   "execution_count": 26,
   "metadata": {
    "ExecuteTime": {
     "end_time": "2021-06-17T14:14:48.354336Z",
     "start_time": "2021-06-17T14:14:48.334336Z"
    }
   },
   "outputs": [
    {
     "data": {
      "application/javascript": [
       "\n",
       "            setTimeout(function() {\n",
       "                var nbb_cell_id = 26;\n",
       "                var nbb_unformatted_code = \"def parse_data(data):\\n    lines = data.split(\\\"\\\\n\\\")\\n    n, cap = lines[0].split()\\n    data = [line.split() for line in lines if len(line) > 0]\\n    n, cap = data.pop(0)\\n    return np.int(n), np.float(cap), np.array(data, dtype=float)\";\n",
       "                var nbb_formatted_code = \"def parse_data(data):\\n    lines = data.split(\\\"\\\\n\\\")\\n    n, cap = lines[0].split()\\n    data = [line.split() for line in lines if len(line) > 0]\\n    n, cap = data.pop(0)\\n    return np.int(n), np.float(cap), np.array(data, dtype=float)\";\n",
       "                var nbb_cells = Jupyter.notebook.get_cells();\n",
       "                for (var i = 0; i < nbb_cells.length; ++i) {\n",
       "                    if (nbb_cells[i].input_prompt_number == nbb_cell_id) {\n",
       "                        if (nbb_cells[i].get_text() == nbb_unformatted_code) {\n",
       "                             nbb_cells[i].set_text(nbb_formatted_code);\n",
       "                        }\n",
       "                        break;\n",
       "                    }\n",
       "                }\n",
       "            }, 500);\n",
       "            "
      ],
      "text/plain": [
       "<IPython.core.display.Javascript object>"
      ]
     },
     "metadata": {},
     "output_type": "display_data"
    }
   ],
   "source": [
    "def parse_data(data):\n",
    "    lines = data.split(\"\\n\")\n",
    "    n, cap = lines[0].split()\n",
    "    data = [line.split() for line in lines if len(line) > 0]\n",
    "    n, cap = data.pop(0)\n",
    "    return np.int(n), np.float(cap), np.array(data, dtype=float)"
   ]
  },
  {
   "cell_type": "code",
   "execution_count": 40,
   "metadata": {
    "ExecuteTime": {
     "end_time": "2021-06-17T14:29:02.025707Z",
     "start_time": "2021-06-17T14:29:01.938670Z"
    }
   },
   "outputs": [
    {
     "data": {
      "application/javascript": [
       "\n",
       "            setTimeout(function() {\n",
       "                var nbb_cell_id = 40;\n",
       "                var nbb_unformatted_code = \"file = files[0]\\nwith open(os.path.join(path, file)) as fp:\\n    data = fp.read()\\n\\nn, K, data = parse_data(data)\\nvalues = data[:, 0]\\nweights = data[:, 1]\";\n",
       "                var nbb_formatted_code = \"file = files[0]\\nwith open(os.path.join(path, file)) as fp:\\n    data = fp.read()\\n\\nn, K, data = parse_data(data)\\nvalues = data[:, 0]\\nweights = data[:, 1]\";\n",
       "                var nbb_cells = Jupyter.notebook.get_cells();\n",
       "                for (var i = 0; i < nbb_cells.length; ++i) {\n",
       "                    if (nbb_cells[i].input_prompt_number == nbb_cell_id) {\n",
       "                        if (nbb_cells[i].get_text() == nbb_unformatted_code) {\n",
       "                             nbb_cells[i].set_text(nbb_formatted_code);\n",
       "                        }\n",
       "                        break;\n",
       "                    }\n",
       "                }\n",
       "            }, 500);\n",
       "            "
      ],
      "text/plain": [
       "<IPython.core.display.Javascript object>"
      ]
     },
     "metadata": {},
     "output_type": "display_data"
    }
   ],
   "source": [
    "file = files[0]\n",
    "with open(os.path.join(path, file)) as fp:\n",
    "    data = fp.read()\n",
    "\n",
    "n, K, data = parse_data(data)\n",
    "values = data[:, 0]\n",
    "weights = data[:, 1]"
   ]
  },
  {
   "cell_type": "code",
   "execution_count": 38,
   "metadata": {
    "ExecuteTime": {
     "end_time": "2021-06-17T14:28:12.681150Z",
     "start_time": "2021-06-17T14:28:12.654697Z"
    }
   },
   "outputs": [
    {
     "data": {
      "application/javascript": [
       "\n",
       "            setTimeout(function() {\n",
       "                var nbb_cell_id = 38;\n",
       "                var nbb_unformatted_code = \"def ks_mip(weights, values, capacity):\\n    assert len(weights) == len(values), \\\"Weights and Values must be of the same size.\\\"\\n\\n    # Create solver\\n    solver = pywraplp.Solver.CreateSolver(\\\"SCIP\\\", \\\"SCIP\\\")\\n\\n    # Define Variables\\n    n = len(weights)\\n    choices = [solver.BoolVar(f\\\"x_{i}\\\") for i in range(n)]\\n\\n    # Constraints\\n    total_weight = sum([weights[i] * choices[i] for i in range(n)])\\n    solver.Add(total_weight <= capacity)\\n\\n    # Objective\\n    total_value = sum([values[i] * choices[i] for i in range(n)])\\n    solver.Maximize(total_value)\\n\\n    # Solve\\n    status = solver.Solve()\\n\\n    # Solution\\n    if status == pywraplp.Solver.OPTIMAL:\\n        solution = [choices[i].solution_value() for i in range(n)]\\n        total_weight = sum([weights[i] * solution[i] for i in range(n)])\\n        print(\\\"Solution:\\\")\\n        print(f\\\"Objective value = {solver.Objective().Value()}\\\" )\\n        print(f\\\"Weight = {total_weight}/{capacity}\\\" )\\n        print(solution)\\n    #         print('x =', x.solution_value())\\n    #         print('y =', y.solution_value())\\n    else:\\n        print(\\\"The problem does not have an optimal solution.\\\")\\n\\n    print(\\\"\\\\nAdvanced usage:\\\")\\n    print(\\\"Problem solved in %f milliseconds\\\" % solver.wall_time())\\n    print(\\\"Problem solved in %d iterations\\\" % solver.iterations())\\n    print(\\\"Problem solved in %d branch-and-bound nodes\\\" % solver.nodes())\";\n",
       "                var nbb_formatted_code = \"def ks_mip(weights, values, capacity):\\n    assert len(weights) == len(values), \\\"Weights and Values must be of the same size.\\\"\\n\\n    # Create solver\\n    solver = pywraplp.Solver.CreateSolver(\\\"SCIP\\\", \\\"SCIP\\\")\\n\\n    # Define Variables\\n    n = len(weights)\\n    choices = [solver.BoolVar(f\\\"x_{i}\\\") for i in range(n)]\\n\\n    # Constraints\\n    total_weight = sum([weights[i] * choices[i] for i in range(n)])\\n    solver.Add(total_weight <= capacity)\\n\\n    # Objective\\n    total_value = sum([values[i] * choices[i] for i in range(n)])\\n    solver.Maximize(total_value)\\n\\n    # Solve\\n    status = solver.Solve()\\n\\n    # Solution\\n    if status == pywraplp.Solver.OPTIMAL:\\n        solution = [choices[i].solution_value() for i in range(n)]\\n        total_weight = sum([weights[i] * solution[i] for i in range(n)])\\n        print(\\\"Solution:\\\")\\n        print(f\\\"Objective value = {solver.Objective().Value()}\\\")\\n        print(f\\\"Weight = {total_weight}/{capacity}\\\")\\n        print(solution)\\n    #         print('x =', x.solution_value())\\n    #         print('y =', y.solution_value())\\n    else:\\n        print(\\\"The problem does not have an optimal solution.\\\")\\n\\n    print(\\\"\\\\nAdvanced usage:\\\")\\n    print(\\\"Problem solved in %f milliseconds\\\" % solver.wall_time())\\n    print(\\\"Problem solved in %d iterations\\\" % solver.iterations())\\n    print(\\\"Problem solved in %d branch-and-bound nodes\\\" % solver.nodes())\";\n",
       "                var nbb_cells = Jupyter.notebook.get_cells();\n",
       "                for (var i = 0; i < nbb_cells.length; ++i) {\n",
       "                    if (nbb_cells[i].input_prompt_number == nbb_cell_id) {\n",
       "                        if (nbb_cells[i].get_text() == nbb_unformatted_code) {\n",
       "                             nbb_cells[i].set_text(nbb_formatted_code);\n",
       "                        }\n",
       "                        break;\n",
       "                    }\n",
       "                }\n",
       "            }, 500);\n",
       "            "
      ],
      "text/plain": [
       "<IPython.core.display.Javascript object>"
      ]
     },
     "metadata": {},
     "output_type": "display_data"
    }
   ],
   "source": [
    "def ks_mip(weights, values, capacity):\n",
    "    assert len(weights) == len(values), \"Weights and Values must be of the same size.\"\n",
    "\n",
    "    # Create solver\n",
    "    solver = pywraplp.Solver.CreateSolver(\"SCIP\", \"SCIP\")\n",
    "\n",
    "    # Define Variables\n",
    "    n = len(weights)\n",
    "    choices = [solver.BoolVar(f\"x_{i}\") for i in range(n)]\n",
    "\n",
    "    # Constraints\n",
    "    total_weight = sum([weights[i] * choices[i] for i in range(n)])\n",
    "    solver.Add(total_weight <= capacity)\n",
    "\n",
    "    # Objective\n",
    "    total_value = sum([values[i] * choices[i] for i in range(n)])\n",
    "    solver.Maximize(total_value)\n",
    "\n",
    "    # Solve\n",
    "    status = solver.Solve()\n",
    "\n",
    "    # Solution\n",
    "    if status == pywraplp.Solver.OPTIMAL:\n",
    "        solution = [choices[i].solution_value() for i in range(n)]\n",
    "        total_weight = sum([weights[i] * solution[i] for i in range(n)])\n",
    "        print(\"Solution:\")\n",
    "        print(f\"Objective value = {solver.Objective().Value()}\")\n",
    "        print(f\"Weight = {total_weight}/{capacity}\")\n",
    "        print(solution)\n",
    "    #         print('x =', x.solution_value())\n",
    "    #         print('y =', y.solution_value())\n",
    "    else:\n",
    "        print(\"The problem does not have an optimal solution.\")\n",
    "\n",
    "    print(\"\\nAdvanced usage:\")\n",
    "    print(\"Problem solved in %f milliseconds\" % solver.wall_time())\n",
    "    print(\"Problem solved in %d iterations\" % solver.iterations())\n",
    "    print(\"Problem solved in %d branch-and-bound nodes\" % solver.nodes())"
   ]
  },
  {
   "cell_type": "code",
   "execution_count": null,
   "metadata": {
    "ExecuteTime": {
     "start_time": "2021-06-17T14:29:07.506Z"
    }
   },
   "outputs": [],
   "source": [
    "ks_mip(weights, values, capacity=K)"
   ]
  },
  {
   "cell_type": "markdown",
   "metadata": {},
   "source": [
    "# Graph Coloring"
   ]
  },
  {
   "cell_type": "code",
   "execution_count": 6,
   "metadata": {
    "ExecuteTime": {
     "end_time": "2021-06-18T14:53:53.990139Z",
     "start_time": "2021-06-18T14:53:53.980050Z"
    }
   },
   "outputs": [
    {
     "data": {
      "text/plain": [
       "['0. gc_1000_1',\n",
       " '1. gc_1000_3',\n",
       " '2. gc_1000_5',\n",
       " '3. gc_1000_7',\n",
       " '4. gc_1000_9',\n",
       " '5. gc_100_1',\n",
       " '6. gc_100_3',\n",
       " '7. gc_100_5',\n",
       " '8. gc_100_7',\n",
       " '9. gc_100_9',\n",
       " '10. gc_20_1',\n",
       " '11. gc_20_3',\n",
       " '12. gc_20_5',\n",
       " '13. gc_20_7',\n",
       " '14. gc_20_9',\n",
       " '15. gc_250_1',\n",
       " '16. gc_250_3',\n",
       " '17. gc_250_5',\n",
       " '18. gc_250_7',\n",
       " '19. gc_250_9',\n",
       " '20. gc_4_1',\n",
       " '21. gc_500_1',\n",
       " '22. gc_500_3',\n",
       " '23. gc_500_5',\n",
       " '24. gc_500_7',\n",
       " '25. gc_500_9',\n",
       " '26. gc_50_1',\n",
       " '27. gc_50_3',\n",
       " '28. gc_50_5',\n",
       " '29. gc_50_7',\n",
       " '30. gc_50_9',\n",
       " '31. gc_70_1',\n",
       " '32. gc_70_3',\n",
       " '33. gc_70_5',\n",
       " '34. gc_70_7',\n",
       " '35. gc_70_9']"
      ]
     },
     "execution_count": 6,
     "metadata": {},
     "output_type": "execute_result"
    },
    {
     "data": {
      "application/javascript": [
       "\n",
       "            setTimeout(function() {\n",
       "                var nbb_cell_id = 6;\n",
       "                var nbb_unformatted_code = \"path = \\\"../3 coloring/data\\\"\\nfiles = os.listdir(path)\\n[f\\\"{i}. {f}\\\" for i, f in enumerate(files)]\";\n",
       "                var nbb_formatted_code = \"path = \\\"../3 coloring/data\\\"\\nfiles = os.listdir(path)\\n[f\\\"{i}. {f}\\\" for i, f in enumerate(files)]\";\n",
       "                var nbb_cells = Jupyter.notebook.get_cells();\n",
       "                for (var i = 0; i < nbb_cells.length; ++i) {\n",
       "                    if (nbb_cells[i].input_prompt_number == nbb_cell_id) {\n",
       "                        if (nbb_cells[i].get_text() == nbb_unformatted_code) {\n",
       "                             nbb_cells[i].set_text(nbb_formatted_code);\n",
       "                        }\n",
       "                        break;\n",
       "                    }\n",
       "                }\n",
       "            }, 500);\n",
       "            "
      ],
      "text/plain": [
       "<IPython.core.display.Javascript object>"
      ]
     },
     "metadata": {},
     "output_type": "display_data"
    }
   ],
   "source": [
    "path = \"../3 coloring/data\"\n",
    "files = os.listdir(path)\n",
    "[f\"{i}. {f}\" for i, f in enumerate(files)]"
   ]
  },
  {
   "cell_type": "code",
   "execution_count": 31,
   "metadata": {
    "ExecuteTime": {
     "end_time": "2021-06-18T15:11:05.518179Z",
     "start_time": "2021-06-18T15:11:05.496170Z"
    }
   },
   "outputs": [
    {
     "name": "stdout",
     "output_type": "stream",
     "text": [
      "gc_50_1\n",
      "50 133\n",
      "0 5\n",
      "0 15\n"
     ]
    },
    {
     "data": {
      "application/javascript": [
       "\n",
       "            setTimeout(function() {\n",
       "                var nbb_cell_id = 31;\n",
       "                var nbb_unformatted_code = \"idx = 26\\nprint(files[idx])\\nwith open(os.path.join(path, files[idx]), \\\"r\\\") as fp:\\n    input_data = fp.read()\\nprint(input_data[:15])\";\n",
       "                var nbb_formatted_code = \"idx = 26\\nprint(files[idx])\\nwith open(os.path.join(path, files[idx]), \\\"r\\\") as fp:\\n    input_data = fp.read()\\nprint(input_data[:15])\";\n",
       "                var nbb_cells = Jupyter.notebook.get_cells();\n",
       "                for (var i = 0; i < nbb_cells.length; ++i) {\n",
       "                    if (nbb_cells[i].input_prompt_number == nbb_cell_id) {\n",
       "                        if (nbb_cells[i].get_text() == nbb_unformatted_code) {\n",
       "                             nbb_cells[i].set_text(nbb_formatted_code);\n",
       "                        }\n",
       "                        break;\n",
       "                    }\n",
       "                }\n",
       "            }, 500);\n",
       "            "
      ],
      "text/plain": [
       "<IPython.core.display.Javascript object>"
      ]
     },
     "metadata": {},
     "output_type": "display_data"
    }
   ],
   "source": [
    "idx = 26\n",
    "print(files[idx])\n",
    "with open(os.path.join(path, files[idx]), \"r\") as fp:\n",
    "    input_data = fp.read()\n",
    "print(input_data[:15])"
   ]
  },
  {
   "cell_type": "code",
   "execution_count": 32,
   "metadata": {
    "ExecuteTime": {
     "end_time": "2021-06-18T15:11:06.530764Z",
     "start_time": "2021-06-18T15:11:06.504183Z"
    }
   },
   "outputs": [
    {
     "name": "stdout",
     "output_type": "stream",
     "text": [
      "50 133\n"
     ]
    },
    {
     "data": {
      "application/javascript": [
       "\n",
       "            setTimeout(function() {\n",
       "                var nbb_cell_id = 32;\n",
       "                var nbb_unformatted_code = \"lines = input_data.split(\\\"\\\\n\\\")\\n\\nfirst_line = lines[0].split()\\nnode_count = int(first_line[0])\\nedge_count = int(first_line[1])\\n\\nedges = []\\nfor i in range(1, edge_count + 1):\\n    line = lines[i]\\n    parts = line.split()\\n    edges.append((int(parts[0]), int(parts[1])))\\n\\nprint(node_count, edge_count)\";\n",
       "                var nbb_formatted_code = \"lines = input_data.split(\\\"\\\\n\\\")\\n\\nfirst_line = lines[0].split()\\nnode_count = int(first_line[0])\\nedge_count = int(first_line[1])\\n\\nedges = []\\nfor i in range(1, edge_count + 1):\\n    line = lines[i]\\n    parts = line.split()\\n    edges.append((int(parts[0]), int(parts[1])))\\n\\nprint(node_count, edge_count)\";\n",
       "                var nbb_cells = Jupyter.notebook.get_cells();\n",
       "                for (var i = 0; i < nbb_cells.length; ++i) {\n",
       "                    if (nbb_cells[i].input_prompt_number == nbb_cell_id) {\n",
       "                        if (nbb_cells[i].get_text() == nbb_unformatted_code) {\n",
       "                             nbb_cells[i].set_text(nbb_formatted_code);\n",
       "                        }\n",
       "                        break;\n",
       "                    }\n",
       "                }\n",
       "            }, 500);\n",
       "            "
      ],
      "text/plain": [
       "<IPython.core.display.Javascript object>"
      ]
     },
     "metadata": {},
     "output_type": "display_data"
    }
   ],
   "source": [
    "lines = input_data.split(\"\\n\")\n",
    "\n",
    "first_line = lines[0].split()\n",
    "node_count = int(first_line[0])\n",
    "edge_count = int(first_line[1])\n",
    "\n",
    "edges = []\n",
    "for i in range(1, edge_count + 1):\n",
    "    line = lines[i]\n",
    "    parts = line.split()\n",
    "    edges.append((int(parts[0]), int(parts[1])))\n",
    "\n",
    "print(node_count, edge_count)"
   ]
  },
  {
   "cell_type": "code",
   "execution_count": 33,
   "metadata": {
    "ExecuteTime": {
     "end_time": "2021-06-18T15:11:07.967574Z",
     "start_time": "2021-06-18T15:11:07.952574Z"
    }
   },
   "outputs": [
    {
     "name": "stdout",
     "output_type": "stream",
     "text": [
      "47 12\n"
     ]
    },
    {
     "data": {
      "application/javascript": [
       "\n",
       "            setTimeout(function() {\n",
       "                var nbb_cell_id = 33;\n",
       "                var nbb_unformatted_code = \"edge_array = np.array(edges)\\norders = [np.sum(edge_array == i) for i in range(node_count)]\\nhighest_order = int(np.argmax(orders))\\nprint(highest_order, orders[highest_order])\";\n",
       "                var nbb_formatted_code = \"edge_array = np.array(edges)\\norders = [np.sum(edge_array == i) for i in range(node_count)]\\nhighest_order = int(np.argmax(orders))\\nprint(highest_order, orders[highest_order])\";\n",
       "                var nbb_cells = Jupyter.notebook.get_cells();\n",
       "                for (var i = 0; i < nbb_cells.length; ++i) {\n",
       "                    if (nbb_cells[i].input_prompt_number == nbb_cell_id) {\n",
       "                        if (nbb_cells[i].get_text() == nbb_unformatted_code) {\n",
       "                             nbb_cells[i].set_text(nbb_formatted_code);\n",
       "                        }\n",
       "                        break;\n",
       "                    }\n",
       "                }\n",
       "            }, 500);\n",
       "            "
      ],
      "text/plain": [
       "<IPython.core.display.Javascript object>"
      ]
     },
     "metadata": {},
     "output_type": "display_data"
    }
   ],
   "source": [
    "edge_array = np.array(edges)\n",
    "orders = [np.sum(edge_array == i) for i in range(node_count)]\n",
    "highest_order = int(np.argmax(orders))\n",
    "print(highest_order, orders[highest_order])"
   ]
  },
  {
   "cell_type": "code",
   "execution_count": 34,
   "metadata": {
    "ExecuteTime": {
     "end_time": "2021-06-18T15:11:11.674549Z",
     "start_time": "2021-06-18T15:11:11.624365Z"
    }
   },
   "outputs": [
    {
     "data": {
      "application/javascript": [
       "\n",
       "            setTimeout(function() {\n",
       "                var nbb_cell_id = 34;\n",
       "                var nbb_unformatted_code = \"import networkx as nx\\nimport matplotlib.pyplot as plt\\n\\n\\ndef create_graph(n_points, edges):\\n    graph = nx.Graph()\\n    graph.add_nodes_from(range(n_points))\\n    graph.add_edges_from(edges)\\n    return graph\\n\\n\\ndef get_max_clique(n_points, edges):\\n    graph = create_graph(n_points, edges)\\n    cliques = nx.find_cliques(graph)\\n    return max([len(c) for c in cliques])\\n\\n\\ndef get_cliques(n_points, edges):\\n    graph = create_graph(n_points, edges)\\n    cliques = nx.find_cliques(graph)\\n    return [c for c in cliques if len(c) > 2]\\n\\n\\ndef gc_mip(n_points, edges, max_color):\\n    n_colors = max_color\\n    min_colors = get_max_clique(n_points, edges)\\n    # Create solver\\n    solver = pywraplp.Solver.CreateSolver(\\\"SCIP\\\", \\\"SCIP\\\")\\n\\n    # Define Variables\\n    colors = [\\n        [solver.BoolVar(f\\\"x_{i}_{c}\\\") for c in range(n_colors)] for i in range(n_points)\\n    ]\\n\\n    # Constraints\\n    # Connected edges\\n    for i, j in edges:\\n        for c in range(n_colors):\\n            solver.Add(colors[i][c] + colors[j][c] <= 1)\\n\\n    # Only one color\\n    for i in range(n_points):\\n        solver.Add(sum(colors[i]) <= 1)\\n        solver.Add(sum(colors[i]) >= 1)\\n\\n        #     total_weight = sum([weights[i] * choices[i] for i in range(n)])\\n        #     solver.Add(total_weight <= capacity)\\n\\n        # Break Symmetry\\n    #         for c in range(n_colors - 1):\\n    #             sum1 = sum([colors[i][c] for i in range(n_points)])\\n    #             sum2 = sum([colors[i][c + 1] for i in range(n_points)])\\n    #             solver.Add(sum1 >= sum2)\\n\\n    #             # Min colors\\n    #             if c < min_colors:\\n    #                 solver.Add(sum1 >= 1)\\n\\n    # Use cliques as constraint\\n    cliques = get_cliques(n_points, edges)\\n    for clq in cliques:\\n        for c in range(n_colors):\\n            solver.Add(sum([colors[i][c] for i in clq]) <= 1)\\n    # Objective\\n    obj = 0\\n    for i in range(n_points):\\n        obj += sum([colors[i][c] * c for c in range(n_colors)])\\n    solver.Minimize(obj)\\n\\n    # Solve\\n    status = solver.Solve()\\n\\n    # Solution\\n    if status == pywraplp.Solver.OPTIMAL:\\n        #         solution = [choices[i].solution_value() for i in range(n)]\\n        solution = [\\n            [colors[i][c].solution_value() for c in range(n_colors)]\\n            for i in range(n_points)\\n        ]\\n        for i in range(n_points):\\n            print(solution[i])\\n        print(\\\"Solution:\\\")\\n        print(f\\\"Objective value = {solver.Objective().Value()}\\\")\\n\\n    #         print(solution)\\n    #         print('x =', x.solution_value())\\n    #         print('y =', y.solution_value())\\n    else:\\n        print(\\\"The problem does not have an optimal solution.\\\")\\n\\n    print(\\\"\\\\nAdvanced usage:\\\")\\n    print(\\\"Problem solved in %f milliseconds\\\" % solver.wall_time())\\n    print(\\\"Problem solved in %d iterations\\\" % solver.iterations())\\n    print(\\\"Problem solved in %d branch-and-bound nodes\\\" % solver.nodes())\";\n",
       "                var nbb_formatted_code = \"import networkx as nx\\nimport matplotlib.pyplot as plt\\n\\n\\ndef create_graph(n_points, edges):\\n    graph = nx.Graph()\\n    graph.add_nodes_from(range(n_points))\\n    graph.add_edges_from(edges)\\n    return graph\\n\\n\\ndef get_max_clique(n_points, edges):\\n    graph = create_graph(n_points, edges)\\n    cliques = nx.find_cliques(graph)\\n    return max([len(c) for c in cliques])\\n\\n\\ndef get_cliques(n_points, edges):\\n    graph = create_graph(n_points, edges)\\n    cliques = nx.find_cliques(graph)\\n    return [c for c in cliques if len(c) > 2]\\n\\n\\ndef gc_mip(n_points, edges, max_color):\\n    n_colors = max_color\\n    min_colors = get_max_clique(n_points, edges)\\n    # Create solver\\n    solver = pywraplp.Solver.CreateSolver(\\\"SCIP\\\", \\\"SCIP\\\")\\n\\n    # Define Variables\\n    colors = [\\n        [solver.BoolVar(f\\\"x_{i}_{c}\\\") for c in range(n_colors)] for i in range(n_points)\\n    ]\\n\\n    # Constraints\\n    # Connected edges\\n    for i, j in edges:\\n        for c in range(n_colors):\\n            solver.Add(colors[i][c] + colors[j][c] <= 1)\\n\\n    # Only one color\\n    for i in range(n_points):\\n        solver.Add(sum(colors[i]) <= 1)\\n        solver.Add(sum(colors[i]) >= 1)\\n\\n        #     total_weight = sum([weights[i] * choices[i] for i in range(n)])\\n        #     solver.Add(total_weight <= capacity)\\n\\n        # Break Symmetry\\n    #         for c in range(n_colors - 1):\\n    #             sum1 = sum([colors[i][c] for i in range(n_points)])\\n    #             sum2 = sum([colors[i][c + 1] for i in range(n_points)])\\n    #             solver.Add(sum1 >= sum2)\\n\\n    #             # Min colors\\n    #             if c < min_colors:\\n    #                 solver.Add(sum1 >= 1)\\n\\n    # Use cliques as constraint\\n    cliques = get_cliques(n_points, edges)\\n    for clq in cliques:\\n        for c in range(n_colors):\\n            solver.Add(sum([colors[i][c] for i in clq]) <= 1)\\n    # Objective\\n    obj = 0\\n    for i in range(n_points):\\n        obj += sum([colors[i][c] * c for c in range(n_colors)])\\n    solver.Minimize(obj)\\n\\n    # Solve\\n    status = solver.Solve()\\n\\n    # Solution\\n    if status == pywraplp.Solver.OPTIMAL:\\n        #         solution = [choices[i].solution_value() for i in range(n)]\\n        solution = [\\n            [colors[i][c].solution_value() for c in range(n_colors)]\\n            for i in range(n_points)\\n        ]\\n        for i in range(n_points):\\n            print(solution[i])\\n        print(\\\"Solution:\\\")\\n        print(f\\\"Objective value = {solver.Objective().Value()}\\\")\\n\\n    #         print(solution)\\n    #         print('x =', x.solution_value())\\n    #         print('y =', y.solution_value())\\n    else:\\n        print(\\\"The problem does not have an optimal solution.\\\")\\n\\n    print(\\\"\\\\nAdvanced usage:\\\")\\n    print(\\\"Problem solved in %f milliseconds\\\" % solver.wall_time())\\n    print(\\\"Problem solved in %d iterations\\\" % solver.iterations())\\n    print(\\\"Problem solved in %d branch-and-bound nodes\\\" % solver.nodes())\";\n",
       "                var nbb_cells = Jupyter.notebook.get_cells();\n",
       "                for (var i = 0; i < nbb_cells.length; ++i) {\n",
       "                    if (nbb_cells[i].input_prompt_number == nbb_cell_id) {\n",
       "                        if (nbb_cells[i].get_text() == nbb_unformatted_code) {\n",
       "                             nbb_cells[i].set_text(nbb_formatted_code);\n",
       "                        }\n",
       "                        break;\n",
       "                    }\n",
       "                }\n",
       "            }, 500);\n",
       "            "
      ],
      "text/plain": [
       "<IPython.core.display.Javascript object>"
      ]
     },
     "metadata": {},
     "output_type": "display_data"
    }
   ],
   "source": [
    "import networkx as nx\n",
    "import matplotlib.pyplot as plt\n",
    "\n",
    "\n",
    "def create_graph(n_points, edges):\n",
    "    graph = nx.Graph()\n",
    "    graph.add_nodes_from(range(n_points))\n",
    "    graph.add_edges_from(edges)\n",
    "    return graph\n",
    "\n",
    "\n",
    "def get_max_clique(n_points, edges):\n",
    "    graph = create_graph(n_points, edges)\n",
    "    cliques = nx.find_cliques(graph)\n",
    "    return max([len(c) for c in cliques])\n",
    "\n",
    "\n",
    "def get_cliques(n_points, edges):\n",
    "    graph = create_graph(n_points, edges)\n",
    "    cliques = nx.find_cliques(graph)\n",
    "    return [c for c in cliques if len(c) > 2]\n",
    "\n",
    "\n",
    "def gc_mip(n_points, edges, max_color):\n",
    "    n_colors = max_color\n",
    "    min_colors = get_max_clique(n_points, edges)\n",
    "    # Create solver\n",
    "    solver = pywraplp.Solver.CreateSolver(\"SCIP\", \"SCIP\")\n",
    "\n",
    "    # Define Variables\n",
    "    colors = [\n",
    "        [solver.BoolVar(f\"x_{i}_{c}\") for c in range(n_colors)] for i in range(n_points)\n",
    "    ]\n",
    "\n",
    "    # Constraints\n",
    "    # Connected edges\n",
    "    for i, j in edges:\n",
    "        for c in range(n_colors):\n",
    "            solver.Add(colors[i][c] + colors[j][c] <= 1)\n",
    "\n",
    "    # Only one color\n",
    "    for i in range(n_points):\n",
    "        solver.Add(sum(colors[i]) <= 1)\n",
    "        solver.Add(sum(colors[i]) >= 1)\n",
    "\n",
    "        #     total_weight = sum([weights[i] * choices[i] for i in range(n)])\n",
    "        #     solver.Add(total_weight <= capacity)\n",
    "\n",
    "        # Break Symmetry\n",
    "    #         for c in range(n_colors - 1):\n",
    "    #             sum1 = sum([colors[i][c] for i in range(n_points)])\n",
    "    #             sum2 = sum([colors[i][c + 1] for i in range(n_points)])\n",
    "    #             solver.Add(sum1 >= sum2)\n",
    "\n",
    "    #             # Min colors\n",
    "    #             if c < min_colors:\n",
    "    #                 solver.Add(sum1 >= 1)\n",
    "\n",
    "    # Use cliques as constraint\n",
    "    cliques = get_cliques(n_points, edges)\n",
    "    for clq in cliques:\n",
    "        for c in range(n_colors):\n",
    "            solver.Add(sum([colors[i][c] for i in clq]) <= 1)\n",
    "    # Objective\n",
    "    obj = 0\n",
    "    for i in range(n_points):\n",
    "        obj += sum([colors[i][c] * c for c in range(n_colors)])\n",
    "    solver.Minimize(obj)\n",
    "\n",
    "    # Solve\n",
    "    status = solver.Solve()\n",
    "\n",
    "    # Solution\n",
    "    if status == pywraplp.Solver.OPTIMAL:\n",
    "        #         solution = [choices[i].solution_value() for i in range(n)]\n",
    "        solution = [\n",
    "            [colors[i][c].solution_value() for c in range(n_colors)]\n",
    "            for i in range(n_points)\n",
    "        ]\n",
    "        for i in range(n_points):\n",
    "            print(solution[i])\n",
    "        print(\"Solution:\")\n",
    "        print(f\"Objective value = {solver.Objective().Value()}\")\n",
    "\n",
    "    #         print(solution)\n",
    "    #         print('x =', x.solution_value())\n",
    "    #         print('y =', y.solution_value())\n",
    "    else:\n",
    "        print(\"The problem does not have an optimal solution.\")\n",
    "\n",
    "    print(\"\\nAdvanced usage:\")\n",
    "    print(\"Problem solved in %f milliseconds\" % solver.wall_time())\n",
    "    print(\"Problem solved in %d iterations\" % solver.iterations())\n",
    "    print(\"Problem solved in %d branch-and-bound nodes\" % solver.nodes())"
   ]
  },
  {
   "cell_type": "code",
   "execution_count": 35,
   "metadata": {
    "ExecuteTime": {
     "end_time": "2021-06-18T15:11:12.642947Z",
     "start_time": "2021-06-18T15:11:12.631956Z"
    }
   },
   "outputs": [
    {
     "data": {
      "text/plain": [
       "5"
      ]
     },
     "execution_count": 35,
     "metadata": {},
     "output_type": "execute_result"
    },
    {
     "data": {
      "application/javascript": [
       "\n",
       "            setTimeout(function() {\n",
       "                var nbb_cell_id = 35;\n",
       "                var nbb_unformatted_code = \"sol = greedy_solver(edges, node_count)\\nmax_color = len(set(sol))\\nmax_color\";\n",
       "                var nbb_formatted_code = \"sol = greedy_solver(edges, node_count)\\nmax_color = len(set(sol))\\nmax_color\";\n",
       "                var nbb_cells = Jupyter.notebook.get_cells();\n",
       "                for (var i = 0; i < nbb_cells.length; ++i) {\n",
       "                    if (nbb_cells[i].input_prompt_number == nbb_cell_id) {\n",
       "                        if (nbb_cells[i].get_text() == nbb_unformatted_code) {\n",
       "                             nbb_cells[i].set_text(nbb_formatted_code);\n",
       "                        }\n",
       "                        break;\n",
       "                    }\n",
       "                }\n",
       "            }, 500);\n",
       "            "
      ],
      "text/plain": [
       "<IPython.core.display.Javascript object>"
      ]
     },
     "metadata": {},
     "output_type": "display_data"
    }
   ],
   "source": [
    "sol = greedy_solver(edges, node_count)\n",
    "max_color = len(set(sol))\n",
    "max_color"
   ]
  },
  {
   "cell_type": "code",
   "execution_count": null,
   "metadata": {
    "ExecuteTime": {
     "start_time": "2021-06-18T15:11:13.990Z"
    }
   },
   "outputs": [],
   "source": [
    "gc_mip(node_count, edges, max_color)"
   ]
  },
  {
   "cell_type": "code",
   "execution_count": 23,
   "metadata": {
    "ExecuteTime": {
     "end_time": "2021-06-18T15:08:44.876909Z",
     "start_time": "2021-06-18T15:08:44.861915Z"
    }
   },
   "outputs": [
    {
     "data": {
      "application/javascript": [
       "\n",
       "            setTimeout(function() {\n",
       "                var nbb_cell_id = 23;\n",
       "                var nbb_unformatted_code = \"from graph_coloring import greedy_solver, cp_solver_test\";\n",
       "                var nbb_formatted_code = \"from graph_coloring import greedy_solver, cp_solver_test\";\n",
       "                var nbb_cells = Jupyter.notebook.get_cells();\n",
       "                for (var i = 0; i < nbb_cells.length; ++i) {\n",
       "                    if (nbb_cells[i].input_prompt_number == nbb_cell_id) {\n",
       "                        if (nbb_cells[i].get_text() == nbb_unformatted_code) {\n",
       "                             nbb_cells[i].set_text(nbb_formatted_code);\n",
       "                        }\n",
       "                        break;\n",
       "                    }\n",
       "                }\n",
       "            }, 500);\n",
       "            "
      ],
      "text/plain": [
       "<IPython.core.display.Javascript object>"
      ]
     },
     "metadata": {},
     "output_type": "display_data"
    }
   ],
   "source": [
    "from graph_coloring import greedy_solver, cp_solver_test"
   ]
  },
  {
   "cell_type": "code",
   "execution_count": 22,
   "metadata": {
    "ExecuteTime": {
     "end_time": "2021-06-18T15:08:04.956725Z",
     "start_time": "2021-06-18T15:08:04.937393Z"
    }
   },
   "outputs": [
    {
     "data": {
      "text/plain": [
       "array([1, 0, 1, 1, 1, 0, 1, 2, 1, 0, 1, 2, 1, 0, 0, 1, 0, 0, 0, 1])"
      ]
     },
     "execution_count": 22,
     "metadata": {},
     "output_type": "execute_result"
    },
    {
     "data": {
      "application/javascript": [
       "\n",
       "            setTimeout(function() {\n",
       "                var nbb_cell_id = 22;\n",
       "                var nbb_unformatted_code = \"greedy_solver(edges,node_count)\";\n",
       "                var nbb_formatted_code = \"greedy_solver(edges, node_count)\";\n",
       "                var nbb_cells = Jupyter.notebook.get_cells();\n",
       "                for (var i = 0; i < nbb_cells.length; ++i) {\n",
       "                    if (nbb_cells[i].input_prompt_number == nbb_cell_id) {\n",
       "                        if (nbb_cells[i].get_text() == nbb_unformatted_code) {\n",
       "                             nbb_cells[i].set_text(nbb_formatted_code);\n",
       "                        }\n",
       "                        break;\n",
       "                    }\n",
       "                }\n",
       "            }, 500);\n",
       "            "
      ],
      "text/plain": [
       "<IPython.core.display.Javascript object>"
      ]
     },
     "metadata": {},
     "output_type": "display_data"
    }
   ],
   "source": [
    "greedy_solver(edges, node_count)"
   ]
  },
  {
   "cell_type": "code",
   "execution_count": 24,
   "metadata": {
    "ExecuteTime": {
     "end_time": "2021-06-18T15:08:53.939229Z",
     "start_time": "2021-06-18T15:08:53.856973Z"
    }
   },
   "outputs": [
    {
     "name": "stdout",
     "output_type": "stream",
     "text": [
      "\t>>> Solver status:  OPTIMAL\n"
     ]
    },
    {
     "data": {
      "text/plain": [
       "[0, 0, 1, 0, 0, 0, 1, 1, 1, 1, 0, 3, 0, 1, 1, 0, 2, 2, 0, 0]"
      ]
     },
     "execution_count": 24,
     "metadata": {},
     "output_type": "execute_result"
    },
    {
     "data": {
      "application/javascript": [
       "\n",
       "            setTimeout(function() {\n",
       "                var nbb_cell_id = 24;\n",
       "                var nbb_unformatted_code = \"cp_solver_test(edges,node_count)\";\n",
       "                var nbb_formatted_code = \"cp_solver_test(edges, node_count)\";\n",
       "                var nbb_cells = Jupyter.notebook.get_cells();\n",
       "                for (var i = 0; i < nbb_cells.length; ++i) {\n",
       "                    if (nbb_cells[i].input_prompt_number == nbb_cell_id) {\n",
       "                        if (nbb_cells[i].get_text() == nbb_unformatted_code) {\n",
       "                             nbb_cells[i].set_text(nbb_formatted_code);\n",
       "                        }\n",
       "                        break;\n",
       "                    }\n",
       "                }\n",
       "            }, 500);\n",
       "            "
      ],
      "text/plain": [
       "<IPython.core.display.Javascript object>"
      ]
     },
     "metadata": {},
     "output_type": "display_data"
    }
   ],
   "source": [
    "cp_solver_test(edges,node_count)"
   ]
  },
  {
   "cell_type": "markdown",
   "metadata": {},
   "source": [
    "# Travelling Salesman"
   ]
  },
  {
   "cell_type": "code",
   "execution_count": 7,
   "metadata": {
    "ExecuteTime": {
     "end_time": "2021-06-18T15:59:41.959431Z",
     "start_time": "2021-06-18T15:59:41.929504Z"
    }
   },
   "outputs": [
    {
     "data": {
      "application/javascript": [
       "\n",
       "            setTimeout(function() {\n",
       "                var nbb_cell_id = 7;\n",
       "                var nbb_unformatted_code = \"from collections import namedtuple\";\n",
       "                var nbb_formatted_code = \"from collections import namedtuple\";\n",
       "                var nbb_cells = Jupyter.notebook.get_cells();\n",
       "                for (var i = 0; i < nbb_cells.length; ++i) {\n",
       "                    if (nbb_cells[i].input_prompt_number == nbb_cell_id) {\n",
       "                        if (nbb_cells[i].get_text() == nbb_unformatted_code) {\n",
       "                             nbb_cells[i].set_text(nbb_formatted_code);\n",
       "                        }\n",
       "                        break;\n",
       "                    }\n",
       "                }\n",
       "            }, 500);\n",
       "            "
      ],
      "text/plain": [
       "<IPython.core.display.Javascript object>"
      ]
     },
     "metadata": {},
     "output_type": "display_data"
    }
   ],
   "source": [
    "from collections import namedtuple"
   ]
  },
  {
   "cell_type": "code",
   "execution_count": 8,
   "metadata": {
    "ExecuteTime": {
     "end_time": "2021-06-18T16:00:17.031561Z",
     "start_time": "2021-06-18T16:00:17.025560Z"
    }
   },
   "outputs": [
    {
     "data": {
      "application/javascript": [
       "\n",
       "            setTimeout(function() {\n",
       "                var nbb_cell_id = 8;\n",
       "                var nbb_unformatted_code = \"Point = namedtuple('Point',['x','y'])\";\n",
       "                var nbb_formatted_code = \"Point = namedtuple(\\\"Point\\\", [\\\"x\\\", \\\"y\\\"])\";\n",
       "                var nbb_cells = Jupyter.notebook.get_cells();\n",
       "                for (var i = 0; i < nbb_cells.length; ++i) {\n",
       "                    if (nbb_cells[i].input_prompt_number == nbb_cell_id) {\n",
       "                        if (nbb_cells[i].get_text() == nbb_unformatted_code) {\n",
       "                             nbb_cells[i].set_text(nbb_formatted_code);\n",
       "                        }\n",
       "                        break;\n",
       "                    }\n",
       "                }\n",
       "            }, 500);\n",
       "            "
      ],
      "text/plain": [
       "<IPython.core.display.Javascript object>"
      ]
     },
     "metadata": {},
     "output_type": "display_data"
    }
   ],
   "source": [
    "Point = namedtuple(\"Point\", [\"x\", \"y\"])"
   ]
  },
  {
   "cell_type": "code",
   "execution_count": 3,
   "metadata": {
    "ExecuteTime": {
     "end_time": "2021-06-18T15:58:37.498714Z",
     "start_time": "2021-06-18T15:58:37.477593Z"
    }
   },
   "outputs": [
    {
     "data": {
      "text/plain": [
       "['0. tsp_1000_1',\n",
       " '1. tsp_100_1',\n",
       " '2. tsp_100_2',\n",
       " '3. tsp_100_3',\n",
       " '4. tsp_100_4',\n",
       " '5. tsp_100_5',\n",
       " '6. tsp_100_6',\n",
       " '7. tsp_101_1',\n",
       " '8. tsp_105_1',\n",
       " '9. tsp_1060_1',\n",
       " '10. tsp_107_1',\n",
       " '11. tsp_1084_1',\n",
       " '12. tsp_1173_1',\n",
       " '13. tsp_11849_1',\n",
       " '14. tsp_124_1',\n",
       " '15. tsp_127_1',\n",
       " '16. tsp_1291_1',\n",
       " '17. tsp_1304_1',\n",
       " '18. tsp_1323_1',\n",
       " '19. tsp_136_1',\n",
       " '20. tsp_1379_1',\n",
       " '21. tsp_1400_1',\n",
       " '22. tsp_14051_1',\n",
       " '23. tsp_1432_1',\n",
       " '24. tsp_144_1',\n",
       " '25. tsp_150_1',\n",
       " '26. tsp_150_2',\n",
       " '27. tsp_152_1',\n",
       " '28. tsp_1577_1',\n",
       " '29. tsp_159_1',\n",
       " '30. tsp_1655_1',\n",
       " '31. tsp_1748_1',\n",
       " '32. tsp_1817_1',\n",
       " '33. tsp_18512_1',\n",
       " '34. tsp_1889_1',\n",
       " '35. tsp_195_1',\n",
       " '36. tsp_198_1',\n",
       " '37. tsp_200_1',\n",
       " '38. tsp_200_2',\n",
       " '39. tsp_2103_1',\n",
       " '40. tsp_2152_1',\n",
       " '41. tsp_225_1',\n",
       " '42. tsp_226_1',\n",
       " '43. tsp_2319_1',\n",
       " '44. tsp_2392_1',\n",
       " '45. tsp_262_1',\n",
       " '46. tsp_264_1',\n",
       " '47. tsp_299_1',\n",
       " '48. tsp_3038_1',\n",
       " '49. tsp_318_1',\n",
       " '50. tsp_318_2',\n",
       " '51. tsp_33810_1',\n",
       " '52. tsp_3795_1',\n",
       " '53. tsp_400_1',\n",
       " '54. tsp_417_1',\n",
       " '55. tsp_439_1',\n",
       " '56. tsp_442_1',\n",
       " '57. tsp_4461_1',\n",
       " '58. tsp_493_1',\n",
       " '59. tsp_51_1',\n",
       " '60. tsp_574_1',\n",
       " '61. tsp_575_1',\n",
       " '62. tsp_5915_1',\n",
       " '63. tsp_5934_1',\n",
       " '64. tsp_5_1',\n",
       " '65. tsp_654_1',\n",
       " '66. tsp_657_1',\n",
       " '67. tsp_70_1',\n",
       " '68. tsp_724_1',\n",
       " '69. tsp_7397_1',\n",
       " '70. tsp_76_1',\n",
       " '71. tsp_76_2',\n",
       " '72. tsp_783_1',\n",
       " '73. tsp_85900_1',\n",
       " '74. tsp_9432_1',\n",
       " '75. tsp_99_1']"
      ]
     },
     "execution_count": 3,
     "metadata": {},
     "output_type": "execute_result"
    },
    {
     "data": {
      "application/javascript": [
       "\n",
       "            setTimeout(function() {\n",
       "                var nbb_cell_id = 3;\n",
       "                var nbb_unformatted_code = \"path = \\\"../4 tsp/data\\\"\\nfiles = os.listdir(path)\\n[f\\\"{i}. {f}\\\" for i, f in enumerate(files)]\";\n",
       "                var nbb_formatted_code = \"path = \\\"../4 tsp/data\\\"\\nfiles = os.listdir(path)\\n[f\\\"{i}. {f}\\\" for i, f in enumerate(files)]\";\n",
       "                var nbb_cells = Jupyter.notebook.get_cells();\n",
       "                for (var i = 0; i < nbb_cells.length; ++i) {\n",
       "                    if (nbb_cells[i].input_prompt_number == nbb_cell_id) {\n",
       "                        if (nbb_cells[i].get_text() == nbb_unformatted_code) {\n",
       "                             nbb_cells[i].set_text(nbb_formatted_code);\n",
       "                        }\n",
       "                        break;\n",
       "                    }\n",
       "                }\n",
       "            }, 500);\n",
       "            "
      ],
      "text/plain": [
       "<IPython.core.display.Javascript object>"
      ]
     },
     "metadata": {},
     "output_type": "display_data"
    }
   ],
   "source": [
    "path = \"../4 tsp/data\"\n",
    "files = os.listdir(path)\n",
    "[f\"{i}. {f}\" for i, f in enumerate(files)]"
   ]
  },
  {
   "cell_type": "code",
   "execution_count": 5,
   "metadata": {
    "ExecuteTime": {
     "end_time": "2021-06-18T15:59:11.094162Z",
     "start_time": "2021-06-18T15:59:11.082161Z"
    }
   },
   "outputs": [
    {
     "name": "stdout",
     "output_type": "stream",
     "text": [
      "tsp_70_1\n",
      "70\n",
      "67 99\n",
      "48 83\n",
      "75 81\n",
      "8 19\n",
      "20 18\n",
      "54 \n"
     ]
    },
    {
     "data": {
      "application/javascript": [
       "\n",
       "            setTimeout(function() {\n",
       "                var nbb_cell_id = 5;\n",
       "                var nbb_unformatted_code = \"idx = 67\\nprint(files[idx])\\nwith open(os.path.join(path, files[idx]), \\\"r\\\") as fp:\\n    input_data = fp.read()\\nprint(input_data[:35])\";\n",
       "                var nbb_formatted_code = \"idx = 67\\nprint(files[idx])\\nwith open(os.path.join(path, files[idx]), \\\"r\\\") as fp:\\n    input_data = fp.read()\\nprint(input_data[:35])\";\n",
       "                var nbb_cells = Jupyter.notebook.get_cells();\n",
       "                for (var i = 0; i < nbb_cells.length; ++i) {\n",
       "                    if (nbb_cells[i].input_prompt_number == nbb_cell_id) {\n",
       "                        if (nbb_cells[i].get_text() == nbb_unformatted_code) {\n",
       "                             nbb_cells[i].set_text(nbb_formatted_code);\n",
       "                        }\n",
       "                        break;\n",
       "                    }\n",
       "                }\n",
       "            }, 500);\n",
       "            "
      ],
      "text/plain": [
       "<IPython.core.display.Javascript object>"
      ]
     },
     "metadata": {},
     "output_type": "display_data"
    }
   ],
   "source": [
    "idx = 67\n",
    "print(files[idx])\n",
    "with open(os.path.join(path, files[idx]), \"r\") as fp:\n",
    "    input_data = fp.read()\n",
    "print(input_data[:35])"
   ]
  },
  {
   "cell_type": "code",
   "execution_count": 11,
   "metadata": {
    "ExecuteTime": {
     "end_time": "2021-06-18T16:00:40.673774Z",
     "start_time": "2021-06-18T16:00:40.653777Z"
    }
   },
   "outputs": [
    {
     "data": {
      "application/javascript": [
       "\n",
       "            setTimeout(function() {\n",
       "                var nbb_cell_id = 11;\n",
       "                var nbb_unformatted_code = \"lines = input_data.split(\\\"\\\\n\\\")\\n\\nnodeCount = int(lines[0])\\n\\npoints = []\\nfor i in range(1, nodeCount + 1):\\n    line = lines[i]\\n    parts = line.split()\\n    points.append(Point(float(parts[0]), float(parts[1])))\";\n",
       "                var nbb_formatted_code = \"lines = input_data.split(\\\"\\\\n\\\")\\n\\nnodeCount = int(lines[0])\\n\\npoints = []\\nfor i in range(1, nodeCount + 1):\\n    line = lines[i]\\n    parts = line.split()\\n    points.append(Point(float(parts[0]), float(parts[1])))\";\n",
       "                var nbb_cells = Jupyter.notebook.get_cells();\n",
       "                for (var i = 0; i < nbb_cells.length; ++i) {\n",
       "                    if (nbb_cells[i].input_prompt_number == nbb_cell_id) {\n",
       "                        if (nbb_cells[i].get_text() == nbb_unformatted_code) {\n",
       "                             nbb_cells[i].set_text(nbb_formatted_code);\n",
       "                        }\n",
       "                        break;\n",
       "                    }\n",
       "                }\n",
       "            }, 500);\n",
       "            "
      ],
      "text/plain": [
       "<IPython.core.display.Javascript object>"
      ]
     },
     "metadata": {},
     "output_type": "display_data"
    }
   ],
   "source": [
    "lines = input_data.split(\"\\n\")\n",
    "\n",
    "nodeCount = int(lines[0])\n",
    "\n",
    "points = []\n",
    "for i in range(1, nodeCount + 1):\n",
    "    line = lines[i]\n",
    "    parts = line.split()\n",
    "    points.append(Point(float(parts[0]), float(parts[1])))\n"
   ]
  },
  {
   "cell_type": "code",
   "execution_count": 12,
   "metadata": {
    "ExecuteTime": {
     "end_time": "2021-06-18T16:00:49.751266Z",
     "start_time": "2021-06-18T16:00:49.741268Z"
    }
   },
   "outputs": [
    {
     "data": {
      "text/plain": [
       "[Point(x=67.0, y=99.0),\n",
       " Point(x=48.0, y=83.0),\n",
       " Point(x=75.0, y=81.0),\n",
       " Point(x=8.0, y=19.0),\n",
       " Point(x=20.0, y=18.0),\n",
       " Point(x=54.0, y=38.0),\n",
       " Point(x=63.0, y=36.0),\n",
       " Point(x=44.0, y=33.0),\n",
       " Point(x=52.0, y=18.0),\n",
       " Point(x=12.0, y=13.0),\n",
       " Point(x=25.0, y=5.0),\n",
       " Point(x=58.0, y=85.0),\n",
       " Point(x=5.0, y=67.0),\n",
       " Point(x=90.0, y=9.0),\n",
       " Point(x=41.0, y=76.0),\n",
       " Point(x=25.0, y=76.0),\n",
       " Point(x=37.0, y=64.0),\n",
       " Point(x=56.0, y=63.0),\n",
       " Point(x=10.0, y=55.0),\n",
       " Point(x=98.0, y=7.0),\n",
       " Point(x=16.0, y=74.0),\n",
       " Point(x=89.0, y=60.0),\n",
       " Point(x=48.0, y=82.0),\n",
       " Point(x=81.0, y=76.0),\n",
       " Point(x=29.0, y=60.0),\n",
       " Point(x=17.0, y=22.0),\n",
       " Point(x=5.0, y=45.0),\n",
       " Point(x=79.0, y=70.0),\n",
       " Point(x=9.0, y=100.0),\n",
       " Point(x=17.0, y=82.0),\n",
       " Point(x=74.0, y=67.0),\n",
       " Point(x=10.0, y=68.0),\n",
       " Point(x=48.0, y=19.0),\n",
       " Point(x=83.0, y=86.0),\n",
       " Point(x=84.0, y=94.0),\n",
       " Point(x=64.0, y=96.0),\n",
       " Point(x=80.0, y=39.0),\n",
       " Point(x=69.0, y=23.0),\n",
       " Point(x=72.0, y=42.0),\n",
       " Point(x=48.0, y=67.0),\n",
       " Point(x=58.0, y=43.0),\n",
       " Point(x=81.0, y=34.0),\n",
       " Point(x=79.0, y=17.0),\n",
       " Point(x=30.0, y=23.0),\n",
       " Point(x=42.0, y=67.0),\n",
       " Point(x=7.0, y=76.0),\n",
       " Point(x=29.0, y=51.0),\n",
       " Point(x=78.0, y=92.0),\n",
       " Point(x=64.0, y=8.0),\n",
       " Point(x=95.0, y=57.0),\n",
       " Point(x=57.0, y=91.0),\n",
       " Point(x=40.0, y=35.0),\n",
       " Point(x=68.0, y=40.0),\n",
       " Point(x=92.0, y=34.0),\n",
       " Point(x=62.0, y=1.0),\n",
       " Point(x=28.0, y=43.0),\n",
       " Point(x=76.0, y=73.0),\n",
       " Point(x=67.0, y=88.0),\n",
       " Point(x=93.0, y=54.0),\n",
       " Point(x=6.0, y=8.0),\n",
       " Point(x=87.0, y=18.0),\n",
       " Point(x=30.0, y=9.0),\n",
       " Point(x=77.0, y=13.0),\n",
       " Point(x=78.0, y=94.0),\n",
       " Point(x=55.0, y=3.0),\n",
       " Point(x=82.0, y=88.0),\n",
       " Point(x=73.0, y=28.0),\n",
       " Point(x=20.0, y=55.0),\n",
       " Point(x=27.0, y=43.0),\n",
       " Point(x=95.0, y=86.0)]"
      ]
     },
     "execution_count": 12,
     "metadata": {},
     "output_type": "execute_result"
    },
    {
     "data": {
      "application/javascript": [
       "\n",
       "            setTimeout(function() {\n",
       "                var nbb_cell_id = 12;\n",
       "                var nbb_unformatted_code = \"points\";\n",
       "                var nbb_formatted_code = \"points\";\n",
       "                var nbb_cells = Jupyter.notebook.get_cells();\n",
       "                for (var i = 0; i < nbb_cells.length; ++i) {\n",
       "                    if (nbb_cells[i].input_prompt_number == nbb_cell_id) {\n",
       "                        if (nbb_cells[i].get_text() == nbb_unformatted_code) {\n",
       "                             nbb_cells[i].set_text(nbb_formatted_code);\n",
       "                        }\n",
       "                        break;\n",
       "                    }\n",
       "                }\n",
       "            }, 500);\n",
       "            "
      ],
      "text/plain": [
       "<IPython.core.display.Javascript object>"
      ]
     },
     "metadata": {},
     "output_type": "display_data"
    }
   ],
   "source": []
  }
 ],
 "metadata": {
  "jupytext": {
   "formats": "ipynb,py"
  },
  "kernelspec": {
   "display_name": "Python 3",
   "language": "python",
   "name": "python3"
  },
  "language_info": {
   "codemirror_mode": {
    "name": "ipython",
    "version": 3
   },
   "file_extension": ".py",
   "mimetype": "text/x-python",
   "name": "python",
   "nbconvert_exporter": "python",
   "pygments_lexer": "ipython3",
   "version": "3.8.3"
  },
  "toc": {
   "base_numbering": 1,
   "nav_menu": {},
   "number_sections": true,
   "sideBar": true,
   "skip_h1_title": false,
   "title_cell": "Table of Contents",
   "title_sidebar": "Contents",
   "toc_cell": false,
   "toc_position": {},
   "toc_section_display": true,
   "toc_window_display": true
  },
  "varInspector": {
   "cols": {
    "lenName": 16,
    "lenType": 16,
    "lenVar": 40
   },
   "kernels_config": {
    "python": {
     "delete_cmd_postfix": "",
     "delete_cmd_prefix": "del ",
     "library": "var_list.py",
     "varRefreshCmd": "print(var_dic_list())"
    },
    "r": {
     "delete_cmd_postfix": ") ",
     "delete_cmd_prefix": "rm(",
     "library": "var_list.r",
     "varRefreshCmd": "cat(var_dic_list()) "
    }
   },
   "types_to_exclude": [
    "module",
    "function",
    "builtin_function_or_method",
    "instance",
    "_Feature"
   ],
   "window_display": false
  }
 },
 "nbformat": 4,
 "nbformat_minor": 4
}
