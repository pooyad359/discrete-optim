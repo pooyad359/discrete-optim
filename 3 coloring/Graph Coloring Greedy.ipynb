{
 "cells": [
  {
   "cell_type": "code",
   "execution_count": 17,
   "metadata": {
    "ExecuteTime": {
     "end_time": "2021-05-22T10:32:50.765862Z",
     "start_time": "2021-05-22T10:32:50.757863Z"
    }
   },
   "outputs": [],
   "source": [
    "import numpy as np\n",
    "import os\n",
    "from tqdm.auto import tqdm, trange"
   ]
  },
  {
   "cell_type": "code",
   "execution_count": 2,
   "metadata": {
    "ExecuteTime": {
     "end_time": "2021-05-22T10:25:58.990336Z",
     "start_time": "2021-05-22T10:25:58.979336Z"
    }
   },
   "outputs": [],
   "source": [
    "def get_degrees(edges,node_count):\n",
    "    edge_array = np.array(edges)\n",
    "    degrees = [np.sum(edge_array==i) for i in range(node_count)]\n",
    "    return degrees"
   ]
  },
  {
   "cell_type": "code",
   "execution_count": 3,
   "metadata": {
    "ExecuteTime": {
     "end_time": "2021-05-22T10:25:59.281762Z",
     "start_time": "2021-05-22T10:25:59.273762Z"
    }
   },
   "outputs": [
    {
     "data": {
      "text/plain": [
       "['0. gc_1000_1',\n",
       " '1. gc_1000_3',\n",
       " '2. gc_1000_5',\n",
       " '3. gc_1000_7',\n",
       " '4. gc_1000_9',\n",
       " '5. gc_100_1',\n",
       " '6. gc_100_3',\n",
       " '7. gc_100_5',\n",
       " '8. gc_100_7',\n",
       " '9. gc_100_9',\n",
       " '10. gc_20_1',\n",
       " '11. gc_20_3',\n",
       " '12. gc_20_5',\n",
       " '13. gc_20_7',\n",
       " '14. gc_20_9',\n",
       " '15. gc_250_1',\n",
       " '16. gc_250_3',\n",
       " '17. gc_250_5',\n",
       " '18. gc_250_7',\n",
       " '19. gc_250_9',\n",
       " '20. gc_4_1',\n",
       " '21. gc_500_1',\n",
       " '22. gc_500_3',\n",
       " '23. gc_500_5',\n",
       " '24. gc_500_7',\n",
       " '25. gc_500_9',\n",
       " '26. gc_50_1',\n",
       " '27. gc_50_3',\n",
       " '28. gc_50_5',\n",
       " '29. gc_50_7',\n",
       " '30. gc_50_9',\n",
       " '31. gc_70_1',\n",
       " '32. gc_70_3',\n",
       " '33. gc_70_5',\n",
       " '34. gc_70_7',\n",
       " '35. gc_70_9']"
      ]
     },
     "execution_count": 3,
     "metadata": {},
     "output_type": "execute_result"
    }
   ],
   "source": [
    "files =os.listdir('./data')\n",
    "[f'{i}. {f}' for i,f in enumerate(files)]"
   ]
  },
  {
   "cell_type": "code",
   "execution_count": 57,
   "metadata": {
    "ExecuteTime": {
     "end_time": "2021-05-22T13:11:58.397853Z",
     "start_time": "2021-05-22T13:11:58.390895Z"
    }
   },
   "outputs": [
    {
     "name": "stdout",
     "output_type": "stream",
     "text": [
      "gc_70_7\n",
      "70 1678\n",
      "0 1\n",
      "0 3\n",
      "0 4\n",
      "0 5\n",
      "0\n"
     ]
    }
   ],
   "source": [
    "idx = 34\n",
    "print(files[idx])\n",
    "with open(f'./data/{files[idx]}','r') as fp:\n",
    "    input_data = fp.read()\n",
    "print(input_data[:25])"
   ]
  },
  {
   "cell_type": "code",
   "execution_count": 58,
   "metadata": {
    "ExecuteTime": {
     "end_time": "2021-05-22T13:12:00.308716Z",
     "start_time": "2021-05-22T13:12:00.294702Z"
    }
   },
   "outputs": [
    {
     "name": "stdout",
     "output_type": "stream",
     "text": [
      "70 1678\n"
     ]
    }
   ],
   "source": [
    "lines = input_data.split('\\n')\n",
    "\n",
    "first_line = lines[0].split()\n",
    "n_points = node_count = int(first_line[0])\n",
    "edge_count = int(first_line[1])\n",
    "\n",
    "edges = []\n",
    "for i in range(1, edge_count + 1):\n",
    "    line = lines[i]\n",
    "    parts = line.split()\n",
    "    edges.append((int(parts[0]), int(parts[1])))\n",
    "    \n",
    "print(node_count, edge_count)"
   ]
  },
  {
   "cell_type": "code",
   "execution_count": 59,
   "metadata": {
    "ExecuteTime": {
     "end_time": "2021-05-22T13:12:02.217458Z",
     "start_time": "2021-05-22T13:12:02.202457Z"
    }
   },
   "outputs": [],
   "source": [
    "def choose_color(colors):\n",
    "    color = 0\n",
    "    while color in colors:\n",
    "        color +=1\n",
    "    return color"
   ]
  },
  {
   "cell_type": "code",
   "execution_count": 60,
   "metadata": {
    "ExecuteTime": {
     "end_time": "2021-05-22T13:12:04.102227Z",
     "start_time": "2021-05-22T13:12:04.088229Z"
    },
    "scrolled": true
   },
   "outputs": [],
   "source": [
    "def greedy_solver(edges, n_points):\n",
    "    degrees = get_degrees(edges, n_points)\n",
    "    edge_dict = {i: set() for i in range(n_points)}\n",
    "    for v1, v2 in edges:\n",
    "        edge_dict[v1].add(v2)\n",
    "        edge_dict[v2].add(v1)\n",
    "    # get indices by degree of the vertex\n",
    "    idx = np.argsort(degrees)[::-1]\n",
    "    colors = -np.ones(n_points, dtype=int)\n",
    "    colors[idx[0]] = 0\n",
    "    for i, ind in enumerate(idx):\n",
    "        connected_nodes = edge_dict[ind]\n",
    "        c = choose_color(colors[list(connected_nodes)])\n",
    "        colors[ind] = c\n",
    "    return colors\n",
    "\n",
    "def semi_greedy_solver(edges,n_points,degrees, edge_dict, order = None):\n",
    "        \n",
    "    # get indices by degree of the vertex\n",
    "    if order is None:\n",
    "        idx = np.argsort(degrees)[::-1]\n",
    "    else:\n",
    "        idx = np.array(order)\n",
    "    colors = -np.ones(n_points, dtype=int)\n",
    "    colors[idx[0]] = 0\n",
    "    for i, ind in enumerate(idx):\n",
    "        connected_nodes = edge_dict[ind]\n",
    "        c = choose_color(colors[list(connected_nodes)])\n",
    "        colors[ind] = c\n",
    "    return colors"
   ]
  },
  {
   "cell_type": "markdown",
   "metadata": {
    "ExecuteTime": {
     "end_time": "2021-05-22T09:41:40.677338Z",
     "start_time": "2021-05-22T09:41:40.329279Z"
    }
   },
   "source": [
    "# Random Selection"
   ]
  },
  {
   "cell_type": "code",
   "execution_count": 61,
   "metadata": {
    "ExecuteTime": {
     "end_time": "2021-05-22T13:12:05.998342Z",
     "start_time": "2021-05-22T13:12:05.984316Z"
    }
   },
   "outputs": [],
   "source": [
    "def swap_elements(array,n=1,random_state = None):\n",
    "    np.random.seed(random_state)\n",
    "    x = np.array(array)\n",
    "    length = len(x)\n",
    "    for _ in range(n):\n",
    "        i,j = np.random.choice(range(length),size=2,replace = False)\n",
    "        x[i], x[j] = x[j], x[i]\n",
    "    return x"
   ]
  },
  {
   "cell_type": "code",
   "execution_count": 24,
   "metadata": {
    "ExecuteTime": {
     "end_time": "2021-05-22T10:37:41.559516Z",
     "start_time": "2021-05-22T10:37:28.031151Z"
    }
   },
   "outputs": [
    {
     "data": {
      "application/vnd.jupyter.widget-view+json": {
       "model_id": "8393def5c79b44a79b6c8bb0f82d1461",
       "version_major": 2,
       "version_minor": 0
      },
      "text/plain": [
       "HBox(children=(HTML(value=''), FloatProgress(value=0.0, max=1000.0), HTML(value='')))"
      ]
     },
     "metadata": {},
     "output_type": "display_data"
    },
    {
     "name": "stdout",
     "output_type": "stream",
     "text": [
      "\n"
     ]
    }
   ],
   "source": [
    "N_ROUNDS = 1000\n",
    "\n",
    "degrees = get_degrees(edges, n_points)\n",
    "edge_dict = {i: set() for i in range(n_points)}\n",
    "for v1, v2 in edges:\n",
    "    edge_dict[v1].add(v2)\n",
    "    edge_dict[v2].add(v1)\n",
    "\n",
    "solution = greedy_solver(edges, n_points)\n",
    "n_colors = max(solution) + 1\n",
    "idx = np.argsort(degrees)[::-1]\n",
    "\n",
    "pbar = trange(N_ROUNDS)\n",
    "for i in pbar:\n",
    "    n = np.random.randint(1, 6)\n",
    "    new_idx = swap_elements(idx.copy(), n)\n",
    "    res = semi_greedy_solver(\n",
    "        edges,\n",
    "        n_points,\n",
    "        degrees,\n",
    "        edge_dict,\n",
    "        order=new_idx,\n",
    "    )\n",
    "    res_colors = np.max(res) + 1\n",
    "\n",
    "    desc = f'#{i+1:03.0f}:  {res_colors}  / {n_colors}\\n'\n",
    "\n",
    "    pbar.set_description(desc, refresh=True)\n",
    "    if res_colors <= n_colors:\n",
    "        solution = res\n",
    "        n_colors = res_colors\n",
    "        idx = new_idx"
   ]
  },
  {
   "cell_type": "markdown",
   "metadata": {},
   "source": [
    "# Genetic Algorithm"
   ]
  },
  {
   "cell_type": "code",
   "execution_count": 30,
   "metadata": {
    "ExecuteTime": {
     "end_time": "2021-05-22T10:51:07.758986Z",
     "start_time": "2021-05-22T10:51:07.742014Z"
    }
   },
   "outputs": [],
   "source": [
    "from collections import namedtuple\n",
    "from copy import deepcopy"
   ]
  },
  {
   "cell_type": "code",
   "execution_count": 63,
   "metadata": {
    "ExecuteTime": {
     "end_time": "2021-05-22T13:12:41.880982Z",
     "start_time": "2021-05-22T13:12:41.861969Z"
    }
   },
   "outputs": [],
   "source": [
    "GreedyGraph = namedtuple('GreedyGraph',['colors','order','count'])"
   ]
  },
  {
   "cell_type": "code",
   "execution_count": 64,
   "metadata": {
    "ExecuteTime": {
     "end_time": "2021-05-22T13:12:43.804478Z",
     "start_time": "2021-05-22T13:12:43.775509Z"
    }
   },
   "outputs": [
    {
     "name": "stdout",
     "output_type": "stream",
     "text": [
      "22\n"
     ]
    }
   ],
   "source": [
    "degrees = get_degrees(edges, n_points)\n",
    "edge_dict = {i: set() for i in range(n_points)}\n",
    "for v1, v2 in edges:\n",
    "    edge_dict[v1].add(v2)\n",
    "    edge_dict[v2].add(v1)\n",
    "\n",
    "solution = greedy_solver(edges, n_points)\n",
    "n_colors = max(solution) + 1\n",
    "idx = np.argsort(degrees)[::-1]\n",
    "print(n_colors)"
   ]
  },
  {
   "cell_type": "code",
   "execution_count": 65,
   "metadata": {
    "ExecuteTime": {
     "end_time": "2021-05-22T13:12:56.758965Z",
     "start_time": "2021-05-22T13:12:56.518901Z"
    }
   },
   "outputs": [],
   "source": [
    "np.random.seed(1)\n",
    "# Initialize population\n",
    "N_POP = 100\n",
    "N_ROUNDS = 200\n",
    "population = [GreedyGraph(solution,idx,n_colors)]\n",
    "\n",
    "for _ in range(1,N_POP):\n",
    "    n = np.random.randint(1, 6)\n",
    "    new_idx = swap_elements(idx.copy(), n)\n",
    "    res = semi_greedy_solver(\n",
    "        edges,\n",
    "        n_points,\n",
    "        degrees,\n",
    "        edge_dict,\n",
    "        order=new_idx,\n",
    "    )\n",
    "    res_colors = np.max(res) + 1\n",
    "    population.append(GreedyGraph(res,new_idx,res_colors))"
   ]
  },
  {
   "cell_type": "code",
   "execution_count": 67,
   "metadata": {
    "ExecuteTime": {
     "end_time": "2021-05-22T13:13:57.278911Z",
     "start_time": "2021-05-22T13:13:43.499467Z"
    }
   },
   "outputs": [
    {
     "data": {
      "application/vnd.jupyter.widget-view+json": {
       "model_id": "981e9097786b4dad9bf3f5489d1a6b0c",
       "version_major": 2,
       "version_minor": 0
      },
      "text/plain": [
       "HBox(children=(HTML(value=''), FloatProgress(value=0.0, max=200.0), HTML(value='')))"
      ]
     },
     "metadata": {},
     "output_type": "display_data"
    },
    {
     "name": "stdout",
     "output_type": "stream",
     "text": [
      "#000\tBest: 18  \tWorst: 21  \t 100\n",
      "#001\tBest: 18  \tWorst: 19  \t 100\n",
      "#002\tBest: 18  \tWorst: 21  \t 100\n",
      "#003\tBest: 18  \tWorst: 20  \t 100\n",
      "#004\tBest: 18  \tWorst: 20  \t 100\n",
      "#005\tBest: 18  \tWorst: 20  \t 100\n",
      "#006\tBest: 18  \tWorst: 19  \t 100\n",
      "#007\tBest: 18  \tWorst: 18  \t 100\n",
      "#008\tBest: 18  \tWorst: 23  \t 100\n",
      "#009\tBest: 18  \tWorst: 24  \t 100\n",
      "#010\tBest: 18  \tWorst: 24  \t 100\n",
      "#011\tBest: 18  \tWorst: 24  \t 100\n",
      "#012\tBest: 18  \tWorst: 24  \t 100\n",
      "#013\tBest: 18  \tWorst: 23  \t 100\n",
      "#014\tBest: 18  \tWorst: 23  \t 100\n",
      "#015\tBest: 18  \tWorst: 25  \t 100\n",
      "#016\tBest: 18  \tWorst: 23  \t 100\n",
      "#017\tBest: 18  \tWorst: 23  \t 100\n",
      "#018\tBest: 18  \tWorst: 24  \t 100\n",
      "#019\tBest: 18  \tWorst: 24  \t 100\n",
      "#020\tBest: 18  \tWorst: 23  \t 100\n",
      "#021\tBest: 18  \tWorst: 24  \t 100\n",
      "#022\tBest: 18  \tWorst: 23  \t 100\n",
      "#023\tBest: 18  \tWorst: 23  \t 100\n",
      "#024\tBest: 18  \tWorst: 24  \t 100\n",
      "#025\tBest: 18  \tWorst: 23  \t 100\n",
      "#026\tBest: 18  \tWorst: 23  \t 100\n",
      "#027\tBest: 18  \tWorst: 23  \t 100\n",
      "#028\tBest: 18  \tWorst: 24  \t 100\n",
      "#029\tBest: 18  \tWorst: 23  \t 100\n",
      "#030\tBest: 18  \tWorst: 23  \t 100\n",
      "#031\tBest: 18  \tWorst: 23  \t 100\n",
      "#032\tBest: 18  \tWorst: 23  \t 100\n",
      "#033\tBest: 18  \tWorst: 22  \t 100\n",
      "#034\tBest: 18  \tWorst: 23  \t 100\n",
      "#035\tBest: 18  \tWorst: 22  \t 100\n",
      "#036\tBest: 18  \tWorst: 24  \t 100\n",
      "#037\tBest: 18  \tWorst: 22  \t 100\n",
      "#038\tBest: 18  \tWorst: 23  \t 100\n",
      "#039\tBest: 18  \tWorst: 23  \t 100\n",
      "#040\tBest: 18  \tWorst: 23  \t 100\n",
      "#041\tBest: 18  \tWorst: 22  \t 100\n",
      "#042\tBest: 18  \tWorst: 24  \t 100\n",
      "#043\tBest: 18  \tWorst: 21  \t 100\n",
      "#044\tBest: 18  \tWorst: 21  \t 100\n",
      "#045\tBest: 18  \tWorst: 21  \t 100\n",
      "#046\tBest: 18  \tWorst: 23  \t 100\n",
      "#047\tBest: 18  \tWorst: 22  \t 100\n",
      "#048\tBest: 18  \tWorst: 22  \t 100\n",
      "#049\tBest: 18  \tWorst: 21  \t 100\n",
      "#050\tBest: 18  \tWorst: 22  \t 100\n",
      "#051\tBest: 18  \tWorst: 21  \t 100\n",
      "#052\tBest: 18  \tWorst: 22  \t 100\n",
      "#053\tBest: 18  \tWorst: 23  \t 100\n",
      "#054\tBest: 18  \tWorst: 21  \t 100\n",
      "#055\tBest: 18  \tWorst: 23  \t 100\n",
      "#056\tBest: 18  \tWorst: 22  \t 100\n",
      "#057\tBest: 18  \tWorst: 21  \t 100\n",
      "#058\tBest: 18  \tWorst: 20  \t 100\n",
      "#059\tBest: 18  \tWorst: 20  \t 100\n",
      "#060\tBest: 18  \tWorst: 20  \t 100\n",
      "#061\tBest: 18  \tWorst: 18  \t 100\n",
      "#062\tBest: 18  \tWorst: 23  \t 100\n",
      "#063\tBest: 18  \tWorst: 25  \t 100\n",
      "#064\tBest: 18  \tWorst: 23  \t 100\n",
      "#065\tBest: 18  \tWorst: 24  \t 100\n",
      "#066\tBest: 18  \tWorst: 25  \t 100\n",
      "#067\tBest: 18  \tWorst: 25  \t 100\n",
      "#068\tBest: 18  \tWorst: 25  \t 100\n",
      "#069\tBest: 18  \tWorst: 24  \t 100\n",
      "#070\tBest: 18  \tWorst: 26  \t 100\n",
      "#071\tBest: 18  \tWorst: 26  \t 100\n",
      "#072\tBest: 18  \tWorst: 24  \t 100\n",
      "#073\tBest: 18  \tWorst: 24  \t 100\n",
      "#074\tBest: 18  \tWorst: 24  \t 100\n",
      "#075\tBest: 18  \tWorst: 25  \t 100\n",
      "#076\tBest: 18  \tWorst: 24  \t 100\n",
      "#077\tBest: 18  \tWorst: 23  \t 100\n",
      "#078\tBest: 18  \tWorst: 24  \t 100\n",
      "#079\tBest: 18  \tWorst: 23  \t 100\n",
      "#080\tBest: 18  \tWorst: 22  \t 100\n",
      "#081\tBest: 18  \tWorst: 23  \t 100\n",
      "#082\tBest: 18  \tWorst: 23  \t 100\n",
      "#083\tBest: 18  \tWorst: 22  \t 100\n",
      "#084\tBest: 18  \tWorst: 23  \t 100\n",
      "#085\tBest: 18  \tWorst: 23  \t 100\n",
      "#086\tBest: 18  \tWorst: 22  \t 100\n",
      "#087\tBest: 18  \tWorst: 24  \t 100\n",
      "#088\tBest: 18  \tWorst: 23  \t 100\n",
      "#089\tBest: 18  \tWorst: 23  \t 100\n",
      "#090\tBest: 18  \tWorst: 22  \t 100\n",
      "#091\tBest: 18  \tWorst: 23  \t 100\n",
      "#092\tBest: 18  \tWorst: 24  \t 100\n",
      "#093\tBest: 18  \tWorst: 23  \t 100\n",
      "#094\tBest: 18  \tWorst: 22  \t 100\n",
      "#095\tBest: 18  \tWorst: 23  \t 100\n",
      "#096\tBest: 18  \tWorst: 22  \t 100\n",
      "#097\tBest: 18  \tWorst: 23  \t 100\n",
      "#098\tBest: 18  \tWorst: 22  \t 100\n",
      "#099\tBest: 18  \tWorst: 23  \t 100\n",
      "#100\tBest: 18  \tWorst: 22  \t 100\n",
      "#101\tBest: 18  \tWorst: 22  \t 100\n",
      "#102\tBest: 18  \tWorst: 22  \t 100\n",
      "#103\tBest: 18  \tWorst: 21  \t 100\n",
      "#104\tBest: 18  \tWorst: 21  \t 100\n",
      "#105\tBest: 18  \tWorst: 22  \t 100\n",
      "#106\tBest: 18  \tWorst: 22  \t 100\n",
      "#107\tBest: 18  \tWorst: 21  \t 100\n",
      "#108\tBest: 18  \tWorst: 22  \t 100\n",
      "#109\tBest: 18  \tWorst: 22  \t 100\n",
      "#110\tBest: 18  \tWorst: 20  \t 100\n",
      "#111\tBest: 18  \tWorst: 21  \t 100\n",
      "#112\tBest: 18  \tWorst: 21  \t 100\n",
      "#113\tBest: 18  \tWorst: 22  \t 100\n",
      "#114\tBest: 18  \tWorst: 21  \t 100\n",
      "#115\tBest: 18  \tWorst: 22  \t 100\n",
      "#116\tBest: 18  \tWorst: 20  \t 100\n",
      "#117\tBest: 18  \tWorst: 21  \t 100\n",
      "#118\tBest: 18  \tWorst: 19  \t 100\n",
      "#119\tBest: 18  \tWorst: 19  \t 100\n",
      "#120\tBest: 18  \tWorst: 21  \t 100\n",
      "#121\tBest: 18  \tWorst: 20  \t 100\n",
      "#122\tBest: 18  \tWorst: 20  \t 100\n",
      "#123\tBest: 18  \tWorst: 22  \t 100\n",
      "#124\tBest: 18  \tWorst: 19  \t 100\n",
      "#125\tBest: 18  \tWorst: 20  \t 100\n",
      "#126\tBest: 18  \tWorst: 19  \t 100\n",
      "#127\tBest: 18  \tWorst: 20  \t 100\n",
      "#128\tBest: 18  \tWorst: 20  \t 100\n",
      "#129\tBest: 18  \tWorst: 20  \t 100\n",
      "#130\tBest: 18  \tWorst: 19  \t 100\n",
      "#131\tBest: 18  \tWorst: 20  \t 100\n",
      "#132\tBest: 18  \tWorst: 21  \t 100\n",
      "#133\tBest: 18  \tWorst: 21  \t 100\n",
      "#134\tBest: 18  \tWorst: 20  \t 100\n",
      "#135\tBest: 18  \tWorst: 18  \t 100\n",
      "#136\tBest: 18  \tWorst: 24  \t 100\n",
      "#137\tBest: 18  \tWorst: 24  \t 100\n",
      "#138\tBest: 18  \tWorst: 24  \t 100\n",
      "#139\tBest: 18  \tWorst: 25  \t 100\n",
      "#140\tBest: 18  \tWorst: 24  \t 100\n",
      "#141\tBest: 18  \tWorst: 24  \t 100\n",
      "#142\tBest: 18  \tWorst: 24  \t 100\n",
      "#143\tBest: 18  \tWorst: 24  \t 100\n",
      "#144\tBest: 18  \tWorst: 24  \t 100\n",
      "#145\tBest: 18  \tWorst: 24  \t 100\n",
      "#146\tBest: 18  \tWorst: 23  \t 100\n",
      "#147\tBest: 18  \tWorst: 23  \t 100\n",
      "#148\tBest: 18  \tWorst: 25  \t 100\n",
      "#149\tBest: 18  \tWorst: 24  \t 100\n",
      "#150\tBest: 18  \tWorst: 24  \t 100\n",
      "#151\tBest: 18  \tWorst: 25  \t 100\n",
      "#152\tBest: 18  \tWorst: 23  \t 100\n",
      "#153\tBest: 18  \tWorst: 22  \t 100\n",
      "#154\tBest: 18  \tWorst: 23  \t 100\n",
      "#155\tBest: 18  \tWorst: 23  \t 100\n",
      "#156\tBest: 18  \tWorst: 25  \t 100\n",
      "#157\tBest: 18  \tWorst: 23  \t 100\n",
      "#158\tBest: 18  \tWorst: 23  \t 100\n",
      "#159\tBest: 18  \tWorst: 23  \t 100\n",
      "#160\tBest: 18  \tWorst: 23  \t 100\n",
      "#161\tBest: 18  \tWorst: 23  \t 100\n",
      "#162\tBest: 18  \tWorst: 23  \t 100\n",
      "#163\tBest: 18  \tWorst: 24  \t 100\n",
      "#164\tBest: 18  \tWorst: 23  \t 100\n",
      "#165\tBest: 18  \tWorst: 22  \t 100\n",
      "#166\tBest: 18  \tWorst: 24  \t 100\n",
      "#167\tBest: 18  \tWorst: 23  \t 100\n",
      "#168\tBest: 18  \tWorst: 22  \t 100\n",
      "#169\tBest: 18  \tWorst: 23  \t 100\n",
      "#170\tBest: 18  \tWorst: 22  \t 100\n",
      "#171\tBest: 18  \tWorst: 21  \t 100\n",
      "#172\tBest: 18  \tWorst: 23  \t 100\n",
      "#173\tBest: 18  \tWorst: 22  \t 100\n",
      "#174\tBest: 18  \tWorst: 22  \t 100\n",
      "#175\tBest: 18  \tWorst: 23  \t 100\n",
      "#176\tBest: 17  \tWorst: 22  \t 100\n",
      "#177\tBest: 17  \tWorst: 23  \t 100\n",
      "#178\tBest: 17  \tWorst: 23  \t 100\n",
      "#179\tBest: 17  \tWorst: 24  \t 100\n",
      "#180\tBest: 17  \tWorst: 24  \t 100\n",
      "#181\tBest: 17  \tWorst: 25  \t 100\n",
      "#182\tBest: 17  \tWorst: 25  \t 100\n",
      "#183\tBest: 17  \tWorst: 24  \t 100\n",
      "#184\tBest: 17  \tWorst: 24  \t 100\n",
      "#185\tBest: 17  \tWorst: 25  \t 100\n",
      "#186\tBest: 17  \tWorst: 24  \t 100\n",
      "#187\tBest: 17  \tWorst: 25  \t 100\n",
      "#188\tBest: 17  \tWorst: 25  \t 100\n",
      "#189\tBest: 17  \tWorst: 25  \t 100\n",
      "#190\tBest: 17  \tWorst: 24  \t 100\n",
      "#191\tBest: 17  \tWorst: 25  \t 100\n",
      "#192\tBest: 17  \tWorst: 25  \t 100\n",
      "#193\tBest: 17  \tWorst: 25  \t 100\n",
      "#194\tBest: 17  \tWorst: 25  \t 100\n",
      "#195\tBest: 17  \tWorst: 25  \t 100\n",
      "#196\tBest: 17  \tWorst: 25  \t 100\n",
      "#197\tBest: 17  \tWorst: 25  \t 100\n",
      "#198\tBest: 17  \tWorst: 26  \t 100\n",
      "#199\tBest: 17  \tWorst: 25  \t 100\n",
      "\n"
     ]
    }
   ],
   "source": [
    "for i in tqdm(range(N_ROUNDS)):\n",
    "    best = np.min([g.count for g in population])\n",
    "    worst = np.max([g.count for g in population])\n",
    "    print(f'#{i:03.0f}\\tBest: {best}  \\tWorst: {worst}  \\t {len(population)}')\n",
    "    if best==worst:\n",
    "        new_population = [deepcopy(g) for g in population if np.random.rand()>.75]\n",
    "    else:\n",
    "        new_population = [deepcopy(g) for g in population if g.count==best]\n",
    "    while len(new_population)<N_POP:#for _ in range(len(new_popultaion),N_POP):\n",
    "        selected = population[np.random.randint(N_POP)]\n",
    "        n = np.random.randint(1,6)\n",
    "        new_idx = swap_elements(selected.order,n)\n",
    "        res = semi_greedy_solver(\n",
    "            edges,\n",
    "            n_points,\n",
    "            degrees,\n",
    "            edge_dict,\n",
    "            order=new_idx,\n",
    "        )\n",
    "        res_colors = np.max(res) + 1\n",
    "        new_population.append(GreedyGraph(res,new_idx,res_colors))\n",
    "    population = new_population.copy()\n",
    "    "
   ]
  },
  {
   "cell_type": "code",
   "execution_count": 70,
   "metadata": {
    "ExecuteTime": {
     "end_time": "2021-05-22T13:25:34.519521Z",
     "start_time": "2021-05-22T13:25:34.495905Z"
    }
   },
   "outputs": [],
   "source": [
    "N_POP = 100\n",
    "N_ROUNDS = 1000\n",
    "\n",
    "GreedyGraph = namedtuple('GreedyGraph',['colors','order','count'])\n",
    "\n",
    "def ga_solver(edges, n_points, random_state = None):\n",
    "    np.random.seed(random_state)\n",
    "    \n",
    "   \n",
    "    # Get degree of each node\n",
    "    degrees = get_degrees(edges, n_points)\n",
    "    \n",
    "    # Create a dictionary of connections for each node\n",
    "    edge_dict = {i: set() for i in range(n_points)}\n",
    "    for v1, v2 in edges:\n",
    "        edge_dict[v1].add(v2)\n",
    "        edge_dict[v2].add(v1)\n",
    "    \n",
    "    # Get initial solution using greedy\n",
    "    solution = greedy_solver(edges, n_points)\n",
    "    n_colors = max(solution) + 1\n",
    "    idx = np.argsort(degrees)[::-1]\n",
    "    n_greedy = n_colors\n",
    "\n",
    "    # Genetic Algorithm\n",
    "    \n",
    "    # Initialize population\n",
    "    population = [GreedyGraph(solution,idx,n_colors)]\n",
    "\n",
    "    for _ in range(1,N_POP):\n",
    "        n = np.random.randint(1, 6)\n",
    "        new_idx = swap_elements(idx.copy(), n)\n",
    "        res = semi_greedy_solver(\n",
    "            edges,\n",
    "            n_points,\n",
    "            degrees,\n",
    "            edge_dict,\n",
    "            order=new_idx,\n",
    "        )\n",
    "        res_colors = np.max(res) + 1\n",
    "        population.append(GreedyGraph(res,new_idx,res_colors))\n",
    "    \n",
    "    # Evolution\n",
    "    pbar = trange(N_ROUNDS)\n",
    "    for i in pbar:\n",
    "        best = np.min([g.count for g in population])\n",
    "        worst = np.max([g.count for g in population])\n",
    "        desc = f'{n_greedy} -> {best}/{worst}'\n",
    "        pbar.set_description(desc, refresh=True)\n",
    "        if best==worst:\n",
    "            new_population = [deepcopy(g) for g in population if np.random.rand()>.75]\n",
    "        else:\n",
    "            new_population = [deepcopy(g) for g in population if g.count==best]\n",
    "        while len(new_population)<N_POP:\n",
    "            selected = population[np.random.randint(N_POP)]\n",
    "            n = np.random.randint(1,6)\n",
    "            new_idx = swap_elements(selected.order,n)\n",
    "            res = semi_greedy_solver(\n",
    "                edges,\n",
    "                n_points,\n",
    "                degrees,\n",
    "                edge_dict,\n",
    "                order=new_idx,\n",
    "            )\n",
    "            res_colors = np.max(res) + 1\n",
    "            new_population.append(GreedyGraph(res,new_idx,res_colors))\n",
    "        population = new_population.copy()\n",
    "        \n",
    "    id_sol = np.argmin([g.count for g in population])\n",
    "    return population[id_sol].colors"
   ]
  },
  {
   "cell_type": "code",
   "execution_count": 71,
   "metadata": {
    "ExecuteTime": {
     "end_time": "2021-05-22T13:25:51.177096Z",
     "start_time": "2021-05-22T13:25:44.707322Z"
    }
   },
   "outputs": [
    {
     "data": {
      "application/vnd.jupyter.widget-view+json": {
       "model_id": "01d6389c71aa45609b3f1cc45fbb9ee6",
       "version_major": 2,
       "version_minor": 0
      },
      "text/plain": [
       "HBox(children=(HTML(value=''), FloatProgress(value=0.0), HTML(value='')))"
      ]
     },
     "metadata": {},
     "output_type": "display_data"
    },
    {
     "name": "stdout",
     "output_type": "stream",
     "text": [
      "\n"
     ]
    },
    {
     "data": {
      "text/plain": [
       "array([ 6,  1,  1, 11,  9, 18,  3,  5,  0,  5, 15, 13,  3, 16,  9,  0,  8,\n",
       "       10, 11,  2, 12, 13,  9,  7,  4,  9, 16, 11, 12, 17, 15, 14, 13,  5,\n",
       "       18, 16, 12,  0,  6, 12, 14,  4, 10, 18,  2,  3,  2, 13, 14, 11,  2,\n",
       "        6,  0,  8, 10,  6, 15,  4,  3, 17,  1,  8, 12,  7,  1,  1, 10, 15,\n",
       "        7,  4])"
      ]
     },
     "execution_count": 71,
     "metadata": {},
     "output_type": "execute_result"
    }
   ],
   "source": [
    "N_ROUNDS=100\n",
    "ga_solver(edges,n_points,1)"
   ]
  },
  {
   "cell_type": "markdown",
   "metadata": {},
   "source": [
    "# Group rearangement"
   ]
  },
  {
   "cell_type": "code",
   "execution_count": 115,
   "metadata": {
    "ExecuteTime": {
     "end_time": "2021-05-22T16:05:43.839389Z",
     "start_time": "2021-05-22T16:05:43.832389Z"
    }
   },
   "outputs": [
    {
     "data": {
      "text/plain": [
       "['0. gc_1000_1',\n",
       " '1. gc_1000_3',\n",
       " '2. gc_1000_5',\n",
       " '3. gc_1000_7',\n",
       " '4. gc_1000_9',\n",
       " '5. gc_100_1',\n",
       " '6. gc_100_3',\n",
       " '7. gc_100_5',\n",
       " '8. gc_100_7',\n",
       " '9. gc_100_9',\n",
       " '10. gc_20_1',\n",
       " '11. gc_20_3',\n",
       " '12. gc_20_5',\n",
       " '13. gc_20_7',\n",
       " '14. gc_20_9',\n",
       " '15. gc_250_1',\n",
       " '16. gc_250_3',\n",
       " '17. gc_250_5',\n",
       " '18. gc_250_7',\n",
       " '19. gc_250_9',\n",
       " '20. gc_4_1',\n",
       " '21. gc_500_1',\n",
       " '22. gc_500_3',\n",
       " '23. gc_500_5',\n",
       " '24. gc_500_7',\n",
       " '25. gc_500_9',\n",
       " '26. gc_50_1',\n",
       " '27. gc_50_3',\n",
       " '28. gc_50_5',\n",
       " '29. gc_50_7',\n",
       " '30. gc_50_9',\n",
       " '31. gc_70_1',\n",
       " '32. gc_70_3',\n",
       " '33. gc_70_5',\n",
       " '34. gc_70_7',\n",
       " '35. gc_70_9']"
      ]
     },
     "execution_count": 115,
     "metadata": {},
     "output_type": "execute_result"
    }
   ],
   "source": [
    "files =os.listdir('./data')\n",
    "[f'{i}. {f}' for i,f in enumerate(files)]"
   ]
  },
  {
   "cell_type": "code",
   "execution_count": 164,
   "metadata": {
    "ExecuteTime": {
     "end_time": "2021-05-22T16:29:39.677621Z",
     "start_time": "2021-05-22T16:29:39.668621Z"
    }
   },
   "outputs": [
    {
     "name": "stdout",
     "output_type": "stream",
     "text": [
      "gc_1000_5\n",
      "1000 249482\n",
      "0 1\n",
      "0 2\n",
      "0 3\n",
      "0\n"
     ]
    }
   ],
   "source": [
    "idx = 2\n",
    "print(files[idx])\n",
    "with open(f'./data/{files[idx]}','r') as fp:\n",
    "    input_data = fp.read()\n",
    "print(input_data[:25])"
   ]
  },
  {
   "cell_type": "code",
   "execution_count": 165,
   "metadata": {
    "ExecuteTime": {
     "end_time": "2021-05-22T16:29:41.542332Z",
     "start_time": "2021-05-22T16:29:41.348333Z"
    }
   },
   "outputs": [
    {
     "name": "stdout",
     "output_type": "stream",
     "text": [
      "1000 249482\n"
     ]
    }
   ],
   "source": [
    "lines = input_data.split('\\n')\n",
    "\n",
    "first_line = lines[0].split()\n",
    "n_points = node_count = int(first_line[0])\n",
    "edge_count = int(first_line[1])\n",
    "\n",
    "edges = []\n",
    "for i in range(1, edge_count + 1):\n",
    "    line = lines[i]\n",
    "    parts = line.split()\n",
    "    edges.append((int(parts[0]), int(parts[1])))\n",
    "    \n",
    "print(node_count, edge_count)"
   ]
  },
  {
   "cell_type": "code",
   "execution_count": 170,
   "metadata": {
    "ExecuteTime": {
     "end_time": "2021-05-22T16:32:43.055747Z",
     "start_time": "2021-05-22T16:32:43.047741Z"
    }
   },
   "outputs": [],
   "source": [
    "def sort_by_degree(all_degrees,idx):\n",
    "    degrees = np.array([all_degrees[i] for i in idx])\n",
    "    argsort = np.argsort(degrees)[::-1]\n",
    "    return np.array(idx)[argsort]\n",
    "\n",
    "def shuffle_groups(degrees, groups):\n",
    "    new_groups = [sort_by_degree(degrees, group) for group in groups.copy()]\n",
    "    np.random.shuffle(new_groups)\n",
    "    if isinstance(new_groups[0],list):\n",
    "        new_idx = sum(new_groups,start = [])\n",
    "    else:\n",
    "        new_idx = np.concatenate(new_groups)\n",
    "    return new_idx\n",
    "\n",
    "def count_colors(colors):\n",
    "    return len(set(colors))\n",
    "    \n",
    "\n",
    "def reordered_greedy(edges, n_points, random_state = None, trials = 2000):\n",
    "    # Set Seed value\n",
    "    np.random.seed(random_state)\n",
    "    \n",
    "    # Get degree of each node\n",
    "    degrees = get_degrees(edges, n_points)\n",
    "    \n",
    "    # Create a dictionary of connections for each node\n",
    "    edge_dict = {i: set() for i in range(n_points)}\n",
    "    for v1, v2 in edges:\n",
    "        edge_dict[v1].add(v2)\n",
    "        edge_dict[v2].add(v1)\n",
    "    \n",
    "    # Get initial solution using greedy\n",
    "    solution = greedy_solver(edges, n_points)\n",
    "    n_colors = count_colors(solution)\n",
    "    idx = np.argsort(degrees)[::-1]\n",
    "    n_greedy = n_colors\n",
    "    \n",
    "    pbar = trange(trials)\n",
    "    for i in pbar:\n",
    "        groups = [np.argwhere(solution==c).flatten() for c in range(n_colors)]\n",
    "        new_groups = shuffle_groups(degrees,groups)\n",
    "        solution = semi_greedy_solver(edges,n_points,degrees,edge_dict,new_groups)\n",
    "        n_colors = count_colors(solution)\n",
    "        desc = f'#{i+1:04.0f} \\t{n_colors}/{n_greedy}'\n",
    "        pbar.set_description(desc, refresh=True)\n",
    "        \n",
    "    return solution\n",
    "        "
   ]
  },
  {
   "cell_type": "code",
   "execution_count": 169,
   "metadata": {
    "ExecuteTime": {
     "end_time": "2021-05-22T16:30:24.655425Z",
     "start_time": "2021-05-22T16:30:21.106413Z"
    }
   },
   "outputs": [
    {
     "data": {
      "application/vnd.jupyter.widget-view+json": {
       "model_id": "137cb8274dc742a793cff747ef5cfd54",
       "version_major": 2,
       "version_minor": 0
      },
      "text/plain": [
       "HBox(children=(HTML(value=''), FloatProgress(value=0.0, max=4000.0), HTML(value='')))"
      ]
     },
     "metadata": {},
     "output_type": "display_data"
    },
    {
     "name": "stdout",
     "output_type": "stream",
     "text": [
      "\n"
     ]
    },
    {
     "ename": "KeyboardInterrupt",
     "evalue": "",
     "output_type": "error",
     "traceback": [
      "\u001b[1;31m---------------------------------------------------------------------------\u001b[0m",
      "\u001b[1;31mKeyboardInterrupt\u001b[0m                         Traceback (most recent call last)",
      "\u001b[1;32m<ipython-input-169-205df4b191b5>\u001b[0m in \u001b[0;36m<module>\u001b[1;34m\u001b[0m\n\u001b[1;32m----> 1\u001b[1;33m \u001b[0mreordered_greedy\u001b[0m\u001b[1;33m(\u001b[0m\u001b[0medges\u001b[0m\u001b[1;33m,\u001b[0m\u001b[0mn_points\u001b[0m\u001b[1;33m,\u001b[0m\u001b[1;36m1\u001b[0m\u001b[1;33m,\u001b[0m\u001b[1;36m4000\u001b[0m\u001b[1;33m)\u001b[0m\u001b[1;33m\u001b[0m\u001b[1;33m\u001b[0m\u001b[0m\n\u001b[0m",
      "\u001b[1;32m<ipython-input-168-692f71de8df5>\u001b[0m in \u001b[0;36mreordered_greedy\u001b[1;34m(edges, n_points, random_state, trials)\u001b[0m\n\u001b[0;32m     40\u001b[0m         \u001b[0mgroups\u001b[0m \u001b[1;33m=\u001b[0m \u001b[1;33m[\u001b[0m\u001b[0mnp\u001b[0m\u001b[1;33m.\u001b[0m\u001b[0margwhere\u001b[0m\u001b[1;33m(\u001b[0m\u001b[0msolution\u001b[0m\u001b[1;33m==\u001b[0m\u001b[0mc\u001b[0m\u001b[1;33m)\u001b[0m\u001b[1;33m.\u001b[0m\u001b[0mflatten\u001b[0m\u001b[1;33m(\u001b[0m\u001b[1;33m)\u001b[0m \u001b[1;32mfor\u001b[0m \u001b[0mc\u001b[0m \u001b[1;32min\u001b[0m \u001b[0mrange\u001b[0m\u001b[1;33m(\u001b[0m\u001b[0mn_colors\u001b[0m\u001b[1;33m)\u001b[0m\u001b[1;33m]\u001b[0m\u001b[1;33m\u001b[0m\u001b[1;33m\u001b[0m\u001b[0m\n\u001b[0;32m     41\u001b[0m         \u001b[0mnew_groups\u001b[0m \u001b[1;33m=\u001b[0m \u001b[0mshuffle_groups\u001b[0m\u001b[1;33m(\u001b[0m\u001b[0mdegrees\u001b[0m\u001b[1;33m,\u001b[0m\u001b[0mgroups\u001b[0m\u001b[1;33m)\u001b[0m\u001b[1;33m\u001b[0m\u001b[1;33m\u001b[0m\u001b[0m\n\u001b[1;32m---> 42\u001b[1;33m         \u001b[0msolution\u001b[0m \u001b[1;33m=\u001b[0m \u001b[0msemi_greedy_solver\u001b[0m\u001b[1;33m(\u001b[0m\u001b[0medges\u001b[0m\u001b[1;33m,\u001b[0m\u001b[0mn_points\u001b[0m\u001b[1;33m,\u001b[0m\u001b[0mdegrees\u001b[0m\u001b[1;33m,\u001b[0m\u001b[0medge_dict\u001b[0m\u001b[1;33m,\u001b[0m\u001b[0mnew_groups\u001b[0m\u001b[1;33m)\u001b[0m\u001b[1;33m\u001b[0m\u001b[1;33m\u001b[0m\u001b[0m\n\u001b[0m\u001b[0;32m     43\u001b[0m         \u001b[0mn_colors\u001b[0m \u001b[1;33m=\u001b[0m \u001b[0mcount_colors\u001b[0m\u001b[1;33m(\u001b[0m\u001b[0msolution\u001b[0m\u001b[1;33m)\u001b[0m\u001b[1;33m\u001b[0m\u001b[1;33m\u001b[0m\u001b[0m\n\u001b[0;32m     44\u001b[0m         \u001b[0mdesc\u001b[0m \u001b[1;33m=\u001b[0m \u001b[1;34mf'#{i+1:04.0f} \\t{n_colors}/{n_greedy}'\u001b[0m\u001b[1;33m\u001b[0m\u001b[1;33m\u001b[0m\u001b[0m\n",
      "\u001b[1;32m<ipython-input-60-f7266fcd8837>\u001b[0m in \u001b[0;36msemi_greedy_solver\u001b[1;34m(edges, n_points, degrees, edge_dict, order)\u001b[0m\n\u001b[0;32m     26\u001b[0m     \u001b[1;32mfor\u001b[0m \u001b[0mi\u001b[0m\u001b[1;33m,\u001b[0m \u001b[0mind\u001b[0m \u001b[1;32min\u001b[0m \u001b[0menumerate\u001b[0m\u001b[1;33m(\u001b[0m\u001b[0midx\u001b[0m\u001b[1;33m)\u001b[0m\u001b[1;33m:\u001b[0m\u001b[1;33m\u001b[0m\u001b[1;33m\u001b[0m\u001b[0m\n\u001b[0;32m     27\u001b[0m         \u001b[0mconnected_nodes\u001b[0m \u001b[1;33m=\u001b[0m \u001b[0medge_dict\u001b[0m\u001b[1;33m[\u001b[0m\u001b[0mind\u001b[0m\u001b[1;33m]\u001b[0m\u001b[1;33m\u001b[0m\u001b[1;33m\u001b[0m\u001b[0m\n\u001b[1;32m---> 28\u001b[1;33m         \u001b[0mc\u001b[0m \u001b[1;33m=\u001b[0m \u001b[0mchoose_color\u001b[0m\u001b[1;33m(\u001b[0m\u001b[0mcolors\u001b[0m\u001b[1;33m[\u001b[0m\u001b[0mlist\u001b[0m\u001b[1;33m(\u001b[0m\u001b[0mconnected_nodes\u001b[0m\u001b[1;33m)\u001b[0m\u001b[1;33m]\u001b[0m\u001b[1;33m)\u001b[0m\u001b[1;33m\u001b[0m\u001b[1;33m\u001b[0m\u001b[0m\n\u001b[0m\u001b[0;32m     29\u001b[0m         \u001b[0mcolors\u001b[0m\u001b[1;33m[\u001b[0m\u001b[0mind\u001b[0m\u001b[1;33m]\u001b[0m \u001b[1;33m=\u001b[0m \u001b[0mc\u001b[0m\u001b[1;33m\u001b[0m\u001b[1;33m\u001b[0m\u001b[0m\n\u001b[0;32m     30\u001b[0m     \u001b[1;32mreturn\u001b[0m \u001b[0mcolors\u001b[0m\u001b[1;33m\u001b[0m\u001b[1;33m\u001b[0m\u001b[0m\n",
      "\u001b[1;32m<ipython-input-59-94e334030c7f>\u001b[0m in \u001b[0;36mchoose_color\u001b[1;34m(colors)\u001b[0m\n\u001b[0;32m      2\u001b[0m     \u001b[0mcolor\u001b[0m \u001b[1;33m=\u001b[0m \u001b[1;36m0\u001b[0m\u001b[1;33m\u001b[0m\u001b[1;33m\u001b[0m\u001b[0m\n\u001b[0;32m      3\u001b[0m     \u001b[1;32mwhile\u001b[0m \u001b[0mcolor\u001b[0m \u001b[1;32min\u001b[0m \u001b[0mcolors\u001b[0m\u001b[1;33m:\u001b[0m\u001b[1;33m\u001b[0m\u001b[1;33m\u001b[0m\u001b[0m\n\u001b[1;32m----> 4\u001b[1;33m         \u001b[0mcolor\u001b[0m \u001b[1;33m+=\u001b[0m\u001b[1;36m1\u001b[0m\u001b[1;33m\u001b[0m\u001b[1;33m\u001b[0m\u001b[0m\n\u001b[0m\u001b[0;32m      5\u001b[0m     \u001b[1;32mreturn\u001b[0m \u001b[0mcolor\u001b[0m\u001b[1;33m\u001b[0m\u001b[1;33m\u001b[0m\u001b[0m\n",
      "\u001b[1;31mKeyboardInterrupt\u001b[0m: "
     ]
    }
   ],
   "source": [
    "reordered_greedy(edges,n_points,1,4000)"
   ]
  },
  {
   "cell_type": "code",
   "execution_count": 130,
   "metadata": {
    "ExecuteTime": {
     "end_time": "2021-05-22T16:10:42.835897Z",
     "start_time": "2021-05-22T16:10:16.756254Z"
    }
   },
   "outputs": [
    {
     "name": "stdout",
     "output_type": "stream",
     "text": [
      "> \u001b[1;32m<ipython-input-128-802521fa438c>\u001b[0m(9)\u001b[0;36mshuffle_groups\u001b[1;34m()\u001b[0m\n",
      "\u001b[1;32m      7 \u001b[1;33m    \u001b[0mnew_groups\u001b[0m \u001b[1;33m=\u001b[0m \u001b[1;33m[\u001b[0m\u001b[0msort_by_degree\u001b[0m\u001b[1;33m(\u001b[0m\u001b[0mdegrees\u001b[0m\u001b[1;33m,\u001b[0m \u001b[0mgroup\u001b[0m\u001b[1;33m)\u001b[0m \u001b[1;32mfor\u001b[0m \u001b[0mgroup\u001b[0m \u001b[1;32min\u001b[0m \u001b[0mgroups\u001b[0m\u001b[1;33m.\u001b[0m\u001b[0mcopy\u001b[0m\u001b[1;33m(\u001b[0m\u001b[1;33m)\u001b[0m\u001b[1;33m]\u001b[0m\u001b[1;33m\u001b[0m\u001b[1;33m\u001b[0m\u001b[0m\n",
      "\u001b[0m\u001b[1;32m      8 \u001b[1;33m    \u001b[0mnp\u001b[0m\u001b[1;33m.\u001b[0m\u001b[0mrandom\u001b[0m\u001b[1;33m.\u001b[0m\u001b[0mshuffle\u001b[0m\u001b[1;33m(\u001b[0m\u001b[0mnew_groups\u001b[0m\u001b[1;33m)\u001b[0m\u001b[1;33m\u001b[0m\u001b[1;33m\u001b[0m\u001b[0m\n",
      "\u001b[0m\u001b[1;32m----> 9 \u001b[1;33m    \u001b[0mnew_idx\u001b[0m \u001b[1;33m=\u001b[0m \u001b[0msum\u001b[0m\u001b[1;33m(\u001b[0m\u001b[0mnew_groups\u001b[0m\u001b[1;33m,\u001b[0m\u001b[0mstart\u001b[0m \u001b[1;33m=\u001b[0m \u001b[1;33m[\u001b[0m\u001b[1;33m]\u001b[0m\u001b[1;33m)\u001b[0m\u001b[1;33m\u001b[0m\u001b[1;33m\u001b[0m\u001b[0m\n",
      "\u001b[0m\u001b[1;32m     10 \u001b[1;33m    \u001b[1;32mreturn\u001b[0m \u001b[0mnew_idx\u001b[0m\u001b[1;33m\u001b[0m\u001b[1;33m\u001b[0m\u001b[0m\n",
      "\u001b[0m\u001b[1;32m     11 \u001b[1;33m\u001b[1;33m\u001b[0m\u001b[0m\n",
      "\u001b[0m\n",
      "ipdb> p new_groups\n",
      "[array([49,  7, 48, 44, 16, 10, 26, 22, 33, 36, 12,  4, 29, 20, 42, 31],\n",
      "      dtype=int64), array([0], dtype=int64), array([11, 46, 43,  5, 38, 23, 21], dtype=int64), array([47, 19, 40, 32,  2, 25, 18, 45, 39, 24, 13,  6, 34, 28],\n",
      "      dtype=int64), array([30, 27,  8, 41,  3, 17, 15, 14, 37, 35,  1,  9], dtype=int64)]\n",
      "ipdb> q\n"
     ]
    }
   ],
   "source": [
    "%debug"
   ]
  },
  {
   "cell_type": "code",
   "execution_count": 135,
   "metadata": {
    "ExecuteTime": {
     "end_time": "2021-05-22T16:14:15.931217Z",
     "start_time": "2021-05-22T16:14:15.923201Z"
    }
   },
   "outputs": [
    {
     "data": {
      "text/plain": [
       "array([1, 2, 3, 4, 8])"
      ]
     },
     "execution_count": 135,
     "metadata": {},
     "output_type": "execute_result"
    }
   ],
   "source": [
    "np.concatenate([np.array([1,2]),np.array([3,4,8])])"
   ]
  },
  {
   "cell_type": "code",
   "execution_count": null,
   "metadata": {},
   "outputs": [],
   "source": []
  }
 ],
 "metadata": {
  "jupytext": {
   "formats": "ipynb,py"
  },
  "kernelspec": {
   "display_name": "Python 3",
   "language": "python",
   "name": "python3"
  },
  "language_info": {
   "codemirror_mode": {
    "name": "ipython",
    "version": 3
   },
   "file_extension": ".py",
   "mimetype": "text/x-python",
   "name": "python",
   "nbconvert_exporter": "python",
   "pygments_lexer": "ipython3",
   "version": "3.8.3"
  },
  "toc": {
   "base_numbering": 1,
   "nav_menu": {},
   "number_sections": true,
   "sideBar": true,
   "skip_h1_title": false,
   "title_cell": "Table of Contents",
   "title_sidebar": "Contents",
   "toc_cell": false,
   "toc_position": {},
   "toc_section_display": true,
   "toc_window_display": false
  },
  "varInspector": {
   "cols": {
    "lenName": 16,
    "lenType": 16,
    "lenVar": 40
   },
   "kernels_config": {
    "python": {
     "delete_cmd_postfix": "",
     "delete_cmd_prefix": "del ",
     "library": "var_list.py",
     "varRefreshCmd": "print(var_dic_list())"
    },
    "r": {
     "delete_cmd_postfix": ") ",
     "delete_cmd_prefix": "rm(",
     "library": "var_list.r",
     "varRefreshCmd": "cat(var_dic_list()) "
    }
   },
   "types_to_exclude": [
    "module",
    "function",
    "builtin_function_or_method",
    "instance",
    "_Feature"
   ],
   "window_display": false
  }
 },
 "nbformat": 4,
 "nbformat_minor": 4
}
